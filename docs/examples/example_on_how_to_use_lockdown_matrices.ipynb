{
 "cells": [
  {
   "cell_type": "markdown",
   "metadata": {},
   "source": [
    "# This is an example of how the lockdown matrices work"
   ]
  },
  {
   "cell_type": "markdown",
   "metadata": {},
   "source": [
    "## In this example, we generate an agent, and we select a number of actions based on the probability outlined in the lockdown matrix of the type \"easy\"."
   ]
  },
  {
   "cell_type": "code",
   "execution_count": 5,
   "metadata": {
    "tags": [
     "nbsphinx-gallery"
    ]
   },
   "outputs": [],
   "source": [
    "import sys\n",
    "sys.path.append(\"../\")"
   ]
  },
  {
   "cell_type": "code",
   "execution_count": 7,
   "metadata": {
    "tags": [
     "nbsphinx-gallery"
    ]
   },
   "outputs": [],
   "source": [
    "import pandas as pd\n",
    "import numpy as np\n",
    "import matplotlib.pyplot as plt\n",
    "\n",
    "from comma.individual import Individual"
   ]
  },
  {
   "cell_type": "code",
   "execution_count": 8,
   "metadata": {
    "collapsed": false,
    "jupyter": {
     "outputs_hidden": false
    },
    "tags": [
     "nbsphinx-gallery"
    ]
   },
   "outputs": [],
   "source": [
    "dir_params = '../parameters_example/' # this is our folder where we store all the matrices\n",
    "lockdown = 'easy' # this is the lockdown we select for this example"
   ]
  },
  {
   "cell_type": "markdown",
   "metadata": {
    "tags": [
     "nbsphinx-gallery"
    ]
   },
   "source": [
    "## Step 1: Generate an individual"
   ]
  },
  {
   "cell_type": "markdown",
   "metadata": {
    "tags": [
     "nbsphinx-gallery"
    ]
   },
   "source": [
    "#### Individuals are generated based on the parameters we have specified in the `params_individual.json`. The function `populate` will upload these info automatically, and we need to specify only how many individuals we want. Since this is an example we want only 1 agent, so we specify 1."
   ]
  },
  {
   "cell_type": "code",
   "execution_count": 9,
   "metadata": {
    "collapsed": false,
    "jupyter": {
     "outputs_hidden": false
    },
    "tags": [
     "nbsphinx-gallery"
    ]
   },
   "outputs": [],
   "source": [
    "agent = Individual.populate(1, dir_params)"
   ]
  },
  {
   "cell_type": "markdown",
   "metadata": {
    "tags": [
     "nbsphinx-gallery"
    ]
   },
   "source": [
    "#### Let's visualise the agent' features:"
   ]
  },
  {
   "cell_type": "code",
   "execution_count": 10,
   "metadata": {
    "collapsed": false,
    "jupyter": {
     "outputs_hidden": false
    },
    "tags": [
     "nbsphinx-gallery"
    ]
   },
   "outputs": [
    {
     "data": {
      "text/plain": [
       "gender                             1\n",
       "pre_existing_depression            0\n",
       "pre_existing_burnout               1\n",
       "pre_existing_addiction             0\n",
       "pre_existing_chronic_fatigue       0\n",
       "parenthood                         0\n",
       "living_with_child                  1\n",
       "single_parent                      0\n",
       "age_group__1                       1\n",
       "education_High                     1\n",
       "employed_No, other                 1\n",
       "partnership_status_Single          1\n",
       "housing_difficulties_No            1\n",
       "finance_difficulties_No            1\n",
       "pre_existing_health_issues_Many    1\n",
       "partner_difficulties_No            1\n",
       "job_type_medical_professional      1\n",
       "area_rural                         1\n",
       "ses_medium                         1\n",
       "Name: 0, dtype: int64"
      ]
     },
     "execution_count": 10,
     "metadata": {},
     "output_type": "execute_result"
    }
   ],
   "source": [
    "agent[0].get_features()"
   ]
  },
  {
   "cell_type": "markdown",
   "metadata": {
    "tags": [
     "nbsphinx-gallery"
    ]
   },
   "source": [
    "#### Now, we use the function `choose_actions_on_lockdown`. This function will take as argument the type of lockdown, in this case is `easy` and it will look for the corresponding lockdown file in the folder. In this case is `lockdown_easy.csv`.\n",
    "\n",
    "#### This function takes in the betas outlined in the `lockdown_easy.csv` file as input, and gives us as output:\n",
    "\n",
    "#### 1) a list of length equal to the maximum number of actions of True and False\n",
    "#### 2) a list of probabilities that go between 0 and 1"
   ]
  },
  {
   "cell_type": "markdown",
   "metadata": {
    "tags": [
     "nbsphinx-gallery"
    ]
   },
   "source": [
    "## Step 2: Select the actions"
   ]
  },
  {
   "cell_type": "code",
   "execution_count": 11,
   "metadata": {
    "collapsed": false,
    "jupyter": {
     "outputs_hidden": false
    },
    "tags": [
     "nbsphinx-gallery"
    ]
   },
   "outputs": [
    {
     "data": {
      "text/plain": [
       "(0    False\n",
       " 1     True\n",
       " 2    False\n",
       " 3     True\n",
       " 4     True\n",
       " 5     True\n",
       " 6    False\n",
       " 7     True\n",
       " 8     True\n",
       " 9     True\n",
       " dtype: bool,\n",
       " 0    0.978119\n",
       " 1    0.524979\n",
       " 2    0.310026\n",
       " 3    0.731059\n",
       " 4    0.924142\n",
       " 5    0.817574\n",
       " 6    0.500000\n",
       " 7    0.500000\n",
       " 8    0.500000\n",
       " 9    0.964429\n",
       " dtype: float64)"
      ]
     },
     "execution_count": 11,
     "metadata": {},
     "output_type": "execute_result"
    }
   ],
   "source": [
    "agent[0].choose_actions_on_lockdown(lockdown)"
   ]
  },
  {
   "cell_type": "markdown",
   "metadata": {
    "tags": [
     "nbsphinx-gallery"
    ]
   },
   "source": [
    "# `choose_actions_on_lockdown` explained step by step"
   ]
  },
  {
   "cell_type": "markdown",
   "metadata": {
    "tags": [
     "nbsphinx-gallery"
    ]
   },
   "source": [
    "#### Let's unpack what does happen in `choose_actions_on_lockdown`. Let's explicitly load in this notebook `lockdown_easy.csv` and take a look at the dataframe."
   ]
  },
  {
   "cell_type": "code",
   "execution_count": 13,
   "metadata": {
    "collapsed": false,
    "jupyter": {
     "outputs_hidden": false
    },
    "tags": [
     "nbsphinx-gallery"
    ]
   },
   "outputs": [
    {
     "data": {
      "text/html": [
       "<div>\n",
       "<style scoped>\n",
       "    .dataframe tbody tr th:only-of-type {\n",
       "        vertical-align: middle;\n",
       "    }\n",
       "\n",
       "    .dataframe tbody tr th {\n",
       "        vertical-align: top;\n",
       "    }\n",
       "\n",
       "    .dataframe thead th {\n",
       "        text-align: right;\n",
       "    }\n",
       "</style>\n",
       "<table border=\"1\" class=\"dataframe\">\n",
       "  <thead>\n",
       "    <tr style=\"text-align: right;\">\n",
       "      <th></th>\n",
       "      <th>actions</th>\n",
       "      <th>baseline</th>\n",
       "      <th>name</th>\n",
       "      <th>gender</th>\n",
       "      <th>age</th>\n",
       "      <th>pre_existing_depression</th>\n",
       "      <th>pre_existing_burnout</th>\n",
       "      <th>pre_existing_addiction</th>\n",
       "      <th>pre_existing_chronic_fatigue</th>\n",
       "      <th>parenthood</th>\n",
       "      <th>...</th>\n",
       "      <th>partner_difficulties_Other</th>\n",
       "      <th>job_type_key_worker</th>\n",
       "      <th>job_type_medical_professional</th>\n",
       "      <th>job_type_other</th>\n",
       "      <th>job_type_white_collar</th>\n",
       "      <th>area_urban</th>\n",
       "      <th>area_rural</th>\n",
       "      <th>ses_high</th>\n",
       "      <th>ses_medium</th>\n",
       "      <th>ses_low</th>\n",
       "    </tr>\n",
       "  </thead>\n",
       "  <tbody>\n",
       "    <tr>\n",
       "      <th>0</th>\n",
       "      <td>go_to_work</td>\n",
       "      <td>0.9</td>\n",
       "      <td>0.0</td>\n",
       "      <td>0.0</td>\n",
       "      <td>0.0</td>\n",
       "      <td>0.0</td>\n",
       "      <td>0.0</td>\n",
       "      <td>0.0</td>\n",
       "      <td>0.0</td>\n",
       "      <td>0.0</td>\n",
       "      <td>...</td>\n",
       "      <td>0.0</td>\n",
       "      <td>1.0</td>\n",
       "      <td>1.0</td>\n",
       "      <td>0.5</td>\n",
       "      <td>0.3</td>\n",
       "      <td>0.8</td>\n",
       "      <td>0.8</td>\n",
       "      <td>0</td>\n",
       "      <td>0.0</td>\n",
       "      <td>0.0</td>\n",
       "    </tr>\n",
       "    <tr>\n",
       "      <th>1</th>\n",
       "      <td>maintain_physical_distance</td>\n",
       "      <td>0.2</td>\n",
       "      <td>0.0</td>\n",
       "      <td>0.0</td>\n",
       "      <td>0.0</td>\n",
       "      <td>0.0</td>\n",
       "      <td>0.0</td>\n",
       "      <td>0.0</td>\n",
       "      <td>0.0</td>\n",
       "      <td>0.0</td>\n",
       "      <td>...</td>\n",
       "      <td>0.0</td>\n",
       "      <td>0.3</td>\n",
       "      <td>0.2</td>\n",
       "      <td>0.5</td>\n",
       "      <td>0.5</td>\n",
       "      <td>0.5</td>\n",
       "      <td>0.9</td>\n",
       "      <td>0</td>\n",
       "      <td>0.0</td>\n",
       "      <td>0.0</td>\n",
       "    </tr>\n",
       "    <tr>\n",
       "      <th>2</th>\n",
       "      <td>stay_at_home</td>\n",
       "      <td>0.0</td>\n",
       "      <td>0.0</td>\n",
       "      <td>0.0</td>\n",
       "      <td>0.0</td>\n",
       "      <td>0.0</td>\n",
       "      <td>0.0</td>\n",
       "      <td>0.0</td>\n",
       "      <td>0.0</td>\n",
       "      <td>0.0</td>\n",
       "      <td>...</td>\n",
       "      <td>0.0</td>\n",
       "      <td>0.0</td>\n",
       "      <td>0.0</td>\n",
       "      <td>0.5</td>\n",
       "      <td>0.7</td>\n",
       "      <td>0.2</td>\n",
       "      <td>0.2</td>\n",
       "      <td>0</td>\n",
       "      <td>0.0</td>\n",
       "      <td>0.0</td>\n",
       "    </tr>\n",
       "    <tr>\n",
       "      <th>3</th>\n",
       "      <td>exercise</td>\n",
       "      <td>1.0</td>\n",
       "      <td>0.0</td>\n",
       "      <td>0.0</td>\n",
       "      <td>0.0</td>\n",
       "      <td>0.0</td>\n",
       "      <td>0.0</td>\n",
       "      <td>0.0</td>\n",
       "      <td>0.0</td>\n",
       "      <td>0.0</td>\n",
       "      <td>...</td>\n",
       "      <td>0.0</td>\n",
       "      <td>0.0</td>\n",
       "      <td>0.0</td>\n",
       "      <td>0.0</td>\n",
       "      <td>0.0</td>\n",
       "      <td>1.0</td>\n",
       "      <td>1.0</td>\n",
       "      <td>0</td>\n",
       "      <td>0.0</td>\n",
       "      <td>0.0</td>\n",
       "    </tr>\n",
       "    <tr>\n",
       "      <th>4</th>\n",
       "      <td>socialise</td>\n",
       "      <td>1.0</td>\n",
       "      <td>0.0</td>\n",
       "      <td>0.0</td>\n",
       "      <td>0.0</td>\n",
       "      <td>0.0</td>\n",
       "      <td>0.0</td>\n",
       "      <td>0.0</td>\n",
       "      <td>0.0</td>\n",
       "      <td>0.0</td>\n",
       "      <td>...</td>\n",
       "      <td>0.0</td>\n",
       "      <td>0.5</td>\n",
       "      <td>0.5</td>\n",
       "      <td>0.6</td>\n",
       "      <td>0.6</td>\n",
       "      <td>1.0</td>\n",
       "      <td>1.0</td>\n",
       "      <td>0</td>\n",
       "      <td>0.0</td>\n",
       "      <td>0.0</td>\n",
       "    </tr>\n",
       "  </tbody>\n",
       "</table>\n",
       "<p>5 rows × 49 columns</p>\n",
       "</div>"
      ],
      "text/plain": [
       "                      actions  baseline  name  gender  age  \\\n",
       "0                  go_to_work       0.9   0.0     0.0  0.0   \n",
       "1  maintain_physical_distance       0.2   0.0     0.0  0.0   \n",
       "2                stay_at_home       0.0   0.0     0.0  0.0   \n",
       "3                    exercise       1.0   0.0     0.0  0.0   \n",
       "4                   socialise       1.0   0.0     0.0  0.0   \n",
       "\n",
       "   pre_existing_depression  pre_existing_burnout  pre_existing_addiction  \\\n",
       "0                      0.0                   0.0                     0.0   \n",
       "1                      0.0                   0.0                     0.0   \n",
       "2                      0.0                   0.0                     0.0   \n",
       "3                      0.0                   0.0                     0.0   \n",
       "4                      0.0                   0.0                     0.0   \n",
       "\n",
       "   pre_existing_chronic_fatigue  parenthood  ...  partner_difficulties_Other  \\\n",
       "0                           0.0         0.0  ...                         0.0   \n",
       "1                           0.0         0.0  ...                         0.0   \n",
       "2                           0.0         0.0  ...                         0.0   \n",
       "3                           0.0         0.0  ...                         0.0   \n",
       "4                           0.0         0.0  ...                         0.0   \n",
       "\n",
       "   job_type_key_worker  job_type_medical_professional  job_type_other  \\\n",
       "0                  1.0                            1.0             0.5   \n",
       "1                  0.3                            0.2             0.5   \n",
       "2                  0.0                            0.0             0.5   \n",
       "3                  0.0                            0.0             0.0   \n",
       "4                  0.5                            0.5             0.6   \n",
       "\n",
       "   job_type_white_collar  area_urban  area_rural  ses_high  ses_medium  \\\n",
       "0                    0.3         0.8         0.8         0         0.0   \n",
       "1                    0.5         0.5         0.9         0         0.0   \n",
       "2                    0.7         0.2         0.2         0         0.0   \n",
       "3                    0.0         1.0         1.0         0         0.0   \n",
       "4                    0.6         1.0         1.0         0         0.0   \n",
       "\n",
       "   ses_low  \n",
       "0      0.0  \n",
       "1      0.0  \n",
       "2      0.0  \n",
       "3      0.0  \n",
       "4      0.0  \n",
       "\n",
       "[5 rows x 49 columns]"
      ]
     },
     "execution_count": 13,
     "metadata": {},
     "output_type": "execute_result"
    }
   ],
   "source": [
    "easy_df = pd.read_csv('../parameters_example/lockdown_easy.csv', sep=\";\")\n",
    "easy_df.head()"
   ]
  },
  {
   "cell_type": "markdown",
   "metadata": {
    "tags": [
     "nbsphinx-gallery"
    ]
   },
   "source": [
    "#### The matrix specifies betas that follow a sigmoid distribution (from -5 to +5). Below the sigmoid distribution:"
   ]
  },
  {
   "attachments": {
    "298dc2a9-a51b-4638-9dde-6278432ac90f.png": {
     "image/png": "[encoded data removed]"
    }
   },
   "cell_type": "markdown",
   "metadata": {
    "tags": [
     "nbsphinx-gallery"
    ]
   },
   "source": [
    "![Screenshot 2023-06-01 at 17.02.15.png](attachment:298dc2a9-a51b-4638-9dde-6278432ac90f.png) "
   ]
  },
  {
   "cell_type": "markdown",
   "metadata": {
    "jupyter": {
     "outputs_hidden": false
    },
    "tags": [
     "nbsphinx-gallery"
    ]
   },
   "source": [
    "#### - If all betas are 0, the probability of A is 0.5.\n",
    "#### - When the sum of beta is roughly 5, the action is almost certain to happen (~99% probability)\n",
    "#### - When the sum of beta is ~ -5, the action is almost impossible (p<1%)"
   ]
  },
  {
   "cell_type": "markdown",
   "metadata": {
    "tags": [
     "nbsphinx-gallery"
    ]
   },
   "source": [
    "### After loading tha dataframe, the function then goes on in tidying it up, and dropping the first column \"actions\", as we need to discard any value that is not numeric. "
   ]
  },
  {
   "cell_type": "code",
   "execution_count": 14,
   "metadata": {
    "collapsed": false,
    "jupyter": {
     "outputs_hidden": false
    },
    "tags": [
     "nbsphinx-gallery"
    ]
   },
   "outputs": [],
   "source": [
    "cols = agent[0].get_features().index\n",
    "easy_df['actions'] = easy_df['actions'].astype('category')"
   ]
  },
  {
   "cell_type": "code",
   "execution_count": 15,
   "metadata": {
    "collapsed": false,
    "jupyter": {
     "outputs_hidden": false
    },
    "tags": [
     "nbsphinx-gallery"
    ]
   },
   "outputs": [],
   "source": [
    "easy_df['actions'] = easy_df['actions'].cat.set_categories(agent[0].actions)\n",
    "df = easy_df.sort_values(by='actions', ignore_index=True)\n",
    "\n",
    "# get and sort desired columns\n",
    "df = df[cols]"
   ]
  },
  {
   "cell_type": "markdown",
   "metadata": {
    "tags": [
     "nbsphinx-gallery"
    ]
   },
   "source": [
    "### At the end of this step, we have a dataframe `df` made of 10 rows (one for each action) and 19 columns (one for each agent feature)."
   ]
  },
  {
   "cell_type": "code",
   "execution_count": 18,
   "metadata": {
    "collapsed": false,
    "jupyter": {
     "outputs_hidden": false
    },
    "tags": [
     "nbsphinx-gallery"
    ]
   },
   "outputs": [
    {
     "data": {
      "text/plain": [
       "(10, 19)"
      ]
     },
     "execution_count": 18,
     "metadata": {},
     "output_type": "execute_result"
    }
   ],
   "source": [
    "df[cols].shape"
   ]
  },
  {
   "cell_type": "code",
   "execution_count": 19,
   "metadata": {
    "collapsed": false,
    "jupyter": {
     "outputs_hidden": false
    },
    "tags": [
     "nbsphinx-gallery"
    ]
   },
   "outputs": [
    {
     "data": {
      "text/html": [
       "<div>\n",
       "<style scoped>\n",
       "    .dataframe tbody tr th:only-of-type {\n",
       "        vertical-align: middle;\n",
       "    }\n",
       "\n",
       "    .dataframe tbody tr th {\n",
       "        vertical-align: top;\n",
       "    }\n",
       "\n",
       "    .dataframe thead th {\n",
       "        text-align: right;\n",
       "    }\n",
       "</style>\n",
       "<table border=\"1\" class=\"dataframe\">\n",
       "  <thead>\n",
       "    <tr style=\"text-align: right;\">\n",
       "      <th></th>\n",
       "      <th>gender</th>\n",
       "      <th>pre_existing_depression</th>\n",
       "      <th>pre_existing_burnout</th>\n",
       "      <th>pre_existing_addiction</th>\n",
       "      <th>pre_existing_chronic_fatigue</th>\n",
       "      <th>parenthood</th>\n",
       "      <th>living_with_child</th>\n",
       "      <th>single_parent</th>\n",
       "      <th>age_group__1</th>\n",
       "      <th>education_High</th>\n",
       "      <th>employed_No, other</th>\n",
       "      <th>partnership_status_Single</th>\n",
       "      <th>housing_difficulties_No</th>\n",
       "      <th>finance_difficulties_No</th>\n",
       "      <th>pre_existing_health_issues_Many</th>\n",
       "      <th>partner_difficulties_No</th>\n",
       "      <th>job_type_medical_professional</th>\n",
       "      <th>area_rural</th>\n",
       "      <th>ses_medium</th>\n",
       "    </tr>\n",
       "  </thead>\n",
       "  <tbody>\n",
       "    <tr>\n",
       "      <th>0</th>\n",
       "      <td>0.0</td>\n",
       "      <td>0.0</td>\n",
       "      <td>0.0</td>\n",
       "      <td>0.0</td>\n",
       "      <td>0.0</td>\n",
       "      <td>0.0</td>\n",
       "      <td>0.0</td>\n",
       "      <td>0.0</td>\n",
       "      <td>1.0</td>\n",
       "      <td>1.0</td>\n",
       "      <td>0.0</td>\n",
       "      <td>0.0</td>\n",
       "      <td>0.0</td>\n",
       "      <td>0.0</td>\n",
       "      <td>0.0</td>\n",
       "      <td>0.0</td>\n",
       "      <td>1.0</td>\n",
       "      <td>0.8</td>\n",
       "      <td>0.0</td>\n",
       "    </tr>\n",
       "    <tr>\n",
       "      <th>1</th>\n",
       "      <td>0.0</td>\n",
       "      <td>0.0</td>\n",
       "      <td>0.0</td>\n",
       "      <td>0.0</td>\n",
       "      <td>0.0</td>\n",
       "      <td>0.0</td>\n",
       "      <td>0.0</td>\n",
       "      <td>0.0</td>\n",
       "      <td>0.0</td>\n",
       "      <td>0.0</td>\n",
       "      <td>0.0</td>\n",
       "      <td>-1.0</td>\n",
       "      <td>0.0</td>\n",
       "      <td>0.0</td>\n",
       "      <td>0.0</td>\n",
       "      <td>0.0</td>\n",
       "      <td>0.2</td>\n",
       "      <td>0.9</td>\n",
       "      <td>0.0</td>\n",
       "    </tr>\n",
       "    <tr>\n",
       "      <th>2</th>\n",
       "      <td>0.0</td>\n",
       "      <td>0.0</td>\n",
       "      <td>0.0</td>\n",
       "      <td>0.0</td>\n",
       "      <td>0.0</td>\n",
       "      <td>0.0</td>\n",
       "      <td>0.0</td>\n",
       "      <td>0.0</td>\n",
       "      <td>0.0</td>\n",
       "      <td>0.0</td>\n",
       "      <td>0.0</td>\n",
       "      <td>-1.0</td>\n",
       "      <td>0.0</td>\n",
       "      <td>0.0</td>\n",
       "      <td>0.0</td>\n",
       "      <td>0.0</td>\n",
       "      <td>0.0</td>\n",
       "      <td>0.2</td>\n",
       "      <td>0.0</td>\n",
       "    </tr>\n",
       "    <tr>\n",
       "      <th>3</th>\n",
       "      <td>0.0</td>\n",
       "      <td>0.0</td>\n",
       "      <td>0.0</td>\n",
       "      <td>0.0</td>\n",
       "      <td>0.0</td>\n",
       "      <td>0.0</td>\n",
       "      <td>0.0</td>\n",
       "      <td>0.0</td>\n",
       "      <td>0.0</td>\n",
       "      <td>0.0</td>\n",
       "      <td>0.0</td>\n",
       "      <td>0.0</td>\n",
       "      <td>0.0</td>\n",
       "      <td>0.0</td>\n",
       "      <td>0.0</td>\n",
       "      <td>0.0</td>\n",
       "      <td>0.0</td>\n",
       "      <td>1.0</td>\n",
       "      <td>0.0</td>\n",
       "    </tr>\n",
       "    <tr>\n",
       "      <th>4</th>\n",
       "      <td>0.0</td>\n",
       "      <td>0.0</td>\n",
       "      <td>0.0</td>\n",
       "      <td>0.0</td>\n",
       "      <td>0.0</td>\n",
       "      <td>0.0</td>\n",
       "      <td>0.0</td>\n",
       "      <td>0.0</td>\n",
       "      <td>1.0</td>\n",
       "      <td>0.0</td>\n",
       "      <td>0.0</td>\n",
       "      <td>0.0</td>\n",
       "      <td>0.0</td>\n",
       "      <td>0.0</td>\n",
       "      <td>0.0</td>\n",
       "      <td>0.0</td>\n",
       "      <td>0.5</td>\n",
       "      <td>1.0</td>\n",
       "      <td>0.0</td>\n",
       "    </tr>\n",
       "    <tr>\n",
       "      <th>5</th>\n",
       "      <td>0.0</td>\n",
       "      <td>0.0</td>\n",
       "      <td>0.0</td>\n",
       "      <td>0.0</td>\n",
       "      <td>0.0</td>\n",
       "      <td>0.0</td>\n",
       "      <td>0.0</td>\n",
       "      <td>0.0</td>\n",
       "      <td>1.0</td>\n",
       "      <td>0.0</td>\n",
       "      <td>0.0</td>\n",
       "      <td>0.0</td>\n",
       "      <td>0.0</td>\n",
       "      <td>0.0</td>\n",
       "      <td>0.0</td>\n",
       "      <td>0.0</td>\n",
       "      <td>0.0</td>\n",
       "      <td>0.5</td>\n",
       "      <td>0.0</td>\n",
       "    </tr>\n",
       "    <tr>\n",
       "      <th>6</th>\n",
       "      <td>0.0</td>\n",
       "      <td>0.0</td>\n",
       "      <td>0.0</td>\n",
       "      <td>0.0</td>\n",
       "      <td>0.0</td>\n",
       "      <td>0.0</td>\n",
       "      <td>0.0</td>\n",
       "      <td>0.0</td>\n",
       "      <td>0.0</td>\n",
       "      <td>0.0</td>\n",
       "      <td>0.0</td>\n",
       "      <td>0.0</td>\n",
       "      <td>0.0</td>\n",
       "      <td>0.0</td>\n",
       "      <td>0.0</td>\n",
       "      <td>0.0</td>\n",
       "      <td>0.0</td>\n",
       "      <td>0.0</td>\n",
       "      <td>0.0</td>\n",
       "    </tr>\n",
       "    <tr>\n",
       "      <th>7</th>\n",
       "      <td>0.0</td>\n",
       "      <td>0.0</td>\n",
       "      <td>0.0</td>\n",
       "      <td>0.0</td>\n",
       "      <td>0.0</td>\n",
       "      <td>0.0</td>\n",
       "      <td>0.0</td>\n",
       "      <td>0.0</td>\n",
       "      <td>0.0</td>\n",
       "      <td>0.0</td>\n",
       "      <td>0.0</td>\n",
       "      <td>0.0</td>\n",
       "      <td>0.0</td>\n",
       "      <td>0.0</td>\n",
       "      <td>0.0</td>\n",
       "      <td>0.0</td>\n",
       "      <td>0.0</td>\n",
       "      <td>0.0</td>\n",
       "      <td>0.0</td>\n",
       "    </tr>\n",
       "    <tr>\n",
       "      <th>8</th>\n",
       "      <td>0.0</td>\n",
       "      <td>0.0</td>\n",
       "      <td>0.0</td>\n",
       "      <td>0.0</td>\n",
       "      <td>0.0</td>\n",
       "      <td>0.0</td>\n",
       "      <td>0.0</td>\n",
       "      <td>0.0</td>\n",
       "      <td>0.0</td>\n",
       "      <td>0.0</td>\n",
       "      <td>0.0</td>\n",
       "      <td>0.0</td>\n",
       "      <td>0.0</td>\n",
       "      <td>0.0</td>\n",
       "      <td>0.0</td>\n",
       "      <td>0.0</td>\n",
       "      <td>0.0</td>\n",
       "      <td>0.0</td>\n",
       "      <td>0.0</td>\n",
       "    </tr>\n",
       "    <tr>\n",
       "      <th>9</th>\n",
       "      <td>0.0</td>\n",
       "      <td>0.0</td>\n",
       "      <td>0.0</td>\n",
       "      <td>0.0</td>\n",
       "      <td>0.0</td>\n",
       "      <td>0.0</td>\n",
       "      <td>0.0</td>\n",
       "      <td>0.0</td>\n",
       "      <td>1.0</td>\n",
       "      <td>1.0</td>\n",
       "      <td>0.0</td>\n",
       "      <td>0.0</td>\n",
       "      <td>0.0</td>\n",
       "      <td>0.0</td>\n",
       "      <td>0.0</td>\n",
       "      <td>0.0</td>\n",
       "      <td>0.5</td>\n",
       "      <td>0.0</td>\n",
       "      <td>0.8</td>\n",
       "    </tr>\n",
       "  </tbody>\n",
       "</table>\n",
       "</div>"
      ],
      "text/plain": [
       "   gender  pre_existing_depression  pre_existing_burnout  \\\n",
       "0     0.0                      0.0                   0.0   \n",
       "1     0.0                      0.0                   0.0   \n",
       "2     0.0                      0.0                   0.0   \n",
       "3     0.0                      0.0                   0.0   \n",
       "4     0.0                      0.0                   0.0   \n",
       "5     0.0                      0.0                   0.0   \n",
       "6     0.0                      0.0                   0.0   \n",
       "7     0.0                      0.0                   0.0   \n",
       "8     0.0                      0.0                   0.0   \n",
       "9     0.0                      0.0                   0.0   \n",
       "\n",
       "   pre_existing_addiction  pre_existing_chronic_fatigue  parenthood  \\\n",
       "0                     0.0                           0.0         0.0   \n",
       "1                     0.0                           0.0         0.0   \n",
       "2                     0.0                           0.0         0.0   \n",
       "3                     0.0                           0.0         0.0   \n",
       "4                     0.0                           0.0         0.0   \n",
       "5                     0.0                           0.0         0.0   \n",
       "6                     0.0                           0.0         0.0   \n",
       "7                     0.0                           0.0         0.0   \n",
       "8                     0.0                           0.0         0.0   \n",
       "9                     0.0                           0.0         0.0   \n",
       "\n",
       "   living_with_child  single_parent  age_group__1  education_High  \\\n",
       "0                0.0            0.0           1.0             1.0   \n",
       "1                0.0            0.0           0.0             0.0   \n",
       "2                0.0            0.0           0.0             0.0   \n",
       "3                0.0            0.0           0.0             0.0   \n",
       "4                0.0            0.0           1.0             0.0   \n",
       "5                0.0            0.0           1.0             0.0   \n",
       "6                0.0            0.0           0.0             0.0   \n",
       "7                0.0            0.0           0.0             0.0   \n",
       "8                0.0            0.0           0.0             0.0   \n",
       "9                0.0            0.0           1.0             1.0   \n",
       "\n",
       "   employed_No, other  partnership_status_Single  housing_difficulties_No  \\\n",
       "0                 0.0                        0.0                      0.0   \n",
       "1                 0.0                       -1.0                      0.0   \n",
       "2                 0.0                       -1.0                      0.0   \n",
       "3                 0.0                        0.0                      0.0   \n",
       "4                 0.0                        0.0                      0.0   \n",
       "5                 0.0                        0.0                      0.0   \n",
       "6                 0.0                        0.0                      0.0   \n",
       "7                 0.0                        0.0                      0.0   \n",
       "8                 0.0                        0.0                      0.0   \n",
       "9                 0.0                        0.0                      0.0   \n",
       "\n",
       "   finance_difficulties_No  pre_existing_health_issues_Many  \\\n",
       "0                      0.0                              0.0   \n",
       "1                      0.0                              0.0   \n",
       "2                      0.0                              0.0   \n",
       "3                      0.0                              0.0   \n",
       "4                      0.0                              0.0   \n",
       "5                      0.0                              0.0   \n",
       "6                      0.0                              0.0   \n",
       "7                      0.0                              0.0   \n",
       "8                      0.0                              0.0   \n",
       "9                      0.0                              0.0   \n",
       "\n",
       "   partner_difficulties_No  job_type_medical_professional  area_rural  \\\n",
       "0                      0.0                            1.0         0.8   \n",
       "1                      0.0                            0.2         0.9   \n",
       "2                      0.0                            0.0         0.2   \n",
       "3                      0.0                            0.0         1.0   \n",
       "4                      0.0                            0.5         1.0   \n",
       "5                      0.0                            0.0         0.5   \n",
       "6                      0.0                            0.0         0.0   \n",
       "7                      0.0                            0.0         0.0   \n",
       "8                      0.0                            0.0         0.0   \n",
       "9                      0.0                            0.5         0.0   \n",
       "\n",
       "   ses_medium  \n",
       "0         0.0  \n",
       "1         0.0  \n",
       "2         0.0  \n",
       "3         0.0  \n",
       "4         0.0  \n",
       "5         0.0  \n",
       "6         0.0  \n",
       "7         0.0  \n",
       "8         0.0  \n",
       "9         0.8  "
      ]
     },
     "metadata": {},
     "output_type": "display_data"
    }
   ],
   "source": [
    "display(df)"
   ]
  },
  {
   "cell_type": "markdown",
   "metadata": {
    "tags": [
     "nbsphinx-gallery"
    ]
   },
   "source": [
    "### At this point the function proceeds in doing a dot product. The dot product of two vectors is a single number that is the sum of the products of the corresponding entries of the two sequences"
   ]
  },
  {
   "cell_type": "code",
   "execution_count": 21,
   "metadata": {
    "collapsed": false,
    "jupyter": {
     "outputs_hidden": false
    },
    "tags": [
     "nbsphinx-gallery"
    ]
   },
   "outputs": [],
   "source": [
    "agents_features = agent[0].get_features()"
   ]
  },
  {
   "cell_type": "markdown",
   "metadata": {
    "tags": [
     "nbsphinx-gallery"
    ]
   },
   "source": [
    "### Our first vector is the vector of 0s and 1s of the agent's features:"
   ]
  },
  {
   "cell_type": "code",
   "execution_count": 22,
   "metadata": {
    "collapsed": false,
    "jupyter": {
     "outputs_hidden": false
    },
    "tags": [
     "nbsphinx-gallery"
    ]
   },
   "outputs": [
    {
     "data": {
      "text/plain": [
       "gender                             1\n",
       "pre_existing_depression            0\n",
       "pre_existing_burnout               1\n",
       "pre_existing_addiction             0\n",
       "pre_existing_chronic_fatigue       0\n",
       "parenthood                         0\n",
       "living_with_child                  1\n",
       "single_parent                      0\n",
       "age_group__1                       1\n",
       "education_High                     1\n",
       "employed_No, other                 1\n",
       "partnership_status_Single          1\n",
       "housing_difficulties_No            1\n",
       "finance_difficulties_No            1\n",
       "pre_existing_health_issues_Many    1\n",
       "partner_difficulties_No            1\n",
       "job_type_medical_professional      1\n",
       "area_rural                         1\n",
       "ses_medium                         1\n",
       "Name: 0, dtype: int64"
      ]
     },
     "execution_count": 22,
     "metadata": {},
     "output_type": "execute_result"
    }
   ],
   "source": [
    "agents_features"
   ]
  },
  {
   "cell_type": "markdown",
   "metadata": {
    "tags": [
     "nbsphinx-gallery"
    ]
   },
   "source": [
    "### Our second vector is the vector of betas of the first action (we dropped the names because we had to, but the first action was `go_to_work`)."
   ]
  },
  {
   "cell_type": "code",
   "execution_count": 23,
   "metadata": {
    "collapsed": false,
    "jupyter": {
     "outputs_hidden": false
    },
    "tags": [
     "nbsphinx-gallery"
    ]
   },
   "outputs": [
    {
     "data": {
      "text/plain": [
       "gender                             0.0\n",
       "pre_existing_depression            0.0\n",
       "pre_existing_burnout               0.0\n",
       "pre_existing_addiction             0.0\n",
       "pre_existing_chronic_fatigue       0.0\n",
       "parenthood                         0.0\n",
       "living_with_child                  0.0\n",
       "single_parent                      0.0\n",
       "age_group__1                       1.0\n",
       "education_High                     1.0\n",
       "employed_No, other                 0.0\n",
       "partnership_status_Single          0.0\n",
       "housing_difficulties_No            0.0\n",
       "finance_difficulties_No            0.0\n",
       "pre_existing_health_issues_Many    0.0\n",
       "partner_difficulties_No            0.0\n",
       "job_type_medical_professional      1.0\n",
       "area_rural                         0.8\n",
       "ses_medium                         0.0\n",
       "Name: 0, dtype: float64"
      ]
     },
     "execution_count": 23,
     "metadata": {},
     "output_type": "execute_result"
    }
   ],
   "source": [
    "df.iloc[0]"
   ]
  },
  {
   "cell_type": "markdown",
   "metadata": {
    "tags": [
     "nbsphinx-gallery"
    ]
   },
   "source": [
    "### Great. Now we take each value for each vector, we multiply them and sum the total. In python this operation is done by simply saying `.dot()`"
   ]
  },
  {
   "cell_type": "code",
   "execution_count": 25,
   "metadata": {
    "collapsed": false,
    "jupyter": {
     "outputs_hidden": false
    },
    "tags": [
     "nbsphinx-gallery"
    ]
   },
   "outputs": [],
   "source": [
    "dot_matrix = df.iloc[0].dot(agents_features)"
   ]
  },
  {
   "cell_type": "markdown",
   "metadata": {
    "tags": [
     "nbsphinx-gallery"
    ]
   },
   "source": [
    "### This is the result of the dot product:"
   ]
  },
  {
   "cell_type": "code",
   "execution_count": 26,
   "metadata": {
    "collapsed": false,
    "jupyter": {
     "outputs_hidden": false
    },
    "tags": [
     "nbsphinx-gallery"
    ]
   },
   "outputs": [
    {
     "data": {
      "text/plain": [
       "3.8"
      ]
     },
     "execution_count": 26,
     "metadata": {},
     "output_type": "execute_result"
    }
   ],
   "source": [
    "dot_matrix"
   ]
  },
  {
   "cell_type": "markdown",
   "metadata": {
    "tags": [
     "nbsphinx-gallery"
    ]
   },
   "source": [
    "### As one can see, this number doesn't mean anything from a probability point of view. Probabilities go between 0 and 1. How do we convert this number into a probability? The sigmoid function does exactly this, so let's use it."
   ]
  },
  {
   "cell_type": "code",
   "execution_count": 28,
   "metadata": {
    "collapsed": false,
    "jupyter": {
     "outputs_hidden": false
    },
    "tags": [
     "nbsphinx-gallery"
    ]
   },
   "outputs": [],
   "source": [
    "def sigmoid(x):\n",
    "    return 1 / (1 + np.exp(-x))"
   ]
  },
  {
   "cell_type": "code",
   "execution_count": 30,
   "metadata": {
    "collapsed": false,
    "jupyter": {
     "outputs_hidden": false
    },
    "tags": [
     "nbsphinx-gallery"
    ]
   },
   "outputs": [
    {
     "data": {
      "text/plain": [
       "0.98"
      ]
     },
     "execution_count": 30,
     "metadata": {},
     "output_type": "execute_result"
    }
   ],
   "source": [
    "round(sigmoid(dot_matrix), 2)"
   ]
  },
  {
   "cell_type": "markdown",
   "metadata": {
    "tags": [
     "nbsphinx-gallery"
    ]
   },
   "source": [
    "### OK, so 3.8 equals to ~ 0.98 probability of going to work, for that agent that we have just simulated."
   ]
  },
  {
   "cell_type": "markdown",
   "metadata": {
    "tags": [
     "nbsphinx-gallery"
    ]
   },
   "source": [
    "## If we want this process to be applied for all actions, we simply run this code:"
   ]
  },
  {
   "cell_type": "code",
   "execution_count": 35,
   "metadata": {
    "tags": [
     "nbsphinx-gallery"
    ]
   },
   "outputs": [],
   "source": [
    "action_probs_betas = df.dot(agents_features)"
   ]
  },
  {
   "cell_type": "code",
   "execution_count": 36,
   "metadata": {
    "collapsed": false,
    "jupyter": {
     "outputs_hidden": false
    },
    "tags": [
     "nbsphinx-gallery"
    ]
   },
   "outputs": [],
   "source": [
    "sigmoid_action_probs = action_probs_betas.apply(lambda x: 1 / (1 + np.exp(-x)))"
   ]
  },
  {
   "cell_type": "code",
   "execution_count": 37,
   "metadata": {
    "tags": [
     "nbsphinx-gallery"
    ]
   },
   "outputs": [
    {
     "data": {
      "text/plain": [
       "0    0.978119\n",
       "1    0.524979\n",
       "2    0.310026\n",
       "3    0.731059\n",
       "4    0.924142\n",
       "5    0.817574\n",
       "6    0.500000\n",
       "7    0.500000\n",
       "8    0.500000\n",
       "9    0.964429\n",
       "dtype: float64"
      ]
     },
     "execution_count": 37,
     "metadata": {},
     "output_type": "execute_result"
    }
   ],
   "source": [
    "sigmoid_action_probs"
   ]
  },
  {
   "cell_type": "markdown",
   "metadata": {
    "jupyter": {
     "outputs_hidden": false
    },
    "tags": [
     "nbsphinx-gallery"
    ]
   },
   "source": [
    "### Now we have a vector of probabilities that go between 0 and 1, and tells us what are the chances of taking each action for that specific agent (recall that each row is an action)"
   ]
  },
  {
   "cell_type": "markdown",
   "metadata": {
    "tags": [
     "nbsphinx-gallery"
    ]
   },
   "source": [
    "## However, what we do with this probability? in the end we need to know if the person is going to do it or not. This is a binary decision. To do that, we are going to launch a coin as many times as there are actions (i.e., `n_actions`). The chances of getting heads/True or tail/False are then tweaked based on the probabilities computed above:"
   ]
  },
  {
   "cell_type": "code",
   "execution_count": 49,
   "metadata": {
    "collapsed": false,
    "jupyter": {
     "outputs_hidden": false
    },
    "tags": [
     "nbsphinx-gallery"
    ]
   },
   "outputs": [
    {
     "data": {
      "text/plain": [
       "0     True\n",
       "1     True\n",
       "2    False\n",
       "3     True\n",
       "4     True\n",
       "5     True\n",
       "6    False\n",
       "7    False\n",
       "8    False\n",
       "9     True\n",
       "dtype: bool"
      ]
     },
     "execution_count": 49,
     "metadata": {},
     "output_type": "execute_result"
    }
   ],
   "source": [
    "n_actions = df.shape[0]\n",
    "np.random.rand(n_actions) <= sigmoid_action_probs"
   ]
  },
  {
   "cell_type": "markdown",
   "metadata": {
    "tags": [
     "nbsphinx-gallery"
    ]
   },
   "source": [
    "### Every time the vector is true it means that the agent will do that action."
   ]
  },
  {
   "cell_type": "code",
   "execution_count": 52,
   "metadata": {
    "collapsed": false,
    "jupyter": {
     "outputs_hidden": false
    },
    "tags": [
     "nbsphinx-gallery"
    ]
   },
   "outputs": [
    {
     "data": {
      "image/png": "[encoded data removed]",
      "text/plain": [
       "<Figure size 1000x800 with 1 Axes>"
      ]
     },
     "metadata": {},
     "output_type": "display_data"
    }
   ],
   "source": [
    "data = {\n",
    "    'Category': sigmoid_action_probs.index.values,\n",
    "    'Value': sigmoid_action_probs.values\n",
    "}\n",
    "\n",
    "df = pd.DataFrame(data)\n",
    "\n",
    "# Create a bar plot\n",
    "plt.figure(figsize=(10,8))\n",
    "bars = plt.bar(df['Category'], df['Value'], color='lightgray')\n",
    "\n",
    "# Add the data value on top of each bar\n",
    "for bar in bars:\n",
    "    yval = round(bar.get_height(), 2)\n",
    "    plt.text(bar.get_x() + bar.get_width()/2, yval, yval, ha='center', va='bottom')\n",
    "\n",
    "# Rotate the x labels so they don't overlap\n",
    "plt.xticks(rotation=90)\n",
    "\n",
    "# Add labels and title\n",
    "plt.xlabel('actions')\n",
    "plt.ylabel('probability')\n",
    "plt.title('Probability of choosing an action')\n",
    "\n",
    "# Show the plot\n",
    "plt.tight_layout()\n",
    "plt.show()\n"
   ]
  },
  {
   "cell_type": "code",
   "execution_count": null,
   "metadata": {},
   "outputs": [],
   "source": []
  }
 ],
 "metadata": {
  "kernelspec": {
   "display_name": "Python 3 (ipykernel)",
   "language": "python",
   "name": "python3"
  },
  "language_info": {
   "codemirror_mode": {
    "name": "ipython",
    "version": 3
   },
   "file_extension": ".py",
   "mimetype": "text/x-python",
   "name": "python",
   "nbconvert_exporter": "python",
   "pygments_lexer": "ipython3",
   "version": "3.9.16"
  }
 },
 "nbformat": 4,
 "nbformat_minor": 4
}
