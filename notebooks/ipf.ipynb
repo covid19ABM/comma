{
 "cells": [
  {
   "cell_type": "code",
   "execution_count": 1,
   "metadata": {
    "tags": []
   },
   "outputs": [],
   "source": [
    "import numpy as np\n",
    "import pandas as pd\n",
    "import itertools\n",
    "import functools\n"
   ]
  },
  {
   "cell_type": "markdown",
   "metadata": {},
   "source": [
    "# IPF - Higher dimensions (age, gender, having a partner)"
   ]
  },
  {
   "cell_type": "code",
   "execution_count": 2,
   "metadata": {},
   "outputs": [],
   "source": [
    "# example adjusted from: https://datascience.oneoffcoder.com/ipf-ii.html\n",
    "# I have started with age, gender and having a partner, if the approach looks promising, we can add the other variables"
   ]
  },
  {
   "cell_type": "markdown",
   "metadata": {},
   "source": [
    "n/total: 15555\n",
    "\n",
    "Age\n",
    "- age_group_1 (24-34): 3320 - 21,3%\n",
    "- age_group_2 (35-44): 3355 - 21,6%\n",
    "- age_group_3 (45-54): 5132 - 33%\n",
    "- age_group_4 (55-64): 3748 - 24,1%\n",
    "\n",
    "Gender\n",
    "- male: 6236 - 40,1%\n",
    "- female: 9319 - 59,9%\n",
    "\n",
    "partner\n",
    "- yes: 12304 - 79,1%\n",
    "- no: 3251 - 20,9%\n",
    "\n"
   ]
  },
  {
   "cell_type": "code",
   "execution_count": 3,
   "metadata": {
    "collapsed": false,
    "jupyter": {
     "outputs_hidden": false
    },
    "pycharm": {
     "is_executing": true
    }
   },
   "outputs": [],
   "source": [
    "# Set a seed for reproducibility\n",
    "np.random.seed(42)\n",
    "\n",
    "# Define means and standard deviations for weights (assumed values)\n",
    "mean_weight = 150\n",
    "std_dev_weight = 10\n",
    "\n",
    "# Total population\n",
    "total_population = 1555 # didn't manage to recreate the real n (15555) so I scaled to 1555\n",
    "\n",
    "# Age groups\n",
    "age_groups = ['24-34', '35-44', '45-54', '55-64']\n",
    "age_counts = [int(3320/10), int(3355/10), int(5132/10), int(3748/10)]\n",
    "\n",
    "# Gender groups\n",
    "gender_groups = ['male', 'female']\n",
    "gender_counts = [int(6236/10), int(9319/10)]\n",
    "\n",
    "# Partner groups\n",
    "partner_groups = ['yes', 'no']\n",
    "partner_counts = [int(12304/10), int(3251/10)]\n",
    "\n",
    "# Generate data\n",
    "data = []\n",
    "\n",
    "for age_group, age_count in zip(age_groups, age_counts):\n",
    "    for gender_group, gender_count in zip(gender_groups, gender_counts):\n",
    "        for partner_group, partner_count in zip(partner_groups, partner_counts):\n",
    "            # Assume the intersection of age, gender, and partner status is evenly distributed\n",
    "            n_individuals = int(age_count * gender_count * partner_count / total_population) \n",
    "\n",
    "            # Generate weights\n",
    "            weights = np.random.normal(mean_weight, std_dev_weight, n_individuals)\n",
    "\n",
    "            # Append to data\n",
    "            data += [\n",
    "                {'age': age_group, 'gender': gender_group, 'partner': partner_group, 'weight': w}\n",
    "                for w in weights\n",
    "            ]\n",
    "\n",
    "# Create DataFrame\n",
    "df = pd.DataFrame(data)\n"
   ]
  },
  {
   "cell_type": "code",
   "execution_count": 4,
   "metadata": {
    "collapsed": false,
    "jupyter": {
     "outputs_hidden": false
    },
    "pycharm": {
     "is_executing": true
    }
   },
   "outputs": [
    {
     "data": {
      "text/html": [
       "<div>\n",
       "<style scoped>\n",
       "    .dataframe tbody tr th:only-of-type {\n",
       "        vertical-align: middle;\n",
       "    }\n",
       "\n",
       "    .dataframe tbody tr th {\n",
       "        vertical-align: top;\n",
       "    }\n",
       "\n",
       "    .dataframe thead th {\n",
       "        text-align: right;\n",
       "    }\n",
       "</style>\n",
       "<table border=\"1\" class=\"dataframe\">\n",
       "  <thead>\n",
       "    <tr style=\"text-align: right;\">\n",
       "      <th></th>\n",
       "      <th>age</th>\n",
       "      <th>gender</th>\n",
       "      <th>partner</th>\n",
       "      <th>weight</th>\n",
       "    </tr>\n",
       "  </thead>\n",
       "  <tbody>\n",
       "    <tr>\n",
       "      <th>0</th>\n",
       "      <td>24-34</td>\n",
       "      <td>male</td>\n",
       "      <td>yes</td>\n",
       "      <td>154.967142</td>\n",
       "    </tr>\n",
       "    <tr>\n",
       "      <th>1</th>\n",
       "      <td>24-34</td>\n",
       "      <td>male</td>\n",
       "      <td>yes</td>\n",
       "      <td>148.617357</td>\n",
       "    </tr>\n",
       "    <tr>\n",
       "      <th>2</th>\n",
       "      <td>24-34</td>\n",
       "      <td>male</td>\n",
       "      <td>yes</td>\n",
       "      <td>156.476885</td>\n",
       "    </tr>\n",
       "    <tr>\n",
       "      <th>3</th>\n",
       "      <td>24-34</td>\n",
       "      <td>male</td>\n",
       "      <td>yes</td>\n",
       "      <td>165.230299</td>\n",
       "    </tr>\n",
       "    <tr>\n",
       "      <th>4</th>\n",
       "      <td>24-34</td>\n",
       "      <td>male</td>\n",
       "      <td>yes</td>\n",
       "      <td>147.658466</td>\n",
       "    </tr>\n",
       "  </tbody>\n",
       "</table>\n",
       "</div>"
      ],
      "text/plain": [
       "     age gender partner      weight\n",
       "0  24-34   male     yes  154.967142\n",
       "1  24-34   male     yes  148.617357\n",
       "2  24-34   male     yes  156.476885\n",
       "3  24-34   male     yes  165.230299\n",
       "4  24-34   male     yes  147.658466"
      ]
     },
     "execution_count": 4,
     "metadata": {},
     "output_type": "execute_result"
    }
   ],
   "source": [
    "df.head()"
   ]
  },
  {
   "cell_type": "code",
   "execution_count": 6,
   "metadata": {},
   "outputs": [],
   "source": [
    "# It's a pity that the algorithm I found works only with matrices -- this makes it hard to work with variables that have different levels"
   ]
  },
  {
   "cell_type": "code",
   "execution_count": 7,
   "metadata": {
    "collapsed": false,
    "jupyter": {
     "outputs_hidden": false
    }
   },
   "outputs": [
    {
     "name": "stdout",
     "output_type": "stream",
     "text": [
      "     age gender partner      weight new_age\n",
      "0  24-34   male     yes  154.967142   24-44\n",
      "1  24-34   male     yes  148.617357   24-44\n",
      "2  24-34   male     yes  156.476885   24-44\n",
      "3  24-34   male     yes  165.230299   24-44\n",
      "4  24-34   male     yes  147.658466   24-44\n"
     ]
    }
   ],
   "source": [
    "# Define new age groups in order to square the matrix\n",
    "new_age_groups = {\n",
    "    '24-34': '24-44',\n",
    "    '35-44': '24-44',\n",
    "    '45-54': '45-64',\n",
    "    '55-64': '45-64',\n",
    "}\n",
    "\n",
    "# Map old age groups to new age groups\n",
    "df['new_age'] = df['age'].map(new_age_groups)\n",
    "\n",
    "# View the dataframe\n",
    "print(df.head())\n"
   ]
  },
  {
   "cell_type": "markdown",
   "metadata": {},
   "source": [
    "Do they match my initial values? let's check"
   ]
  },
  {
   "cell_type": "code",
   "execution_count": 25,
   "metadata": {},
   "outputs": [
    {
     "data": {
      "text/html": [
       "<div>\n",
       "<style scoped>\n",
       "    .dataframe tbody tr th:only-of-type {\n",
       "        vertical-align: middle;\n",
       "    }\n",
       "\n",
       "    .dataframe tbody tr th {\n",
       "        vertical-align: top;\n",
       "    }\n",
       "\n",
       "    .dataframe thead th {\n",
       "        text-align: right;\n",
       "    }\n",
       "</style>\n",
       "<table border=\"1\" class=\"dataframe\">\n",
       "  <thead>\n",
       "    <tr style=\"text-align: right;\">\n",
       "      <th></th>\n",
       "      <th>age</th>\n",
       "      <th>gender</th>\n",
       "      <th>partner</th>\n",
       "      <th>weight</th>\n",
       "      <th>new_age</th>\n",
       "    </tr>\n",
       "  </thead>\n",
       "  <tbody>\n",
       "    <tr>\n",
       "      <th>0</th>\n",
       "      <td>24-34</td>\n",
       "      <td>male</td>\n",
       "      <td>yes</td>\n",
       "      <td>154.967142</td>\n",
       "      <td>24-44</td>\n",
       "    </tr>\n",
       "    <tr>\n",
       "      <th>1</th>\n",
       "      <td>24-34</td>\n",
       "      <td>male</td>\n",
       "      <td>yes</td>\n",
       "      <td>148.617357</td>\n",
       "      <td>24-44</td>\n",
       "    </tr>\n",
       "    <tr>\n",
       "      <th>2</th>\n",
       "      <td>24-34</td>\n",
       "      <td>male</td>\n",
       "      <td>yes</td>\n",
       "      <td>156.476885</td>\n",
       "      <td>24-44</td>\n",
       "    </tr>\n",
       "    <tr>\n",
       "      <th>3</th>\n",
       "      <td>24-34</td>\n",
       "      <td>male</td>\n",
       "      <td>yes</td>\n",
       "      <td>165.230299</td>\n",
       "      <td>24-44</td>\n",
       "    </tr>\n",
       "    <tr>\n",
       "      <th>4</th>\n",
       "      <td>24-34</td>\n",
       "      <td>male</td>\n",
       "      <td>yes</td>\n",
       "      <td>147.658466</td>\n",
       "      <td>24-44</td>\n",
       "    </tr>\n",
       "    <tr>\n",
       "      <th>...</th>\n",
       "      <td>...</td>\n",
       "      <td>...</td>\n",
       "      <td>...</td>\n",
       "      <td>...</td>\n",
       "      <td>...</td>\n",
       "    </tr>\n",
       "    <tr>\n",
       "      <th>2414903</th>\n",
       "      <td>55-64</td>\n",
       "      <td>female</td>\n",
       "      <td>no</td>\n",
       "      <td>148.201249</td>\n",
       "      <td>45-64</td>\n",
       "    </tr>\n",
       "    <tr>\n",
       "      <th>2414904</th>\n",
       "      <td>55-64</td>\n",
       "      <td>female</td>\n",
       "      <td>no</td>\n",
       "      <td>130.373599</td>\n",
       "      <td>45-64</td>\n",
       "    </tr>\n",
       "    <tr>\n",
       "      <th>2414905</th>\n",
       "      <td>55-64</td>\n",
       "      <td>female</td>\n",
       "      <td>no</td>\n",
       "      <td>143.137656</td>\n",
       "      <td>45-64</td>\n",
       "    </tr>\n",
       "    <tr>\n",
       "      <th>2414906</th>\n",
       "      <td>55-64</td>\n",
       "      <td>female</td>\n",
       "      <td>no</td>\n",
       "      <td>155.517071</td>\n",
       "      <td>45-64</td>\n",
       "    </tr>\n",
       "    <tr>\n",
       "      <th>2414907</th>\n",
       "      <td>55-64</td>\n",
       "      <td>female</td>\n",
       "      <td>no</td>\n",
       "      <td>154.789731</td>\n",
       "      <td>45-64</td>\n",
       "    </tr>\n",
       "  </tbody>\n",
       "</table>\n",
       "<p>2414908 rows × 5 columns</p>\n",
       "</div>"
      ],
      "text/plain": [
       "           age  gender partner      weight new_age\n",
       "0        24-34    male     yes  154.967142   24-44\n",
       "1        24-34    male     yes  148.617357   24-44\n",
       "2        24-34    male     yes  156.476885   24-44\n",
       "3        24-34    male     yes  165.230299   24-44\n",
       "4        24-34    male     yes  147.658466   24-44\n",
       "...        ...     ...     ...         ...     ...\n",
       "2414903  55-64  female      no  148.201249   45-64\n",
       "2414904  55-64  female      no  130.373599   45-64\n",
       "2414905  55-64  female      no  143.137656   45-64\n",
       "2414906  55-64  female      no  155.517071   45-64\n",
       "2414907  55-64  female      no  154.789731   45-64\n",
       "\n",
       "[2414908 rows x 5 columns]"
      ]
     },
     "execution_count": 25,
     "metadata": {},
     "output_type": "execute_result"
    }
   ],
   "source": [
    "df"
   ]
  },
  {
   "cell_type": "code",
   "execution_count": 8,
   "metadata": {
    "collapsed": false,
    "jupyter": {
     "outputs_hidden": false
    }
   },
   "outputs": [
    {
     "data": {
      "text/plain": [
       "24-34    0.213642\n",
       "35-44    0.215573\n",
       "45-54    0.330116\n",
       "55-64    0.240669\n",
       "Name: age, dtype: float64"
      ]
     },
     "execution_count": 8,
     "metadata": {},
     "output_type": "execute_result"
    }
   ],
   "source": [
    "df.age.value_counts().sort_index() / df.shape[0]\n"
   ]
  },
  {
   "cell_type": "code",
   "execution_count": 9,
   "metadata": {
    "collapsed": false,
    "jupyter": {
     "outputs_hidden": false
    }
   },
   "outputs": [
    {
     "data": {
      "text/plain": [
       "female    0.599099\n",
       "male      0.400901\n",
       "Name: gender, dtype: float64"
      ]
     },
     "execution_count": 9,
     "metadata": {},
     "output_type": "execute_result"
    }
   ],
   "source": [
    "df.gender.value_counts().sort_index() / df.shape[0]\n"
   ]
  },
  {
   "cell_type": "code",
   "execution_count": 10,
   "metadata": {
    "collapsed": false,
    "jupyter": {
     "outputs_hidden": false
    }
   },
   "outputs": [
    {
     "data": {
      "text/plain": [
       "no     0.209003\n",
       "yes    0.790997\n",
       "Name: partner, dtype: float64"
      ]
     },
     "execution_count": 10,
     "metadata": {},
     "output_type": "execute_result"
    }
   ],
   "source": [
    "df.partner.value_counts().sort_index() / df.shape[0]\n"
   ]
  },
  {
   "cell_type": "markdown",
   "metadata": {},
   "source": [
    "yes they do"
   ]
  },
  {
   "cell_type": "markdown",
   "metadata": {},
   "source": [
    "## Contingency table"
   ]
  },
  {
   "cell_type": "code",
   "execution_count": 11,
   "metadata": {
    "collapsed": false,
    "jupyter": {
     "outputs_hidden": false
    }
   },
   "outputs": [],
   "source": [
    "def get_target_marginals(d):\n",
    "    factors = list(d.keys())\n",
    "    targets = [sorted([(k2, v2) for k2, v2 in v.items()]) for k, v in d.items()]\n",
    "    targets = np.array([[v for _, v in item] for item in targets])\n",
    "    return factors, targets\n",
    "\n",
    "def get_table(df, targets):\n",
    "    factors, target_marginals = get_target_marginals(targets)\n",
    "\n",
    "    cross_tab = pd.crosstab(df[factors[0]], [df[c] for c in factors[1:]])\n",
    "    shape = tuple([df[c].unique().shape[0] for c in factors])\n",
    "    table = cross_tab.values.reshape(shape)\n",
    "\n",
    "    return factors, target_marginals, table\n"
   ]
  },
  {
   "cell_type": "code",
   "execution_count": 12,
   "metadata": {
    "collapsed": false,
    "jupyter": {
     "outputs_hidden": false
    }
   },
   "outputs": [],
   "source": [
    "f, u, X = get_table(df, {\n",
    "    'new_age': {'24-44': int(6675/10), '45-64': int(8880/10)},\n",
    "    'gender': {'male': int(6236/10), 'female': int(9319/10)},\n",
    "    'partner': {'yes': int(12304/10), 'no': int(3251/10)}\n",
    "})"
   ]
  },
  {
   "cell_type": "code",
   "execution_count": 13,
   "metadata": {},
   "outputs": [
    {
     "data": {
      "text/plain": [
       "array([[[129785, 491190],\n",
       "        [ 86849, 328690]],\n",
       "\n",
       "       [[172593, 653202],\n",
       "        [115495, 437104]]])"
      ]
     },
     "execution_count": 13,
     "metadata": {},
     "output_type": "execute_result"
    }
   ],
   "source": [
    "X"
   ]
  },
  {
   "cell_type": "code",
   "execution_count": 14,
   "metadata": {},
   "outputs": [
    {
     "data": {
      "text/plain": [
       "array([[ 667,  888],\n",
       "       [ 931,  623],\n",
       "       [ 325, 1230]])"
      ]
     },
     "execution_count": 14,
     "metadata": {},
     "output_type": "execute_result"
    }
   ],
   "source": [
    "u"
   ]
  },
  {
   "cell_type": "code",
   "execution_count": 15,
   "metadata": {},
   "outputs": [
    {
     "data": {
      "text/plain": [
       "['new_age', 'gender', 'partner']"
      ]
     },
     "execution_count": 15,
     "metadata": {},
     "output_type": "execute_result"
    }
   ],
   "source": [
    "f"
   ]
  },
  {
   "cell_type": "code",
   "execution_count": 16,
   "metadata": {},
   "outputs": [],
   "source": [
    "def get_coordinates(M):\n",
    "    return list(itertools.product(*[list(range(n)) for n in M.shape]))\n",
    "\n",
    "def get_marginals(M, i):\n",
    "    coordinates = get_coordinates(M)\n",
    "\n",
    "    key = lambda tup: tup[0]\n",
    "    counts = [(c[i], M[c]) for c in coordinates]\n",
    "    counts = sorted(counts, key=key)\n",
    "    counts = itertools.groupby(counts, key=key)\n",
    "    counts = {k: sum([v[1] for v in g]) for k, g in counts}\n",
    "\n",
    "    return counts\n",
    "\n",
    "def get_all_marginals(M):\n",
    "    return np.array([[v for _, v in get_marginals(M, i).items()]\n",
    "                     for i in range(len(M.shape))])\n",
    "\n",
    "def get_counts(M, i):\n",
    "    coordinates = get_coordinates(M)\n",
    "\n",
    "    key = lambda tup: tup[0]\n",
    "    counts = [(c[i], M[c], c) for c in coordinates]\n",
    "    counts = sorted(counts, key=key)\n",
    "    counts = itertools.groupby(counts, key=key)\n",
    "    counts = {k: [(tup[1], tup[2]) for tup in g] for k, g in counts}\n",
    "\n",
    "    return counts\n",
    "\n",
    "def update_values(M, i, u):\n",
    "    marg = get_marginals(M, i)\n",
    "    vals = get_counts(M, i)\n",
    "\n",
    "    d = [[(c, n * u[k] / marg[k]) for n, c in v] for k, v in vals.items()]\n",
    "    d = itertools.chain(*d)\n",
    "    d = list(d)\n",
    "\n",
    "    return d\n",
    "\n",
    "def ipf_update(M, u):\n",
    "    for i in range(len(M.shape)):\n",
    "        values = update_values(M, i, u[i])\n",
    "        for idx, v in values:\n",
    "            M[idx] = v\n",
    "\n",
    "    o = get_all_marginals(M)\n",
    "    d = get_deltas(o, u)\n",
    "\n",
    "    return M, d\n",
    "\n",
    "def get_deltas(o, t):\n",
    "    return np.array([np.linalg.norm(o[r] - t[r], 2) for r in range(o.shape[0])])\n",
    "\n",
    "def get_weights(X, max_iters=50, zero_threshold=0.0001, convergence_threshold=3, debug=True):\n",
    "    M = X.copy()\n",
    "\n",
    "    d_prev = np.zeros(len(M.shape))\n",
    "    count_zero = 0\n",
    "\n",
    "    for _ in range(max_iters):\n",
    "        M, d_next = ipf_update(M, u)\n",
    "        d = np.linalg.norm(d_prev - d_next, 2)\n",
    "\n",
    "        if d < zero_threshold:\n",
    "            count_zero += 1\n",
    "\n",
    "        if debug:\n",
    "            print(','.join([f'{v:.5f}' for v in d_next]), d)\n",
    "        d_prev = d_next\n",
    "\n",
    "        if count_zero >= convergence_threshold:\n",
    "            break\n",
    "\n",
    "    w = M / M.sum()\n",
    "    return w"
   ]
  },
  {
   "cell_type": "code",
   "execution_count": 17,
   "metadata": {},
   "outputs": [
    {
     "name": "stdout",
     "output_type": "stream",
     "text": [
      "2.82843,2.23607,2.82843 4.582575694955841\n",
      "2.82843,2.23607,2.82843 0.0\n",
      "2.82843,2.23607,2.82843 0.0\n",
      "2.82843,2.23607,2.82843 0.0\n"
     ]
    }
   ],
   "source": [
    "w = get_weights(X)"
   ]
  },
  {
   "cell_type": "code",
   "execution_count": 18,
   "metadata": {},
   "outputs": [
    {
     "data": {
      "text/plain": [
       "array([[[0.05351386, 0.20373952],\n",
       "        [0.03546099, 0.13604126]],\n",
       "\n",
       "       [[0.07156673, 0.27079304],\n",
       "        [0.04771115, 0.18117344]]])"
      ]
     },
     "execution_count": 18,
     "metadata": {},
     "output_type": "execute_result"
    }
   ],
   "source": [
    "w"
   ]
  },
  {
   "cell_type": "code",
   "execution_count": 20,
   "metadata": {},
   "outputs": [],
   "source": [
    "# sample (with replacement) from the synthetic data."
   ]
  },
  {
   "cell_type": "code",
   "execution_count": null,
   "metadata": {},
   "outputs": [],
   "source": [
    "def get_sampling_weights(df, f, w):\n",
    "    get_filters = lambda df, fields, values: [df[f] == v for f, v in zip(fields, values)]\n",
    "    get_total = lambda df, fields, values: df[functools.reduce(lambda a, b: a & b, get_filters(df, fields, values))].shape[0]\n",
    "\n",
    "    return {k: v / get_total(df, f, k) for k, v in zip(list(itertools.product(*[sorted(df[c].unique()) for c in f])), np.ravel(w))}\n",
    "\n",
    "def get_samples(df, f, w, n=10_000):\n",
    "    weights = get_sampling_weights(df, f, w)\n",
    "    s = df.apply(lambda r: weights[tuple([r[c] for c in f])], axis=1)\n",
    "    return df.sample(n=n, replace=True, weights=s)"
   ]
  },
  {
   "cell_type": "markdown",
   "metadata": {},
   "source": [
    "This is the new population based on the weights learned from the initial distribution:"
   ]
  },
  {
   "cell_type": "code",
   "execution_count": 22,
   "metadata": {},
   "outputs": [
    {
     "data": {
      "text/html": [
       "<div>\n",
       "<style scoped>\n",
       "    .dataframe tbody tr th:only-of-type {\n",
       "        vertical-align: middle;\n",
       "    }\n",
       "\n",
       "    .dataframe tbody tr th {\n",
       "        vertical-align: top;\n",
       "    }\n",
       "\n",
       "    .dataframe thead th {\n",
       "        text-align: right;\n",
       "    }\n",
       "</style>\n",
       "<table border=\"1\" class=\"dataframe\">\n",
       "  <thead>\n",
       "    <tr style=\"text-align: right;\">\n",
       "      <th></th>\n",
       "      <th>age</th>\n",
       "      <th>gender</th>\n",
       "      <th>partner</th>\n",
       "      <th>weight</th>\n",
       "      <th>new_age</th>\n",
       "    </tr>\n",
       "  </thead>\n",
       "  <tbody>\n",
       "    <tr>\n",
       "      <th>218209</th>\n",
       "      <td>24-34</td>\n",
       "      <td>female</td>\n",
       "      <td>yes</td>\n",
       "      <td>126.902369</td>\n",
       "      <td>24-44</td>\n",
       "    </tr>\n",
       "    <tr>\n",
       "      <th>1268498</th>\n",
       "      <td>45-54</td>\n",
       "      <td>male</td>\n",
       "      <td>yes</td>\n",
       "      <td>162.689874</td>\n",
       "      <td>45-64</td>\n",
       "    </tr>\n",
       "    <tr>\n",
       "      <th>605364</th>\n",
       "      <td>35-44</td>\n",
       "      <td>male</td>\n",
       "      <td>yes</td>\n",
       "      <td>140.007049</td>\n",
       "      <td>24-44</td>\n",
       "    </tr>\n",
       "    <tr>\n",
       "      <th>2325557</th>\n",
       "      <td>55-64</td>\n",
       "      <td>female</td>\n",
       "      <td>yes</td>\n",
       "      <td>153.120736</td>\n",
       "      <td>45-64</td>\n",
       "    </tr>\n",
       "    <tr>\n",
       "      <th>1612844</th>\n",
       "      <td>45-54</td>\n",
       "      <td>female</td>\n",
       "      <td>yes</td>\n",
       "      <td>147.695474</td>\n",
       "      <td>45-64</td>\n",
       "    </tr>\n",
       "    <tr>\n",
       "      <th>...</th>\n",
       "      <td>...</td>\n",
       "      <td>...</td>\n",
       "      <td>...</td>\n",
       "      <td>...</td>\n",
       "      <td>...</td>\n",
       "    </tr>\n",
       "    <tr>\n",
       "      <th>286322</th>\n",
       "      <td>24-34</td>\n",
       "      <td>female</td>\n",
       "      <td>yes</td>\n",
       "      <td>136.339755</td>\n",
       "      <td>24-44</td>\n",
       "    </tr>\n",
       "    <tr>\n",
       "      <th>1682211</th>\n",
       "      <td>45-54</td>\n",
       "      <td>female</td>\n",
       "      <td>yes</td>\n",
       "      <td>146.328778</td>\n",
       "      <td>45-64</td>\n",
       "    </tr>\n",
       "    <tr>\n",
       "      <th>401180</th>\n",
       "      <td>24-34</td>\n",
       "      <td>female</td>\n",
       "      <td>yes</td>\n",
       "      <td>133.728617</td>\n",
       "      <td>24-44</td>\n",
       "    </tr>\n",
       "    <tr>\n",
       "      <th>2203527</th>\n",
       "      <td>55-64</td>\n",
       "      <td>female</td>\n",
       "      <td>yes</td>\n",
       "      <td>148.408483</td>\n",
       "      <td>45-64</td>\n",
       "    </tr>\n",
       "    <tr>\n",
       "      <th>878462</th>\n",
       "      <td>35-44</td>\n",
       "      <td>female</td>\n",
       "      <td>yes</td>\n",
       "      <td>136.600755</td>\n",
       "      <td>24-44</td>\n",
       "    </tr>\n",
       "  </tbody>\n",
       "</table>\n",
       "<p>10000 rows × 5 columns</p>\n",
       "</div>"
      ],
      "text/plain": [
       "           age  gender partner      weight new_age\n",
       "218209   24-34  female     yes  126.902369   24-44\n",
       "1268498  45-54    male     yes  162.689874   45-64\n",
       "605364   35-44    male     yes  140.007049   24-44\n",
       "2325557  55-64  female     yes  153.120736   45-64\n",
       "1612844  45-54  female     yes  147.695474   45-64\n",
       "...        ...     ...     ...         ...     ...\n",
       "286322   24-34  female     yes  136.339755   24-44\n",
       "1682211  45-54  female     yes  146.328778   45-64\n",
       "401180   24-34  female     yes  133.728617   24-44\n",
       "2203527  55-64  female     yes  148.408483   45-64\n",
       "878462   35-44  female     yes  136.600755   24-44\n",
       "\n",
       "[10000 rows x 5 columns]"
      ]
     },
     "execution_count": 22,
     "metadata": {},
     "output_type": "execute_result"
    }
   ],
   "source": [
    "sample_df = get_samples(df, f, w)\n",
    "sample_df"
   ]
  },
  {
   "cell_type": "code",
   "execution_count": 23,
   "metadata": {},
   "outputs": [],
   "source": [
    "# Here is the cross-tabulation of the resulting sampled matrix -- to double check that they match our initial values"
   ]
  },
  {
   "cell_type": "code",
   "execution_count": 24,
   "metadata": {},
   "outputs": [
    {
     "data": {
      "text/html": [
       "<div>\n",
       "<style scoped>\n",
       "    .dataframe tbody tr th:only-of-type {\n",
       "        vertical-align: middle;\n",
       "    }\n",
       "\n",
       "    .dataframe tbody tr th {\n",
       "        vertical-align: top;\n",
       "    }\n",
       "\n",
       "    .dataframe thead tr th {\n",
       "        text-align: left;\n",
       "    }\n",
       "\n",
       "    .dataframe thead tr:last-of-type th {\n",
       "        text-align: right;\n",
       "    }\n",
       "</style>\n",
       "<table border=\"1\" class=\"dataframe\">\n",
       "  <thead>\n",
       "    <tr>\n",
       "      <th>new_age</th>\n",
       "      <th colspan=\"2\" halign=\"left\">24-44</th>\n",
       "      <th colspan=\"2\" halign=\"left\">45-64</th>\n",
       "    </tr>\n",
       "    <tr>\n",
       "      <th>gender</th>\n",
       "      <th>female</th>\n",
       "      <th>male</th>\n",
       "      <th>female</th>\n",
       "      <th>male</th>\n",
       "    </tr>\n",
       "    <tr>\n",
       "      <th>partner</th>\n",
       "      <th></th>\n",
       "      <th></th>\n",
       "      <th></th>\n",
       "      <th></th>\n",
       "    </tr>\n",
       "  </thead>\n",
       "  <tbody>\n",
       "    <tr>\n",
       "      <th>no</th>\n",
       "      <td>521</td>\n",
       "      <td>367</td>\n",
       "      <td>708</td>\n",
       "      <td>491</td>\n",
       "    </tr>\n",
       "    <tr>\n",
       "      <th>yes</th>\n",
       "      <td>2030</td>\n",
       "      <td>1319</td>\n",
       "      <td>2774</td>\n",
       "      <td>1790</td>\n",
       "    </tr>\n",
       "  </tbody>\n",
       "</table>\n",
       "</div>"
      ],
      "text/plain": [
       "new_age  24-44        45-64      \n",
       "gender  female  male female  male\n",
       "partner                          \n",
       "no         521   367    708   491\n",
       "yes       2030  1319   2774  1790"
      ]
     },
     "execution_count": 24,
     "metadata": {},
     "output_type": "execute_result"
    }
   ],
   "source": [
    "ct = pd.crosstab(sample_df.partner, [sample_df.new_age, sample_df.gender])\n",
    "ct"
   ]
  },
  {
   "cell_type": "code",
   "execution_count": 68,
   "metadata": {},
   "outputs": [
    {
     "data": {
      "text/plain": [
       "24-34    0.2101\n",
       "35-44    0.2136\n",
       "45-54    0.3378\n",
       "55-64    0.2385\n",
       "Name: age, dtype: float64"
      ]
     },
     "execution_count": 68,
     "metadata": {},
     "output_type": "execute_result"
    }
   ],
   "source": [
    "sample_df.age.value_counts().sort_index() / sample_df.shape[0]"
   ]
  },
  {
   "cell_type": "code",
   "execution_count": 72,
   "metadata": {},
   "outputs": [
    {
     "data": {
      "text/plain": [
       "female    0.6033\n",
       "male      0.3967\n",
       "Name: gender, dtype: float64"
      ]
     },
     "execution_count": 72,
     "metadata": {},
     "output_type": "execute_result"
    }
   ],
   "source": [
    "sample_df.gender.value_counts().sort_index() / sample_df.shape[0]"
   ]
  },
  {
   "cell_type": "code",
   "execution_count": 71,
   "metadata": {},
   "outputs": [
    {
     "data": {
      "text/plain": [
       "no     0.2087\n",
       "yes    0.7913\n",
       "Name: partner, dtype: float64"
      ]
     },
     "execution_count": 71,
     "metadata": {},
     "output_type": "execute_result"
    }
   ],
   "source": [
    "sample_df.partner.value_counts().sort_index() / sample_df.shape[0]"
   ]
  },
  {
   "cell_type": "code",
   "execution_count": null,
   "metadata": {},
   "outputs": [],
   "source": []
  }
 ],
 "metadata": {
  "kernelspec": {
   "display_name": "Python 3 (ipykernel)",
   "language": "python",
   "name": "python3"
  },
  "language_info": {
   "codemirror_mode": {
    "name": "ipython",
    "version": 3
   },
   "file_extension": ".py",
   "mimetype": "text/x-python",
   "name": "python",
   "nbconvert_exporter": "python",
   "pygments_lexer": "ipython3",
   "version": "3.9.16"
  }
 },
 "nbformat": 4,
 "nbformat_minor": 4
}
