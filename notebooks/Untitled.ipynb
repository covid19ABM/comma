{
 "cells": [
  {
   "cell_type": "code",
   "execution_count": 1,
   "id": "cd0d7a93-05ed-4ac7-abf3-c1d302e4d3c8",
   "metadata": {},
   "outputs": [],
   "source": [
    "from comma.hypothesis import Hypothesis\n",
    "from comma.model import Model\n",
    "import random\n",
    "import pandas as pd\n",
    "import matplotlib.pyplot as plt\n",
    "import seaborn as sns\n",
    "import numpy as np\n",
    "import os\n",
    "\n",
    "pd.set_option('display.max_columns', None)\n",
    "np.random.seed(0)\n",
    "dir_params = '../parameters/'"
   ]
  },
  {
   "cell_type": "code",
   "execution_count": 2,
   "id": "79e3e4df-0f86-4664-8718-31d5a9079375",
   "metadata": {},
   "outputs": [],
   "source": [
    "steps = 100\n",
    "\n",
    "n = steps // 4\n",
    "\n",
    "policy_lockdown = [\"absent\"]*n + [\"medium\"]*n + [\"hard\"]*n + [\"easy\"]*n"
   ]
  },
  {
   "cell_type": "code",
   "execution_count": 3,
   "id": "3748a635-6d41-4a5d-a609-71d4005d99b9",
   "metadata": {},
   "outputs": [
    {
     "data": {
      "text/plain": [
       "100"
      ]
     },
     "execution_count": 3,
     "metadata": {},
     "output_type": "execute_result"
    }
   ],
   "source": [
    "len(policy_lockdown)"
   ]
  },
  {
   "cell_type": "code",
   "execution_count": 4,
   "id": "40dabea1-1cce-46c0-9c16-27115a5e4b4b",
   "metadata": {},
   "outputs": [],
   "source": [
    "model = Model()"
   ]
  },
  {
   "cell_type": "code",
   "execution_count": 5,
   "id": "36556b99-e5cf-4a34-9467-fe33ed58273d",
   "metadata": {},
   "outputs": [
    {
     "name": "stderr",
     "output_type": "stream",
     "text": [
      "Populating individuals: 100%|███████████████████████████████████████████████████████████████████████████████████████████████████████| 5/5 [00:00<00:00, 9279.43i/s]\n"
     ]
    }
   ],
   "source": [
    "size = 5\n",
    "model.setup(size, '../parameters/', use_ipf=True) "
   ]
  },
  {
   "cell_type": "code",
   "execution_count": 11,
   "id": "4dcdbce6-199c-49bb-b5ad-69dd8848b2ad",
   "metadata": {},
   "outputs": [
    {
     "name": "stderr",
     "output_type": "stream",
     "text": [
      "Running simulation: 100%|███████████████████████████████████████████████████████████████████████████████████████████████████████| 100/100 [00:00<00:00, 988.43it/s]\n"
     ]
    }
   ],
   "source": [
    "model.run(steps=steps, lockdown_policy=policy_lockdown, out_path=\"simulation_results.csv\")"
   ]
  },
  {
   "cell_type": "code",
   "execution_count": 6,
   "id": "6b53a3eb-c0a6-4430-bd28-b332d3bf4594",
   "metadata": {},
   "outputs": [],
   "source": [
    "lockdown_policy=policy_lockdown\n",
    "if len(lockdown_policy) != steps:\n",
    "    raise ValueError(\"The length of the lockdown list \\\n",
    "    must be equal to the number of steps\")\n",
    "\n",
    "# read once the hypotheses\n",
    "lockdown_matrices = Hypothesis.read_lockdowns(\n",
    "    dir_params,\n",
    "    set(lockdown_policy)\n",
    ")\n",
    "\n",
    "actions_effects_matrices = Hypothesis.read_actions(\n",
    "    dir_params,\n",
    "    set(lockdown_policy)\n",
    ")\n",
    "\n"
   ]
  },
  {
   "cell_type": "code",
   "execution_count": 25,
   "id": "18a204b7-4f51-4d4a-af14-45a1732a93c1",
   "metadata": {},
   "outputs": [],
   "source": [
    "current_lockdown = lockdown_policy[0]\n",
    "step = 2"
   ]
  },
  {
   "cell_type": "code",
   "execution_count": 8,
   "id": "c118cc8f-45bb-4436-a91b-fc0ec305465e",
   "metadata": {},
   "outputs": [
    {
     "data": {
      "text/html": [
       "<div>\n",
       "<style scoped>\n",
       "    .dataframe tbody tr th:only-of-type {\n",
       "        vertical-align: middle;\n",
       "    }\n",
       "\n",
       "    .dataframe tbody tr th {\n",
       "        vertical-align: top;\n",
       "    }\n",
       "\n",
       "    .dataframe thead th {\n",
       "        text-align: right;\n",
       "    }\n",
       "</style>\n",
       "<table border=\"1\" class=\"dataframe\">\n",
       "  <thead>\n",
       "    <tr style=\"text-align: right;\">\n",
       "      <th></th>\n",
       "      <th>baseline</th>\n",
       "      <th>age_group__1</th>\n",
       "      <th>age_group__2</th>\n",
       "      <th>age_group__3</th>\n",
       "      <th>age_group__4</th>\n",
       "      <th>gender_f</th>\n",
       "      <th>gender_m</th>\n",
       "      <th>education_high</th>\n",
       "      <th>education_low</th>\n",
       "      <th>education_medium</th>\n",
       "      <th>unemployed_no</th>\n",
       "      <th>unemployed_yes</th>\n",
       "      <th>have_partner_no</th>\n",
       "      <th>have_partner_yes</th>\n",
       "      <th>depressed_no</th>\n",
       "      <th>depressed_yes</th>\n",
       "      <th>children_presence_no</th>\n",
       "      <th>children_presence_yes</th>\n",
       "      <th>housing_financial_difficulties_no</th>\n",
       "      <th>housing_financial_difficulties_yes</th>\n",
       "      <th>selfrated_health_average</th>\n",
       "      <th>selfrated_health_good</th>\n",
       "      <th>selfrated_health_poor</th>\n",
       "      <th>critical_job_no</th>\n",
       "      <th>critical_job_yes</th>\n",
       "    </tr>\n",
       "  </thead>\n",
       "  <tbody>\n",
       "    <tr>\n",
       "      <th>0</th>\n",
       "      <td>0.00</td>\n",
       "      <td>0.00</td>\n",
       "      <td>0.0</td>\n",
       "      <td>0.00</td>\n",
       "      <td>0.00</td>\n",
       "      <td>0.0</td>\n",
       "      <td>0.00</td>\n",
       "      <td>0.00</td>\n",
       "      <td>0.00</td>\n",
       "      <td>0.0</td>\n",
       "      <td>0.0</td>\n",
       "      <td>0.00</td>\n",
       "      <td>0.0</td>\n",
       "      <td>0.00</td>\n",
       "      <td>0.0</td>\n",
       "      <td>0.00</td>\n",
       "      <td>0.0</td>\n",
       "      <td>0.00</td>\n",
       "      <td>0.0</td>\n",
       "      <td>0.00</td>\n",
       "      <td>0.0</td>\n",
       "      <td>0.00</td>\n",
       "      <td>0.00</td>\n",
       "      <td>0.0</td>\n",
       "      <td>0.00</td>\n",
       "    </tr>\n",
       "    <tr>\n",
       "      <th>1</th>\n",
       "      <td>0.00</td>\n",
       "      <td>0.00</td>\n",
       "      <td>0.0</td>\n",
       "      <td>0.00</td>\n",
       "      <td>0.00</td>\n",
       "      <td>0.0</td>\n",
       "      <td>0.00</td>\n",
       "      <td>0.00</td>\n",
       "      <td>0.00</td>\n",
       "      <td>0.0</td>\n",
       "      <td>0.0</td>\n",
       "      <td>0.00</td>\n",
       "      <td>0.0</td>\n",
       "      <td>0.00</td>\n",
       "      <td>0.0</td>\n",
       "      <td>0.00</td>\n",
       "      <td>0.0</td>\n",
       "      <td>0.00</td>\n",
       "      <td>0.0</td>\n",
       "      <td>0.00</td>\n",
       "      <td>0.0</td>\n",
       "      <td>0.00</td>\n",
       "      <td>0.00</td>\n",
       "      <td>0.0</td>\n",
       "      <td>0.00</td>\n",
       "    </tr>\n",
       "    <tr>\n",
       "      <th>2</th>\n",
       "      <td>0.00</td>\n",
       "      <td>0.00</td>\n",
       "      <td>0.0</td>\n",
       "      <td>0.00</td>\n",
       "      <td>0.00</td>\n",
       "      <td>0.0</td>\n",
       "      <td>0.00</td>\n",
       "      <td>0.00</td>\n",
       "      <td>0.00</td>\n",
       "      <td>0.0</td>\n",
       "      <td>0.0</td>\n",
       "      <td>0.00</td>\n",
       "      <td>0.0</td>\n",
       "      <td>0.00</td>\n",
       "      <td>0.0</td>\n",
       "      <td>0.00</td>\n",
       "      <td>0.0</td>\n",
       "      <td>0.00</td>\n",
       "      <td>0.0</td>\n",
       "      <td>0.00</td>\n",
       "      <td>0.0</td>\n",
       "      <td>0.00</td>\n",
       "      <td>0.00</td>\n",
       "      <td>0.0</td>\n",
       "      <td>0.00</td>\n",
       "    </tr>\n",
       "    <tr>\n",
       "      <th>3</th>\n",
       "      <td>0.00</td>\n",
       "      <td>0.00</td>\n",
       "      <td>0.0</td>\n",
       "      <td>0.00</td>\n",
       "      <td>0.00</td>\n",
       "      <td>0.0</td>\n",
       "      <td>0.00</td>\n",
       "      <td>0.00</td>\n",
       "      <td>0.00</td>\n",
       "      <td>0.0</td>\n",
       "      <td>0.0</td>\n",
       "      <td>0.00</td>\n",
       "      <td>0.0</td>\n",
       "      <td>0.00</td>\n",
       "      <td>0.0</td>\n",
       "      <td>0.00</td>\n",
       "      <td>0.0</td>\n",
       "      <td>0.00</td>\n",
       "      <td>0.0</td>\n",
       "      <td>0.00</td>\n",
       "      <td>0.0</td>\n",
       "      <td>0.00</td>\n",
       "      <td>0.00</td>\n",
       "      <td>0.0</td>\n",
       "      <td>0.00</td>\n",
       "    </tr>\n",
       "    <tr>\n",
       "      <th>4</th>\n",
       "      <td>0.00</td>\n",
       "      <td>0.00</td>\n",
       "      <td>0.0</td>\n",
       "      <td>0.00</td>\n",
       "      <td>0.00</td>\n",
       "      <td>0.0</td>\n",
       "      <td>0.00</td>\n",
       "      <td>0.00</td>\n",
       "      <td>0.00</td>\n",
       "      <td>0.0</td>\n",
       "      <td>0.0</td>\n",
       "      <td>0.00</td>\n",
       "      <td>0.0</td>\n",
       "      <td>0.00</td>\n",
       "      <td>0.0</td>\n",
       "      <td>0.00</td>\n",
       "      <td>0.0</td>\n",
       "      <td>0.00</td>\n",
       "      <td>0.0</td>\n",
       "      <td>0.00</td>\n",
       "      <td>0.0</td>\n",
       "      <td>0.00</td>\n",
       "      <td>0.00</td>\n",
       "      <td>0.0</td>\n",
       "      <td>0.00</td>\n",
       "    </tr>\n",
       "    <tr>\n",
       "      <th>5</th>\n",
       "      <td>0.00</td>\n",
       "      <td>0.00</td>\n",
       "      <td>0.0</td>\n",
       "      <td>0.00</td>\n",
       "      <td>0.00</td>\n",
       "      <td>0.0</td>\n",
       "      <td>0.00</td>\n",
       "      <td>0.00</td>\n",
       "      <td>0.00</td>\n",
       "      <td>0.0</td>\n",
       "      <td>0.0</td>\n",
       "      <td>0.00</td>\n",
       "      <td>0.0</td>\n",
       "      <td>0.00</td>\n",
       "      <td>0.0</td>\n",
       "      <td>0.00</td>\n",
       "      <td>0.0</td>\n",
       "      <td>0.00</td>\n",
       "      <td>0.0</td>\n",
       "      <td>0.00</td>\n",
       "      <td>0.0</td>\n",
       "      <td>0.00</td>\n",
       "      <td>0.00</td>\n",
       "      <td>0.0</td>\n",
       "      <td>0.00</td>\n",
       "    </tr>\n",
       "    <tr>\n",
       "      <th>6</th>\n",
       "      <td>0.00</td>\n",
       "      <td>0.00</td>\n",
       "      <td>0.0</td>\n",
       "      <td>0.00</td>\n",
       "      <td>0.00</td>\n",
       "      <td>0.0</td>\n",
       "      <td>0.00</td>\n",
       "      <td>0.00</td>\n",
       "      <td>0.00</td>\n",
       "      <td>0.0</td>\n",
       "      <td>0.0</td>\n",
       "      <td>0.00</td>\n",
       "      <td>0.0</td>\n",
       "      <td>0.00</td>\n",
       "      <td>0.0</td>\n",
       "      <td>0.00</td>\n",
       "      <td>0.0</td>\n",
       "      <td>0.00</td>\n",
       "      <td>0.0</td>\n",
       "      <td>0.00</td>\n",
       "      <td>0.0</td>\n",
       "      <td>0.00</td>\n",
       "      <td>0.00</td>\n",
       "      <td>0.0</td>\n",
       "      <td>0.00</td>\n",
       "    </tr>\n",
       "    <tr>\n",
       "      <th>7</th>\n",
       "      <td>0.00</td>\n",
       "      <td>0.00</td>\n",
       "      <td>0.0</td>\n",
       "      <td>0.00</td>\n",
       "      <td>0.00</td>\n",
       "      <td>0.0</td>\n",
       "      <td>0.00</td>\n",
       "      <td>0.00</td>\n",
       "      <td>0.00</td>\n",
       "      <td>0.0</td>\n",
       "      <td>0.0</td>\n",
       "      <td>0.00</td>\n",
       "      <td>0.0</td>\n",
       "      <td>0.00</td>\n",
       "      <td>0.0</td>\n",
       "      <td>0.00</td>\n",
       "      <td>0.0</td>\n",
       "      <td>0.00</td>\n",
       "      <td>0.0</td>\n",
       "      <td>0.00</td>\n",
       "      <td>0.0</td>\n",
       "      <td>0.00</td>\n",
       "      <td>0.00</td>\n",
       "      <td>0.0</td>\n",
       "      <td>0.00</td>\n",
       "    </tr>\n",
       "    <tr>\n",
       "      <th>8</th>\n",
       "      <td>0.00</td>\n",
       "      <td>0.00</td>\n",
       "      <td>0.0</td>\n",
       "      <td>0.00</td>\n",
       "      <td>0.00</td>\n",
       "      <td>0.0</td>\n",
       "      <td>0.00</td>\n",
       "      <td>0.00</td>\n",
       "      <td>0.00</td>\n",
       "      <td>0.0</td>\n",
       "      <td>0.0</td>\n",
       "      <td>0.00</td>\n",
       "      <td>0.0</td>\n",
       "      <td>0.00</td>\n",
       "      <td>0.0</td>\n",
       "      <td>0.00</td>\n",
       "      <td>0.0</td>\n",
       "      <td>0.00</td>\n",
       "      <td>0.0</td>\n",
       "      <td>0.00</td>\n",
       "      <td>0.0</td>\n",
       "      <td>0.00</td>\n",
       "      <td>0.00</td>\n",
       "      <td>0.0</td>\n",
       "      <td>0.00</td>\n",
       "    </tr>\n",
       "    <tr>\n",
       "      <th>9</th>\n",
       "      <td>1.28</td>\n",
       "      <td>0.13</td>\n",
       "      <td>0.0</td>\n",
       "      <td>-0.22</td>\n",
       "      <td>0.56</td>\n",
       "      <td>0.0</td>\n",
       "      <td>-0.18</td>\n",
       "      <td>-0.42</td>\n",
       "      <td>-0.46</td>\n",
       "      <td>0.0</td>\n",
       "      <td>0.0</td>\n",
       "      <td>-0.04</td>\n",
       "      <td>0.0</td>\n",
       "      <td>-0.29</td>\n",
       "      <td>0.0</td>\n",
       "      <td>-0.18</td>\n",
       "      <td>0.0</td>\n",
       "      <td>0.16</td>\n",
       "      <td>0.0</td>\n",
       "      <td>-0.13</td>\n",
       "      <td>0.0</td>\n",
       "      <td>0.06</td>\n",
       "      <td>1.07</td>\n",
       "      <td>0.0</td>\n",
       "      <td>-0.07</td>\n",
       "    </tr>\n",
       "  </tbody>\n",
       "</table>\n",
       "</div>"
      ],
      "text/plain": [
       "   baseline  age_group__1  age_group__2  age_group__3  age_group__4  gender_f  \\\n",
       "0      0.00          0.00           0.0          0.00          0.00       0.0   \n",
       "1      0.00          0.00           0.0          0.00          0.00       0.0   \n",
       "2      0.00          0.00           0.0          0.00          0.00       0.0   \n",
       "3      0.00          0.00           0.0          0.00          0.00       0.0   \n",
       "4      0.00          0.00           0.0          0.00          0.00       0.0   \n",
       "5      0.00          0.00           0.0          0.00          0.00       0.0   \n",
       "6      0.00          0.00           0.0          0.00          0.00       0.0   \n",
       "7      0.00          0.00           0.0          0.00          0.00       0.0   \n",
       "8      0.00          0.00           0.0          0.00          0.00       0.0   \n",
       "9      1.28          0.13           0.0         -0.22          0.56       0.0   \n",
       "\n",
       "   gender_m  education_high  education_low  education_medium  unemployed_no  \\\n",
       "0      0.00            0.00           0.00               0.0            0.0   \n",
       "1      0.00            0.00           0.00               0.0            0.0   \n",
       "2      0.00            0.00           0.00               0.0            0.0   \n",
       "3      0.00            0.00           0.00               0.0            0.0   \n",
       "4      0.00            0.00           0.00               0.0            0.0   \n",
       "5      0.00            0.00           0.00               0.0            0.0   \n",
       "6      0.00            0.00           0.00               0.0            0.0   \n",
       "7      0.00            0.00           0.00               0.0            0.0   \n",
       "8      0.00            0.00           0.00               0.0            0.0   \n",
       "9     -0.18           -0.42          -0.46               0.0            0.0   \n",
       "\n",
       "   unemployed_yes  have_partner_no  have_partner_yes  depressed_no  \\\n",
       "0            0.00              0.0              0.00           0.0   \n",
       "1            0.00              0.0              0.00           0.0   \n",
       "2            0.00              0.0              0.00           0.0   \n",
       "3            0.00              0.0              0.00           0.0   \n",
       "4            0.00              0.0              0.00           0.0   \n",
       "5            0.00              0.0              0.00           0.0   \n",
       "6            0.00              0.0              0.00           0.0   \n",
       "7            0.00              0.0              0.00           0.0   \n",
       "8            0.00              0.0              0.00           0.0   \n",
       "9           -0.04              0.0             -0.29           0.0   \n",
       "\n",
       "   depressed_yes  children_presence_no  children_presence_yes  \\\n",
       "0           0.00                   0.0                   0.00   \n",
       "1           0.00                   0.0                   0.00   \n",
       "2           0.00                   0.0                   0.00   \n",
       "3           0.00                   0.0                   0.00   \n",
       "4           0.00                   0.0                   0.00   \n",
       "5           0.00                   0.0                   0.00   \n",
       "6           0.00                   0.0                   0.00   \n",
       "7           0.00                   0.0                   0.00   \n",
       "8           0.00                   0.0                   0.00   \n",
       "9          -0.18                   0.0                   0.16   \n",
       "\n",
       "   housing_financial_difficulties_no  housing_financial_difficulties_yes  \\\n",
       "0                                0.0                                0.00   \n",
       "1                                0.0                                0.00   \n",
       "2                                0.0                                0.00   \n",
       "3                                0.0                                0.00   \n",
       "4                                0.0                                0.00   \n",
       "5                                0.0                                0.00   \n",
       "6                                0.0                                0.00   \n",
       "7                                0.0                                0.00   \n",
       "8                                0.0                                0.00   \n",
       "9                                0.0                               -0.13   \n",
       "\n",
       "   selfrated_health_average  selfrated_health_good  selfrated_health_poor  \\\n",
       "0                       0.0                   0.00                   0.00   \n",
       "1                       0.0                   0.00                   0.00   \n",
       "2                       0.0                   0.00                   0.00   \n",
       "3                       0.0                   0.00                   0.00   \n",
       "4                       0.0                   0.00                   0.00   \n",
       "5                       0.0                   0.00                   0.00   \n",
       "6                       0.0                   0.00                   0.00   \n",
       "7                       0.0                   0.00                   0.00   \n",
       "8                       0.0                   0.00                   0.00   \n",
       "9                       0.0                   0.06                   1.07   \n",
       "\n",
       "   critical_job_no  critical_job_yes  \n",
       "0              0.0              0.00  \n",
       "1              0.0              0.00  \n",
       "2              0.0              0.00  \n",
       "3              0.0              0.00  \n",
       "4              0.0              0.00  \n",
       "5              0.0              0.00  \n",
       "6              0.0              0.00  \n",
       "7              0.0              0.00  \n",
       "8              0.0              0.00  \n",
       "9              0.0             -0.07  "
      ]
     },
     "execution_count": 8,
     "metadata": {},
     "output_type": "execute_result"
    }
   ],
   "source": [
    "lockdown_matrices[current_lockdown]"
   ]
  },
  {
   "cell_type": "code",
   "execution_count": 9,
   "id": "d4d644a6-25f1-4654-9804-03db78a02973",
   "metadata": {},
   "outputs": [
    {
     "data": {
      "text/html": [
       "<div>\n",
       "<style scoped>\n",
       "    .dataframe tbody tr th:only-of-type {\n",
       "        vertical-align: middle;\n",
       "    }\n",
       "\n",
       "    .dataframe tbody tr th {\n",
       "        vertical-align: top;\n",
       "    }\n",
       "\n",
       "    .dataframe thead th {\n",
       "        text-align: right;\n",
       "    }\n",
       "</style>\n",
       "<table border=\"1\" class=\"dataframe\">\n",
       "  <thead>\n",
       "    <tr style=\"text-align: right;\">\n",
       "      <th></th>\n",
       "      <th>baseline</th>\n",
       "      <th>age_group__1</th>\n",
       "      <th>age_group__2</th>\n",
       "      <th>age_group__3</th>\n",
       "      <th>age_group__4</th>\n",
       "      <th>gender_f</th>\n",
       "      <th>gender_m</th>\n",
       "      <th>education_high</th>\n",
       "      <th>education_low</th>\n",
       "      <th>education_medium</th>\n",
       "      <th>unemployed_no</th>\n",
       "      <th>unemployed_yes</th>\n",
       "      <th>have_partner_no</th>\n",
       "      <th>have_partner_yes</th>\n",
       "      <th>depressed_no</th>\n",
       "      <th>depressed_yes</th>\n",
       "      <th>children_presence_no</th>\n",
       "      <th>children_presence_yes</th>\n",
       "      <th>housing_financial_difficulties_no</th>\n",
       "      <th>housing_financial_difficulties_yes</th>\n",
       "      <th>selfrated_health_average</th>\n",
       "      <th>selfrated_health_good</th>\n",
       "      <th>selfrated_health_poor</th>\n",
       "      <th>critical_job_no</th>\n",
       "      <th>critical_job_yes</th>\n",
       "    </tr>\n",
       "  </thead>\n",
       "  <tbody>\n",
       "    <tr>\n",
       "      <th>0</th>\n",
       "      <td>0.00</td>\n",
       "      <td>0.00</td>\n",
       "      <td>0.0</td>\n",
       "      <td>0.00</td>\n",
       "      <td>0.00</td>\n",
       "      <td>0.0</td>\n",
       "      <td>0.00</td>\n",
       "      <td>0.00</td>\n",
       "      <td>0.00</td>\n",
       "      <td>0.0</td>\n",
       "      <td>0.0</td>\n",
       "      <td>0.00</td>\n",
       "      <td>0.0</td>\n",
       "      <td>0.00</td>\n",
       "      <td>0.0</td>\n",
       "      <td>0.00</td>\n",
       "      <td>0.0</td>\n",
       "      <td>0.00</td>\n",
       "      <td>0.0</td>\n",
       "      <td>0.00</td>\n",
       "      <td>0.0</td>\n",
       "      <td>0.00</td>\n",
       "      <td>0.00</td>\n",
       "      <td>0.0</td>\n",
       "      <td>0.00</td>\n",
       "    </tr>\n",
       "    <tr>\n",
       "      <th>1</th>\n",
       "      <td>0.00</td>\n",
       "      <td>0.00</td>\n",
       "      <td>0.0</td>\n",
       "      <td>0.00</td>\n",
       "      <td>0.00</td>\n",
       "      <td>0.0</td>\n",
       "      <td>0.00</td>\n",
       "      <td>0.00</td>\n",
       "      <td>0.00</td>\n",
       "      <td>0.0</td>\n",
       "      <td>0.0</td>\n",
       "      <td>0.00</td>\n",
       "      <td>0.0</td>\n",
       "      <td>0.00</td>\n",
       "      <td>0.0</td>\n",
       "      <td>0.00</td>\n",
       "      <td>0.0</td>\n",
       "      <td>0.00</td>\n",
       "      <td>0.0</td>\n",
       "      <td>0.00</td>\n",
       "      <td>0.0</td>\n",
       "      <td>0.00</td>\n",
       "      <td>0.00</td>\n",
       "      <td>0.0</td>\n",
       "      <td>0.00</td>\n",
       "    </tr>\n",
       "    <tr>\n",
       "      <th>2</th>\n",
       "      <td>0.00</td>\n",
       "      <td>0.00</td>\n",
       "      <td>0.0</td>\n",
       "      <td>0.00</td>\n",
       "      <td>0.00</td>\n",
       "      <td>0.0</td>\n",
       "      <td>0.00</td>\n",
       "      <td>0.00</td>\n",
       "      <td>0.00</td>\n",
       "      <td>0.0</td>\n",
       "      <td>0.0</td>\n",
       "      <td>0.00</td>\n",
       "      <td>0.0</td>\n",
       "      <td>0.00</td>\n",
       "      <td>0.0</td>\n",
       "      <td>0.00</td>\n",
       "      <td>0.0</td>\n",
       "      <td>0.00</td>\n",
       "      <td>0.0</td>\n",
       "      <td>0.00</td>\n",
       "      <td>0.0</td>\n",
       "      <td>0.00</td>\n",
       "      <td>0.00</td>\n",
       "      <td>0.0</td>\n",
       "      <td>0.00</td>\n",
       "    </tr>\n",
       "    <tr>\n",
       "      <th>3</th>\n",
       "      <td>0.00</td>\n",
       "      <td>0.00</td>\n",
       "      <td>0.0</td>\n",
       "      <td>0.00</td>\n",
       "      <td>0.00</td>\n",
       "      <td>0.0</td>\n",
       "      <td>0.00</td>\n",
       "      <td>0.00</td>\n",
       "      <td>0.00</td>\n",
       "      <td>0.0</td>\n",
       "      <td>0.0</td>\n",
       "      <td>0.00</td>\n",
       "      <td>0.0</td>\n",
       "      <td>0.00</td>\n",
       "      <td>0.0</td>\n",
       "      <td>0.00</td>\n",
       "      <td>0.0</td>\n",
       "      <td>0.00</td>\n",
       "      <td>0.0</td>\n",
       "      <td>0.00</td>\n",
       "      <td>0.0</td>\n",
       "      <td>0.00</td>\n",
       "      <td>0.00</td>\n",
       "      <td>0.0</td>\n",
       "      <td>0.00</td>\n",
       "    </tr>\n",
       "    <tr>\n",
       "      <th>4</th>\n",
       "      <td>0.00</td>\n",
       "      <td>0.00</td>\n",
       "      <td>0.0</td>\n",
       "      <td>0.00</td>\n",
       "      <td>0.00</td>\n",
       "      <td>0.0</td>\n",
       "      <td>0.00</td>\n",
       "      <td>0.00</td>\n",
       "      <td>0.00</td>\n",
       "      <td>0.0</td>\n",
       "      <td>0.0</td>\n",
       "      <td>0.00</td>\n",
       "      <td>0.0</td>\n",
       "      <td>0.00</td>\n",
       "      <td>0.0</td>\n",
       "      <td>0.00</td>\n",
       "      <td>0.0</td>\n",
       "      <td>0.00</td>\n",
       "      <td>0.0</td>\n",
       "      <td>0.00</td>\n",
       "      <td>0.0</td>\n",
       "      <td>0.00</td>\n",
       "      <td>0.00</td>\n",
       "      <td>0.0</td>\n",
       "      <td>0.00</td>\n",
       "    </tr>\n",
       "    <tr>\n",
       "      <th>5</th>\n",
       "      <td>0.00</td>\n",
       "      <td>0.00</td>\n",
       "      <td>0.0</td>\n",
       "      <td>0.00</td>\n",
       "      <td>0.00</td>\n",
       "      <td>0.0</td>\n",
       "      <td>0.00</td>\n",
       "      <td>0.00</td>\n",
       "      <td>0.00</td>\n",
       "      <td>0.0</td>\n",
       "      <td>0.0</td>\n",
       "      <td>0.00</td>\n",
       "      <td>0.0</td>\n",
       "      <td>0.00</td>\n",
       "      <td>0.0</td>\n",
       "      <td>0.00</td>\n",
       "      <td>0.0</td>\n",
       "      <td>0.00</td>\n",
       "      <td>0.0</td>\n",
       "      <td>0.00</td>\n",
       "      <td>0.0</td>\n",
       "      <td>0.00</td>\n",
       "      <td>0.00</td>\n",
       "      <td>0.0</td>\n",
       "      <td>0.00</td>\n",
       "    </tr>\n",
       "    <tr>\n",
       "      <th>6</th>\n",
       "      <td>0.00</td>\n",
       "      <td>0.00</td>\n",
       "      <td>0.0</td>\n",
       "      <td>0.00</td>\n",
       "      <td>0.00</td>\n",
       "      <td>0.0</td>\n",
       "      <td>0.00</td>\n",
       "      <td>0.00</td>\n",
       "      <td>0.00</td>\n",
       "      <td>0.0</td>\n",
       "      <td>0.0</td>\n",
       "      <td>0.00</td>\n",
       "      <td>0.0</td>\n",
       "      <td>0.00</td>\n",
       "      <td>0.0</td>\n",
       "      <td>0.00</td>\n",
       "      <td>0.0</td>\n",
       "      <td>0.00</td>\n",
       "      <td>0.0</td>\n",
       "      <td>0.00</td>\n",
       "      <td>0.0</td>\n",
       "      <td>0.00</td>\n",
       "      <td>0.00</td>\n",
       "      <td>0.0</td>\n",
       "      <td>0.00</td>\n",
       "    </tr>\n",
       "    <tr>\n",
       "      <th>7</th>\n",
       "      <td>0.00</td>\n",
       "      <td>0.00</td>\n",
       "      <td>0.0</td>\n",
       "      <td>0.00</td>\n",
       "      <td>0.00</td>\n",
       "      <td>0.0</td>\n",
       "      <td>0.00</td>\n",
       "      <td>0.00</td>\n",
       "      <td>0.00</td>\n",
       "      <td>0.0</td>\n",
       "      <td>0.0</td>\n",
       "      <td>0.00</td>\n",
       "      <td>0.0</td>\n",
       "      <td>0.00</td>\n",
       "      <td>0.0</td>\n",
       "      <td>0.00</td>\n",
       "      <td>0.0</td>\n",
       "      <td>0.00</td>\n",
       "      <td>0.0</td>\n",
       "      <td>0.00</td>\n",
       "      <td>0.0</td>\n",
       "      <td>0.00</td>\n",
       "      <td>0.00</td>\n",
       "      <td>0.0</td>\n",
       "      <td>0.00</td>\n",
       "    </tr>\n",
       "    <tr>\n",
       "      <th>8</th>\n",
       "      <td>0.00</td>\n",
       "      <td>0.00</td>\n",
       "      <td>0.0</td>\n",
       "      <td>0.00</td>\n",
       "      <td>0.00</td>\n",
       "      <td>0.0</td>\n",
       "      <td>0.00</td>\n",
       "      <td>0.00</td>\n",
       "      <td>0.00</td>\n",
       "      <td>0.0</td>\n",
       "      <td>0.0</td>\n",
       "      <td>0.00</td>\n",
       "      <td>0.0</td>\n",
       "      <td>0.00</td>\n",
       "      <td>0.0</td>\n",
       "      <td>0.00</td>\n",
       "      <td>0.0</td>\n",
       "      <td>0.00</td>\n",
       "      <td>0.0</td>\n",
       "      <td>0.00</td>\n",
       "      <td>0.0</td>\n",
       "      <td>0.00</td>\n",
       "      <td>0.00</td>\n",
       "      <td>0.0</td>\n",
       "      <td>0.00</td>\n",
       "    </tr>\n",
       "    <tr>\n",
       "      <th>9</th>\n",
       "      <td>-4.51</td>\n",
       "      <td>1.39</td>\n",
       "      <td>0.0</td>\n",
       "      <td>1.52</td>\n",
       "      <td>0.63</td>\n",
       "      <td>0.0</td>\n",
       "      <td>-0.12</td>\n",
       "      <td>-0.37</td>\n",
       "      <td>-1.03</td>\n",
       "      <td>0.0</td>\n",
       "      <td>0.0</td>\n",
       "      <td>0.51</td>\n",
       "      <td>0.0</td>\n",
       "      <td>1.37</td>\n",
       "      <td>0.0</td>\n",
       "      <td>1.39</td>\n",
       "      <td>0.0</td>\n",
       "      <td>0.12</td>\n",
       "      <td>0.0</td>\n",
       "      <td>-1.34</td>\n",
       "      <td>0.0</td>\n",
       "      <td>-1.09</td>\n",
       "      <td>1.08</td>\n",
       "      <td>0.0</td>\n",
       "      <td>-0.03</td>\n",
       "    </tr>\n",
       "  </tbody>\n",
       "</table>\n",
       "</div>"
      ],
      "text/plain": [
       "   baseline  age_group__1  age_group__2  age_group__3  age_group__4  gender_f  \\\n",
       "0      0.00          0.00           0.0          0.00          0.00       0.0   \n",
       "1      0.00          0.00           0.0          0.00          0.00       0.0   \n",
       "2      0.00          0.00           0.0          0.00          0.00       0.0   \n",
       "3      0.00          0.00           0.0          0.00          0.00       0.0   \n",
       "4      0.00          0.00           0.0          0.00          0.00       0.0   \n",
       "5      0.00          0.00           0.0          0.00          0.00       0.0   \n",
       "6      0.00          0.00           0.0          0.00          0.00       0.0   \n",
       "7      0.00          0.00           0.0          0.00          0.00       0.0   \n",
       "8      0.00          0.00           0.0          0.00          0.00       0.0   \n",
       "9     -4.51          1.39           0.0          1.52          0.63       0.0   \n",
       "\n",
       "   gender_m  education_high  education_low  education_medium  unemployed_no  \\\n",
       "0      0.00            0.00           0.00               0.0            0.0   \n",
       "1      0.00            0.00           0.00               0.0            0.0   \n",
       "2      0.00            0.00           0.00               0.0            0.0   \n",
       "3      0.00            0.00           0.00               0.0            0.0   \n",
       "4      0.00            0.00           0.00               0.0            0.0   \n",
       "5      0.00            0.00           0.00               0.0            0.0   \n",
       "6      0.00            0.00           0.00               0.0            0.0   \n",
       "7      0.00            0.00           0.00               0.0            0.0   \n",
       "8      0.00            0.00           0.00               0.0            0.0   \n",
       "9     -0.12           -0.37          -1.03               0.0            0.0   \n",
       "\n",
       "   unemployed_yes  have_partner_no  have_partner_yes  depressed_no  \\\n",
       "0            0.00              0.0              0.00           0.0   \n",
       "1            0.00              0.0              0.00           0.0   \n",
       "2            0.00              0.0              0.00           0.0   \n",
       "3            0.00              0.0              0.00           0.0   \n",
       "4            0.00              0.0              0.00           0.0   \n",
       "5            0.00              0.0              0.00           0.0   \n",
       "6            0.00              0.0              0.00           0.0   \n",
       "7            0.00              0.0              0.00           0.0   \n",
       "8            0.00              0.0              0.00           0.0   \n",
       "9            0.51              0.0              1.37           0.0   \n",
       "\n",
       "   depressed_yes  children_presence_no  children_presence_yes  \\\n",
       "0           0.00                   0.0                   0.00   \n",
       "1           0.00                   0.0                   0.00   \n",
       "2           0.00                   0.0                   0.00   \n",
       "3           0.00                   0.0                   0.00   \n",
       "4           0.00                   0.0                   0.00   \n",
       "5           0.00                   0.0                   0.00   \n",
       "6           0.00                   0.0                   0.00   \n",
       "7           0.00                   0.0                   0.00   \n",
       "8           0.00                   0.0                   0.00   \n",
       "9           1.39                   0.0                   0.12   \n",
       "\n",
       "   housing_financial_difficulties_no  housing_financial_difficulties_yes  \\\n",
       "0                                0.0                                0.00   \n",
       "1                                0.0                                0.00   \n",
       "2                                0.0                                0.00   \n",
       "3                                0.0                                0.00   \n",
       "4                                0.0                                0.00   \n",
       "5                                0.0                                0.00   \n",
       "6                                0.0                                0.00   \n",
       "7                                0.0                                0.00   \n",
       "8                                0.0                                0.00   \n",
       "9                                0.0                               -1.34   \n",
       "\n",
       "   selfrated_health_average  selfrated_health_good  selfrated_health_poor  \\\n",
       "0                       0.0                   0.00                   0.00   \n",
       "1                       0.0                   0.00                   0.00   \n",
       "2                       0.0                   0.00                   0.00   \n",
       "3                       0.0                   0.00                   0.00   \n",
       "4                       0.0                   0.00                   0.00   \n",
       "5                       0.0                   0.00                   0.00   \n",
       "6                       0.0                   0.00                   0.00   \n",
       "7                       0.0                   0.00                   0.00   \n",
       "8                       0.0                   0.00                   0.00   \n",
       "9                       0.0                  -1.09                   1.08   \n",
       "\n",
       "   critical_job_no  critical_job_yes  \n",
       "0              0.0              0.00  \n",
       "1              0.0              0.00  \n",
       "2              0.0              0.00  \n",
       "3              0.0              0.00  \n",
       "4              0.0              0.00  \n",
       "5              0.0              0.00  \n",
       "6              0.0              0.00  \n",
       "7              0.0              0.00  \n",
       "8              0.0              0.00  \n",
       "9              0.0             -0.03  "
      ]
     },
     "execution_count": 9,
     "metadata": {},
     "output_type": "execute_result"
    }
   ],
   "source": [
    "actions_effects_matrices[current_lockdown]"
   ]
  },
  {
   "cell_type": "code",
   "execution_count": 26,
   "id": "6df98d2c-d80c-4aad-83be-41f002733eb9",
   "metadata": {},
   "outputs": [],
   "source": [
    "model.step(lockdown_matrices[current_lockdown],\n",
    "          actions_effects_matrices[current_lockdown])"
   ]
  },
  {
   "cell_type": "code",
   "execution_count": 27,
   "id": "fe62f004-ba68-4eb1-ab35-4daa640a00eb",
   "metadata": {},
   "outputs": [],
   "source": [
    "model.current_step = step"
   ]
  },
  {
   "cell_type": "code",
   "execution_count": 28,
   "id": "a0586f9a-84bf-4256-bc34-fc338ef06c83",
   "metadata": {},
   "outputs": [
    {
     "data": {
      "text/plain": [
       "2"
      ]
     },
     "execution_count": 28,
     "metadata": {},
     "output_type": "execute_result"
    }
   ],
   "source": [
    "model.current_step"
   ]
  },
  {
   "cell_type": "code",
   "execution_count": 29,
   "id": "ebf76d89-eba6-4f80-98e4-38acadbfcc7f",
   "metadata": {},
   "outputs": [],
   "source": [
    "lockdown = 'absent'"
   ]
  },
  {
   "cell_type": "code",
   "execution_count": 23,
   "id": "2406cc15-8f97-4c17-9319-90dbc85792f5",
   "metadata": {},
   "outputs": [],
   "source": [
    "delta_mh = 0  # it's day 0, so no incremental change\n",
    "model.cumulative_status[step] = [\n",
    "    (lockdown, agent.id, delta_mh, agent.get_status())\n",
    "    for agent in model.agents\n",
    "]"
   ]
  },
  {
   "cell_type": "code",
   "execution_count": 24,
   "id": "97d9adc4-8cbd-4685-a536-e96619244d51",
   "metadata": {},
   "outputs": [
    {
     "data": {
      "text/plain": [
       "{0: [('absent', 0, 0, -3.9700000000000006),\n",
       "  ('absent', 1, 0, -2.9400000000000004),\n",
       "  ('absent', 2, 0, -2.5500000000000007),\n",
       "  ('absent', 3, 0, 0.0),\n",
       "  ('absent', 4, 0, -3.54)],\n",
       " 1: [('absent', 0, 0, -3.9700000000000006),\n",
       "  ('absent', 1, 0, 0.0),\n",
       "  ('absent', 2, 0, -2.5500000000000007),\n",
       "  ('absent', 3, 0, -4.090000000000001),\n",
       "  ('absent', 4, 0, -3.54)]}"
      ]
     },
     "execution_count": 24,
     "metadata": {},
     "output_type": "execute_result"
    }
   ],
   "source": [
    "model.cumulative_status\n"
   ]
  },
  {
   "cell_type": "code",
   "execution_count": 30,
   "id": "6cb554c0-ac5c-4f06-8a66-8281693c8c91",
   "metadata": {},
   "outputs": [],
   "source": [
    "agent_statuses = []"
   ]
  },
  {
   "cell_type": "code",
   "execution_count": 39,
   "id": "d696c353-d47a-4706-b1af-da4d34f2b04b",
   "metadata": {},
   "outputs": [
    {
     "data": {
      "text/plain": [
       "0"
      ]
     },
     "execution_count": 39,
     "metadata": {},
     "output_type": "execute_result"
    }
   ],
   "source": [
    "agent.id"
   ]
  },
  {
   "cell_type": "code",
   "execution_count": 50,
   "id": "a34c800d-54cc-4e69-887f-37cd147b12a4",
   "metadata": {},
   "outputs": [
    {
     "name": "stdout",
     "output_type": "stream",
     "text": [
      "('absent', 0, 0, -3.9700000000000006)\n"
     ]
    }
   ],
   "source": [
    "[print(status) for status in model.cumulative_status[step - 1] if status[1] == agent.id][0]"
   ]
  },
  {
   "cell_type": "code",
   "execution_count": null,
   "id": "e6557d53-e71a-4d22-a9e3-874dd48da064",
   "metadata": {},
   "outputs": [],
   "source": []
  },
  {
   "cell_type": "code",
   "execution_count": 52,
   "id": "eaa7d97c-2678-414a-ac7b-47804e9c2e59",
   "metadata": {},
   "outputs": [
    {
     "data": {
      "text/plain": [
       "[('absent', 0, 0.0, -3.9721802136335578),\n",
       " ('absent', 1, -2.9400000000000004, -2.942204074059649),\n",
       " ('absent', 2, -2.5500000000000007, -5.101029642161991),\n",
       " ('absent', 3, 0.0, -4.0927224178550095),\n",
       " ('absent', 4, -3.54, -7.082096430431605),\n",
       " ('absent', 0, 0.0, -3.9717895675897896),\n",
       " ('absent', 1, -2.9400000000000004, -2.9428701267304693),\n",
       " ('absent', 2, -2.5500000000000007, -5.101817956612111),\n",
       " ('absent', 3, 0.0, -4.092671977209793),\n",
       " ('absent', 4, -3.54, -7.081590889519336)]"
      ]
     },
     "execution_count": 52,
     "metadata": {},
     "output_type": "execute_result"
    }
   ],
   "source": [
    "for agent in model.agents:\n",
    "    last_status = \\\n",
    "        [status for status in model.cumulative_status[step - 1]\n",
    "         if status[1] == agent.id][0][-1]\n",
    "    delta_mh = agent.get_status()  # this is the incremental effect\n",
    "    mu, sigma = 0.002, 0.0005\n",
    "    # this is the baseline effect when no action is taken\n",
    "    # or when action effects are canceled out\n",
    "    baseline = np.random.normal(mu, sigma)\n",
    "    new_status = (lockdown, agent.id, delta_mh,\n",
    "                  (last_status + delta_mh) - baseline)\n",
    "    agent_statuses.append(new_status)\n",
    "agent_statuses"
   ]
  },
  {
   "cell_type": "code",
   "execution_count": null,
   "id": "7dc27161-8577-4b56-beb4-28f99779f83f",
   "metadata": {},
   "outputs": [],
   "source": []
  },
  {
   "cell_type": "code",
   "execution_count": null,
   "id": "cc382a31-c994-4b76-9370-460587d15c1a",
   "metadata": {},
   "outputs": [],
   "source": []
  },
  {
   "cell_type": "code",
   "execution_count": null,
   "id": "56c35f47-e1f2-4cdc-8ea7-50140062d1f6",
   "metadata": {},
   "outputs": [],
   "source": []
  },
  {
   "cell_type": "code",
   "execution_count": null,
   "id": "19812a1f-e9f6-4db0-8fd1-f3c7f2a66161",
   "metadata": {},
   "outputs": [],
   "source": []
  },
  {
   "cell_type": "code",
   "execution_count": 37,
   "id": "8a113dd2-eeda-4a47-910b-f2fca721745f",
   "metadata": {},
   "outputs": [],
   "source": [
    "params_status = action_effects"
   ]
  },
  {
   "cell_type": "code",
   "execution_count": 38,
   "id": "0317dd59-cc35-4567-a7a4-3f9222358ca4",
   "metadata": {},
   "outputs": [
    {
     "data": {
      "text/plain": [
       "array([False,  True, False, False,  True,  True, False,  True, False,\n",
       "        True])"
      ]
     },
     "execution_count": 38,
     "metadata": {},
     "output_type": "execute_result"
    }
   ],
   "source": [
    "actions"
   ]
  },
  {
   "cell_type": "code",
   "execution_count": 42,
   "id": "7ab01f36-c122-4bcc-9642-6a23e22b82ef",
   "metadata": {},
   "outputs": [
    {
     "data": {
      "text/plain": [
       "baseline                              1\n",
       "age_group__1                          0\n",
       "age_group__2                          1\n",
       "age_group__3                          0\n",
       "age_group__4                          0\n",
       "gender_f                              1\n",
       "gender_m                              0\n",
       "education_high                        1\n",
       "education_low                         0\n",
       "education_medium                      0\n",
       "unemployed_no                         0\n",
       "unemployed_yes                        1\n",
       "have_partner_no                       0\n",
       "have_partner_yes                      1\n",
       "depressed_no                          1\n",
       "depressed_yes                         0\n",
       "children_presence_no                  0\n",
       "children_presence_yes                 1\n",
       "housing_financial_difficulties_no     1\n",
       "housing_financial_difficulties_yes    0\n",
       "selfrated_health_average              0\n",
       "selfrated_health_good                 1\n",
       "selfrated_health_poor                 0\n",
       "critical_job_no                       1\n",
       "critical_job_yes                      0\n",
       "Name: 0, dtype: int64"
      ]
     },
     "execution_count": 42,
     "metadata": {},
     "output_type": "execute_result"
    }
   ],
   "source": [
    "agent.get_features()"
   ]
  },
  {
   "cell_type": "code",
   "execution_count": 40,
   "id": "d74653d8-c691-43b5-afae-4ffb629bf72a",
   "metadata": {},
   "outputs": [
    {
     "ename": "TypeError",
     "evalue": "can only concatenate str (not \"float\") to str",
     "output_type": "error",
     "traceback": [
      "\u001b[0;31m---------------------------------------------------------------------------\u001b[0m",
      "\u001b[0;31mTypeError\u001b[0m                                 Traceback (most recent call last)",
      "Cell \u001b[0;32mIn[40], line 1\u001b[0m\n\u001b[0;32m----> 1\u001b[0m \u001b[43mparams_status\u001b[49m\u001b[38;5;241;43m.\u001b[39;49m\u001b[43mdot\u001b[49m\u001b[43m(\u001b[49m\u001b[43magent\u001b[49m\u001b[38;5;241;43m.\u001b[39;49m\u001b[43mget_features\u001b[49m\u001b[43m(\u001b[49m\u001b[43m)\u001b[49m\u001b[43m)\u001b[49m\n",
      "File \u001b[0;32m~/opt/anaconda3/envs/py39/lib/python3.9/site-packages/pandas/core/frame.py:1612\u001b[0m, in \u001b[0;36mDataFrame.dot\u001b[0;34m(self, other)\u001b[0m\n\u001b[1;32m   1608\u001b[0m     \u001b[38;5;28;01mreturn\u001b[39;00m \u001b[38;5;28mself\u001b[39m\u001b[38;5;241m.\u001b[39m_constructor(\n\u001b[1;32m   1609\u001b[0m         np\u001b[38;5;241m.\u001b[39mdot(lvals, rvals), index\u001b[38;5;241m=\u001b[39mleft\u001b[38;5;241m.\u001b[39mindex, columns\u001b[38;5;241m=\u001b[39mother\u001b[38;5;241m.\u001b[39mcolumns\n\u001b[1;32m   1610\u001b[0m     )\n\u001b[1;32m   1611\u001b[0m \u001b[38;5;28;01melif\u001b[39;00m \u001b[38;5;28misinstance\u001b[39m(other, Series):\n\u001b[0;32m-> 1612\u001b[0m     \u001b[38;5;28;01mreturn\u001b[39;00m \u001b[38;5;28mself\u001b[39m\u001b[38;5;241m.\u001b[39m_constructor_sliced(\u001b[43mnp\u001b[49m\u001b[38;5;241;43m.\u001b[39;49m\u001b[43mdot\u001b[49m\u001b[43m(\u001b[49m\u001b[43mlvals\u001b[49m\u001b[43m,\u001b[49m\u001b[43m \u001b[49m\u001b[43mrvals\u001b[49m\u001b[43m)\u001b[49m, index\u001b[38;5;241m=\u001b[39mleft\u001b[38;5;241m.\u001b[39mindex)\n\u001b[1;32m   1613\u001b[0m \u001b[38;5;28;01melif\u001b[39;00m \u001b[38;5;28misinstance\u001b[39m(rvals, (np\u001b[38;5;241m.\u001b[39mndarray, Index)):\n\u001b[1;32m   1614\u001b[0m     result \u001b[38;5;241m=\u001b[39m np\u001b[38;5;241m.\u001b[39mdot(lvals, rvals)\n",
      "File \u001b[0;32m<__array_function__ internals>:200\u001b[0m, in \u001b[0;36mdot\u001b[0;34m(*args, **kwargs)\u001b[0m\n",
      "\u001b[0;31mTypeError\u001b[0m: can only concatenate str (not \"float\") to str"
     ]
    }
   ],
   "source": [
    "params_status.dot(agent.get_features())"
   ]
  },
  {
   "cell_type": "code",
   "execution_count": 44,
   "id": "a86a7200-4b70-4055-bfe8-1a84a44f1455",
   "metadata": {},
   "outputs": [
    {
     "name": "stdout",
     "output_type": "stream",
     "text": [
      "baseline                               object\n",
      "age_group__1                          float64\n",
      "age_group__2                          float64\n",
      "age_group__3                          float64\n",
      "age_group__4                          float64\n",
      "gender_f                              float64\n",
      "gender_m                              float64\n",
      "education_high                        float64\n",
      "education_low                         float64\n",
      "education_medium                      float64\n",
      "unemployed_no                         float64\n",
      "unemployed_yes                        float64\n",
      "have_partner_no                       float64\n",
      "have_partner_yes                      float64\n",
      "depressed_no                          float64\n",
      "depressed_yes                         float64\n",
      "children_presence_no                  float64\n",
      "children_presence_yes                 float64\n",
      "housing_financial_difficulties_no     float64\n",
      "housing_financial_difficulties_yes    float64\n",
      "selfrated_health_average              float64\n",
      "selfrated_health_good                 float64\n",
      "selfrated_health_poor                 float64\n",
      "critical_job_no                       float64\n",
      "critical_job_yes                      float64\n",
      "dtype: object\n"
     ]
    }
   ],
   "source": [
    "print(params_status.dtypes)\n"
   ]
  },
  {
   "cell_type": "code",
   "execution_count": 45,
   "id": "932f23a0-08ff-4b6c-850c-4ba26c8ff913",
   "metadata": {},
   "outputs": [
    {
     "name": "stdout",
     "output_type": "stream",
     "text": [
      "int64\n"
     ]
    }
   ],
   "source": [
    "print(agent.get_features().dtypes)\n"
   ]
  },
  {
   "cell_type": "code",
   "execution_count": 39,
   "id": "c7826319-74ee-4b9d-a406-dbc8983d20c6",
   "metadata": {},
   "outputs": [
    {
     "ename": "TypeError",
     "evalue": "can only concatenate str (not \"float\") to str",
     "output_type": "error",
     "traceback": [
      "\u001b[0;31m---------------------------------------------------------------------------\u001b[0m",
      "\u001b[0;31mTypeError\u001b[0m                                 Traceback (most recent call last)",
      "Cell \u001b[0;32mIn[39], line 1\u001b[0m\n\u001b[0;32m----> 1\u001b[0m \u001b[43mparams_status\u001b[49m\u001b[38;5;241;43m.\u001b[39;49m\u001b[43mdot\u001b[49m\u001b[43m(\u001b[49m\u001b[43magent\u001b[49m\u001b[38;5;241;43m.\u001b[39;49m\u001b[43mget_features\u001b[49m\u001b[43m(\u001b[49m\u001b[43m)\u001b[49m\u001b[43m)\u001b[49m\u001b[38;5;241m.\u001b[39mdot(actions)\n",
      "File \u001b[0;32m~/opt/anaconda3/envs/py39/lib/python3.9/site-packages/pandas/core/frame.py:1612\u001b[0m, in \u001b[0;36mDataFrame.dot\u001b[0;34m(self, other)\u001b[0m\n\u001b[1;32m   1608\u001b[0m     \u001b[38;5;28;01mreturn\u001b[39;00m \u001b[38;5;28mself\u001b[39m\u001b[38;5;241m.\u001b[39m_constructor(\n\u001b[1;32m   1609\u001b[0m         np\u001b[38;5;241m.\u001b[39mdot(lvals, rvals), index\u001b[38;5;241m=\u001b[39mleft\u001b[38;5;241m.\u001b[39mindex, columns\u001b[38;5;241m=\u001b[39mother\u001b[38;5;241m.\u001b[39mcolumns\n\u001b[1;32m   1610\u001b[0m     )\n\u001b[1;32m   1611\u001b[0m \u001b[38;5;28;01melif\u001b[39;00m \u001b[38;5;28misinstance\u001b[39m(other, Series):\n\u001b[0;32m-> 1612\u001b[0m     \u001b[38;5;28;01mreturn\u001b[39;00m \u001b[38;5;28mself\u001b[39m\u001b[38;5;241m.\u001b[39m_constructor_sliced(\u001b[43mnp\u001b[49m\u001b[38;5;241;43m.\u001b[39;49m\u001b[43mdot\u001b[49m\u001b[43m(\u001b[49m\u001b[43mlvals\u001b[49m\u001b[43m,\u001b[49m\u001b[43m \u001b[49m\u001b[43mrvals\u001b[49m\u001b[43m)\u001b[49m, index\u001b[38;5;241m=\u001b[39mleft\u001b[38;5;241m.\u001b[39mindex)\n\u001b[1;32m   1613\u001b[0m \u001b[38;5;28;01melif\u001b[39;00m \u001b[38;5;28misinstance\u001b[39m(rvals, (np\u001b[38;5;241m.\u001b[39mndarray, Index)):\n\u001b[1;32m   1614\u001b[0m     result \u001b[38;5;241m=\u001b[39m np\u001b[38;5;241m.\u001b[39mdot(lvals, rvals)\n",
      "File \u001b[0;32m<__array_function__ internals>:200\u001b[0m, in \u001b[0;36mdot\u001b[0;34m(*args, **kwargs)\u001b[0m\n",
      "\u001b[0;31mTypeError\u001b[0m: can only concatenate str (not \"float\") to str"
     ]
    }
   ],
   "source": [
    "params_status.dot(agent.get_features()).dot(actions)"
   ]
  },
  {
   "cell_type": "code",
   "execution_count": null,
   "id": "71a94390-9e19-4a2a-b949-cb1270d4b1fd",
   "metadata": {},
   "outputs": [],
   "source": []
  },
  {
   "cell_type": "code",
   "execution_count": null,
   "id": "75b818cb-d8e7-437d-9bf4-0bc2da2b7089",
   "metadata": {},
   "outputs": [],
   "source": [
    "# take those actions, and compute their effect on mental health\n",
    "agent.take_actions(actions=actions, action_effects=action_effects)"
   ]
  },
  {
   "cell_type": "code",
   "execution_count": null,
   "id": "3265bbe3-0fad-47a6-a5eb-e9497ae764c8",
   "metadata": {},
   "outputs": [],
   "source": []
  },
  {
   "cell_type": "code",
   "execution_count": null,
   "id": "c2c70717-e611-47c7-87b2-e102047864e3",
   "metadata": {},
   "outputs": [],
   "source": []
  },
  {
   "cell_type": "code",
   "execution_count": null,
   "id": "bec806c3-2e59-409d-b220-b4105fafcdcb",
   "metadata": {},
   "outputs": [],
   "source": []
  },
  {
   "cell_type": "code",
   "execution_count": null,
   "id": "8592c2a6-30a7-4182-a600-0bc8bf25ece2",
   "metadata": {},
   "outputs": [],
   "source": []
  },
  {
   "cell_type": "code",
   "execution_count": null,
   "id": "e62123dc-c879-4c78-918b-dda6f0ce5a11",
   "metadata": {},
   "outputs": [],
   "source": []
  },
  {
   "cell_type": "code",
   "execution_count": null,
   "id": "3b9f9f4e-cc16-41ee-986e-135be48e9df9",
   "metadata": {},
   "outputs": [],
   "source": []
  },
  {
   "cell_type": "code",
   "execution_count": null,
   "id": "7868dc16-45ae-4924-a9d1-d40cd8dd68c2",
   "metadata": {},
   "outputs": [],
   "source": []
  },
  {
   "cell_type": "code",
   "execution_count": null,
   "id": "e538c7b6-3029-46ef-8ada-f8f27facf362",
   "metadata": {},
   "outputs": [],
   "source": []
  },
  {
   "cell_type": "code",
   "execution_count": 14,
   "id": "19849582-0cad-48c6-9276-045d162ff010",
   "metadata": {},
   "outputs": [],
   "source": [
    "model.step(lockdown_matrices[current_lockdown],\n",
    "              actions_effects_matrices[current_lockdown])"
   ]
  },
  {
   "cell_type": "code",
   "execution_count": 20,
   "id": "10008bc4-62b8-4e6c-aa15-512cd97af281",
   "metadata": {},
   "outputs": [
    {
     "data": {
      "text/plain": [
       "'0.00.00.00.00.00.00.00.00.00.00.00.00.00.00.00.00.00.00.00.00.00.00.00.00.00.00.00.00.00.00.00.00.00.00.00.00.00.00.00.00.00.00.00.0-4.510.000.000.000.0000.00.0-0.370.511.370.00.120.0-1.090.0'"
      ]
     },
     "execution_count": 20,
     "metadata": {},
     "output_type": "execute_result"
    }
   ],
   "source": [
    "model.agents[0]._status"
   ]
  },
  {
   "cell_type": "code",
   "execution_count": 21,
   "id": "d4132207-6cc6-41c5-9631-11f79316c1c9",
   "metadata": {},
   "outputs": [
    {
     "data": {
      "text/plain": [
       "1"
      ]
     },
     "execution_count": 21,
     "metadata": {},
     "output_type": "execute_result"
    }
   ],
   "source": [
    "model.current_step"
   ]
  },
  {
   "cell_type": "code",
   "execution_count": 26,
   "id": "00b69e5f-6f64-4f9d-9ceb-d6760dc79781",
   "metadata": {},
   "outputs": [
    {
     "data": {
      "text/plain": [
       "[('absent',\n",
       "  0,\n",
       "  0,\n",
       "  '0.00.00.00.00.00.00.00.00.00.00.00.00.00.00.00.00.00.00.00.00.00.0-4.510.000.000.000.0000.00.0-0.370.511.370.00.120.0-1.090.0'),\n",
       " ('absent',\n",
       "  1,\n",
       "  0,\n",
       "  '0.00.00.00.00.00.00.00.00.00.00.00.00.00.00.00.00.00.00.00.00.00.00.00.00.00.00.00.00.00.00.00.00.0-4.510.000.000.000.0001.52-0.12-0.370.511.370.00.0-1.340.00.0'),\n",
       " ('absent',\n",
       "  2,\n",
       "  0,\n",
       "  '0.00.00.00.00.00.00.00.00.00.00.00.00.00.00.00.00.00.00.00.00.00.00.00.00.00.00.00.00.00.00.00.00.00.00.00.00.00.00.00.00.00.00.00.0-4.510.000.000.000.0001.520.0-0.370.510.01.390.00.0-1.090.0'),\n",
       " ('absent',\n",
       "  3,\n",
       "  0,\n",
       "  '0.00.00.00.00.00.00.00.00.00.00.00.00.00.00.00.00.00.00.00.00.00.00.00.00.00.00.00.00.00.00.00.00.0-4.510.000.000.000.0000.0-0.12-0.370.511.370.00.120.0-1.090.0'),\n",
       " ('absent',\n",
       "  4,\n",
       "  0,\n",
       "  '0.00.00.00.00.00.00.00.00.00.00.00.00.00.00.00.00.00.00.00.00.00.00.00.00.00.00.00.00.00.00.00.00.00.00.00.00.00.00.00.00.00.00.00.00.00.00.00.00.00.00.00.00.00.00.00.00.00.00.00.0-4.510.000.000.000.0001.52-0.120.511.370.00.12-1.34-1.090.0')]"
      ]
     },
     "execution_count": 26,
     "metadata": {},
     "output_type": "execute_result"
    }
   ],
   "source": [
    "model.cumulative_status[0]"
   ]
  },
  {
   "cell_type": "code",
   "execution_count": 22,
   "id": "8073e0cb-a9e6-45f9-a995-50d5a030b873",
   "metadata": {},
   "outputs": [
    {
     "ename": "KeyError",
     "evalue": "-1",
     "output_type": "error",
     "traceback": [
      "\u001b[0;31m---------------------------------------------------------------------------\u001b[0m",
      "\u001b[0;31mKeyError\u001b[0m                                  Traceback (most recent call last)",
      "Cell \u001b[0;32mIn[22], line 4\u001b[0m\n\u001b[1;32m      1\u001b[0m agent_statuses \u001b[38;5;241m=\u001b[39m []\n\u001b[1;32m      2\u001b[0m \u001b[38;5;28;01mfor\u001b[39;00m agent \u001b[38;5;129;01min\u001b[39;00m model\u001b[38;5;241m.\u001b[39magents:\n\u001b[1;32m      3\u001b[0m     last_status \u001b[38;5;241m=\u001b[39m \\\n\u001b[0;32m----> 4\u001b[0m         [status \u001b[38;5;28;01mfor\u001b[39;00m status \u001b[38;5;129;01min\u001b[39;00m \u001b[43mmodel\u001b[49m\u001b[38;5;241;43m.\u001b[39;49m\u001b[43mcumulative_status\u001b[49m\u001b[43m[\u001b[49m\u001b[43mstep\u001b[49m\u001b[43m \u001b[49m\u001b[38;5;241;43m-\u001b[39;49m\u001b[43m \u001b[49m\u001b[38;5;241;43m1\u001b[39;49m\u001b[43m]\u001b[49m\n\u001b[1;32m      5\u001b[0m          \u001b[38;5;28;01mif\u001b[39;00m status[\u001b[38;5;241m1\u001b[39m] \u001b[38;5;241m==\u001b[39m agent\u001b[38;5;241m.\u001b[39mid][\u001b[38;5;241m0\u001b[39m][\u001b[38;5;241m-\u001b[39m\u001b[38;5;241m1\u001b[39m]\n\u001b[1;32m      6\u001b[0m     delta_mh \u001b[38;5;241m=\u001b[39m agent\u001b[38;5;241m.\u001b[39mget_status()  \u001b[38;5;66;03m# this is the incremental effect\u001b[39;00m\n\u001b[1;32m      7\u001b[0m     mu, sigma \u001b[38;5;241m=\u001b[39m \u001b[38;5;241m0.002\u001b[39m, \u001b[38;5;241m0.0005\u001b[39m\n",
      "\u001b[0;31mKeyError\u001b[0m: -1"
     ]
    }
   ],
   "source": [
    "agent_statuses = []\n",
    "for agent in model.agents:\n",
    "    last_status = \\\n",
    "        [status for status in model.cumulative_status[step - 1]\n",
    "         if status[1] == agent.id][0][-1]\n",
    "    delta_mh = agent.get_status()  # this is the incremental effect\n",
    "    mu, sigma = 0.002, 0.0005\n",
    "    # this is the baseline effect when no action is taken\n",
    "    # or when action effects are canceled out\n",
    "    baseline = np.random.normal(mu, sigma)\n",
    "    new_status = (lockdown, agent.id, delta_mh,\n",
    "                  (last_status + delta_mh) - baseline)\n",
    "    agent_statuses.append(new_status)\n",
    "model.cumulative_status[step] = agent_statuses"
   ]
  },
  {
   "cell_type": "code",
   "execution_count": null,
   "id": "96eb5333-ff42-4453-8063-cd792322c228",
   "metadata": {},
   "outputs": [],
   "source": [
    "if model.current_step == 0:\n",
    "    delta_mh = 0  # it's day 0, so no incremental change\n",
    "    self.cumulative_status[step] = [\n",
    "        (lockdown, agent.id, delta_mh, agent.get_status())\n",
    "        for agent in self.agents\n",
    "    ]"
   ]
  },
  {
   "cell_type": "code",
   "execution_count": null,
   "id": "e1a8a894-dc53-4b06-8cd6-7dca4e9c4e3b",
   "metadata": {},
   "outputs": [],
   "source": [
    "for step, current_lockdown in tqdm(enumerate(lockdown_policy),\n",
    "                                   total=steps,\n",
    "                                   desc=\"Running simulation\"):\n",
    "    model.simulation_id = step\n",
    "    model.lockdown_status[step] = current_lockdown\n",
    "    model.step(lockdown_matrices[current_lockdown],\n",
    "              actions_effects_matrices[current_lockdown])\n",
    "    model.update(current_lockdown, step)\n",
    "    model.current_step += 1  # Increment the simulation step\n",
    "model.report(out_path)"
   ]
  },
  {
   "cell_type": "code",
   "execution_count": null,
   "id": "c8ac3679-960d-4172-9568-37bc7832cb5a",
   "metadata": {},
   "outputs": [],
   "source": []
  },
  {
   "cell_type": "code",
   "execution_count": null,
   "id": "14888eae-a6d5-49a4-88fe-50ed63960651",
   "metadata": {},
   "outputs": [],
   "source": []
  },
  {
   "cell_type": "code",
   "execution_count": null,
   "id": "a7d898d0-0c4a-4050-aa86-1fe67895299a",
   "metadata": {},
   "outputs": [],
   "source": []
  },
  {
   "cell_type": "code",
   "execution_count": null,
   "id": "57378866-8e81-4bdf-ac2c-31535a2acfe6",
   "metadata": {},
   "outputs": [],
   "source": []
  },
  {
   "cell_type": "code",
   "execution_count": 2,
   "id": "03276812-16e3-49f0-865b-9b390eda671f",
   "metadata": {},
   "outputs": [],
   "source": [
    "policy_lockdown = ['easy']"
   ]
  },
  {
   "cell_type": "code",
   "execution_count": 3,
   "id": "95bfa4bd-33ef-49b2-9115-965c38e09a7a",
   "metadata": {},
   "outputs": [
    {
     "data": {
      "text/plain": [
       "{'easy'}"
      ]
     },
     "execution_count": 3,
     "metadata": {},
     "output_type": "execute_result"
    }
   ],
   "source": [
    "set([policy_lockdown[0]])"
   ]
  },
  {
   "cell_type": "code",
   "execution_count": 4,
   "id": "844d3e21-76d7-405a-80ce-ab208e60d83e",
   "metadata": {},
   "outputs": [],
   "source": [
    "actions_effects = Hypothesis.read_actions(dir_params, actions_effects=set([policy_lockdown[0]]))"
   ]
  },
  {
   "cell_type": "code",
   "execution_count": 5,
   "id": "e88abc03-0a51-46b1-a263-0d7bb8e897c8",
   "metadata": {},
   "outputs": [
    {
     "data": {
      "text/plain": [
       "{'easy':    baseline  age_group__1  age_group__2  age_group__3  age_group__4  gender_f  \\\n",
       " 0     -3.88          0.95           0.0          0.75         -0.10       0.0   \n",
       " 1     -3.80          0.95           0.0          0.73         -0.11       0.0   \n",
       " 2      0.00          0.00           0.0          0.00          0.00       0.0   \n",
       " 3     -4.27          0.91           0.0          0.75         -0.05       0.0   \n",
       " 4     -4.24          1.04           0.0          0.80         -0.09       0.0   \n",
       " 5     -3.98          0.47           0.0         -0.62         -0.27       0.0   \n",
       " 6     -4.12          0.84           0.0          0.73          0.02       0.0   \n",
       " 7     -3.91          0.94           0.0          0.74         -0.09       0.0   \n",
       " 8     -4.55          0.51           0.0         -0.55         -0.20       0.0   \n",
       " 9      0.00          0.00           0.0          0.00          0.00       0.0   \n",
       " \n",
       "    gender_m  education_high  education_low  education_medium  unemployed_no  \\\n",
       " 0      0.05           -0.22           0.41               0.0            0.0   \n",
       " 1      0.07           -0.26           0.43               0.0            0.0   \n",
       " 2      0.00            0.00           0.00               0.0            0.0   \n",
       " 3      0.07           -0.22           0.45               0.0            0.0   \n",
       " 4      0.01           -0.22           0.48               0.0            0.0   \n",
       " 5     -0.06            0.36           0.26               0.0            0.0   \n",
       " 6      0.03           -0.14           0.53               0.0            0.0   \n",
       " 7      0.05           -0.24           0.42               0.0            0.0   \n",
       " 8     -0.17            0.45           0.20               0.0            0.0   \n",
       " 9      0.00            0.00           0.00               0.0            0.0   \n",
       " \n",
       "    unemployed_yes  have_partner_no  have_partner_yes  depressed_no  \\\n",
       " 0           -0.83              0.0             -0.25           0.0   \n",
       " 1           -0.79              0.0             -0.27           0.0   \n",
       " 2            0.00              0.0              0.00           0.0   \n",
       " 3           -0.72              0.0             -0.19           0.0   \n",
       " 4           -0.80              0.0             -0.28           0.0   \n",
       " 5            0.17              0.0             -1.15           0.0   \n",
       " 6           -0.78              0.0             -0.30           0.0   \n",
       " 7           -0.84              0.0             -0.26           0.0   \n",
       " 8            0.29              0.0             -1.03           0.0   \n",
       " 9            0.00              0.0              0.00           0.0   \n",
       " \n",
       "    depressed_yes  children_presence_no  children_presence_yes  \\\n",
       " 0           1.75                   0.0                   0.15   \n",
       " 1           1.77                   0.0                   0.15   \n",
       " 2           0.00                   0.0                   0.00   \n",
       " 3           1.69                   0.0                   0.15   \n",
       " 4           1.64                   0.0                   0.19   \n",
       " 5           1.15                   0.0                  -0.09   \n",
       " 6           1.77                   0.0                   0.17   \n",
       " 7           1.76                   0.0                   0.16   \n",
       " 8           1.05                   0.0                  -0.14   \n",
       " 9           0.00                   0.0                   0.00   \n",
       " \n",
       "    housing_financial_difficulties_no  housing_financial_difficulties_yes  \\\n",
       " 0                                0.0                               -0.01   \n",
       " 1                                0.0                                0.00   \n",
       " 2                                0.0                                0.00   \n",
       " 3                                0.0                               -0.02   \n",
       " 4                                0.0                               -0.01   \n",
       " 5                                0.0                                0.73   \n",
       " 6                                0.0                               -0.03   \n",
       " 7                                0.0                                0.00   \n",
       " 8                                0.0                                0.84   \n",
       " 9                                0.0                                0.00   \n",
       " \n",
       "    selfrated_health_average  selfrated_health_good  selfrated_health_poor  \\\n",
       " 0                       0.0                  -0.77                   1.15   \n",
       " 1                       0.0                  -0.78                   1.17   \n",
       " 2                       0.0                   0.00                   0.00   \n",
       " 3                       0.0                  -0.72                   1.08   \n",
       " 4                       0.0                  -0.76                   1.14   \n",
       " 5                       0.0                  -1.65                   0.57   \n",
       " 6                       0.0                  -0.77                   1.00   \n",
       " 7                       0.0                  -0.78                   1.14   \n",
       " 8                       0.0                  -1.56                   0.64   \n",
       " 9                       0.0                   0.00                   0.00   \n",
       " \n",
       "    critical_job_no  critical_job_yes  \n",
       " 0              0.0             -0.19  \n",
       " 1              0.0             -0.16  \n",
       " 2              0.0              0.00  \n",
       " 3              0.0             -0.18  \n",
       " 4              0.0             -0.17  \n",
       " 5              0.0              0.36  \n",
       " 6              0.0             -0.16  \n",
       " 7              0.0             -0.18  \n",
       " 8              0.0              0.13  \n",
       " 9              0.0              0.00  }"
      ]
     },
     "execution_count": 5,
     "metadata": {},
     "output_type": "execute_result"
    }
   ],
   "source": [
    "actions_effects"
   ]
  },
  {
   "cell_type": "code",
   "execution_count": null,
   "id": "83604fac-c4df-4c58-92cd-ecea2a630f24",
   "metadata": {},
   "outputs": [],
   "source": []
  },
  {
   "cell_type": "code",
   "execution_count": 6,
   "id": "3c01da17-d88c-480a-989a-29b125bbfb9c",
   "metadata": {},
   "outputs": [
    {
     "name": "stderr",
     "output_type": "stream",
     "text": [
      "Populating individuals: 100%|███████████████████████████████████████████████████████████████████████████████████████████████████████| 1/1 [00:00<00:00, 1995.39i/s]\n"
     ]
    }
   ],
   "source": [
    "from comma.individual import Individual\n",
    "individual = Individual.populate(1, dir_params)"
   ]
  },
  {
   "cell_type": "code",
   "execution_count": 7,
   "id": "4a29d869-123c-4bd5-ba9f-11aef7e3f8fa",
   "metadata": {},
   "outputs": [],
   "source": [
    "actions = np.array([False, True, True, True, True,\n",
    "                            False, True, True, False, False])"
   ]
  },
  {
   "cell_type": "code",
   "execution_count": 8,
   "id": "90ebe6b5-d453-426c-9cc0-f1ac2a7543e4",
   "metadata": {},
   "outputs": [],
   "source": [
    "individual[0].take_actions(actions, actions_effects['easy'])"
   ]
  },
  {
   "cell_type": "code",
   "execution_count": 9,
   "id": "d23ea038-cbe9-4199-8839-32a305be0396",
   "metadata": {},
   "outputs": [],
   "source": [
    "individual[0].chosen_actions = actions"
   ]
  },
  {
   "cell_type": "code",
   "execution_count": 10,
   "id": "7b952063-0260-45ad-93eb-767c719133b9",
   "metadata": {},
   "outputs": [],
   "source": [
    "actual_actions = individual[0].get_actions()"
   ]
  },
  {
   "cell_type": "code",
   "execution_count": 11,
   "id": "c0e26855-b896-4bb1-a197-5b7bad093a91",
   "metadata": {},
   "outputs": [],
   "source": [
    "actual_status = individual[0]._status\n"
   ]
  },
  {
   "cell_type": "code",
   "execution_count": 14,
   "id": "15ff6dc2-7e74-4a57-9476-48008a6c02f2",
   "metadata": {},
   "outputs": [
    {
     "data": {
      "text/plain": [
       "True"
      ]
     },
     "execution_count": 14,
     "metadata": {},
     "output_type": "execute_result"
    }
   ],
   "source": [
    "np.all(actual_actions == expected_actions)"
   ]
  },
  {
   "cell_type": "code",
   "execution_count": 13,
   "id": "1bf4fe6e-3dbb-484f-9aa7-1447c463d130",
   "metadata": {},
   "outputs": [],
   "source": [
    "expected_actions = np.array([\n",
    "            'maintain_physical_distance',\n",
    "            'stay_at_home',\n",
    "            'exercise',\n",
    "            'socialise',\n",
    "            'seek_help',\n",
    "            'negative_coping'\n",
    "        ])"
   ]
  },
  {
   "cell_type": "code",
   "execution_count": 15,
   "id": "6a718fb2-6f22-448d-9450-1d59f0e3b37a",
   "metadata": {},
   "outputs": [],
   "source": [
    "expected_status = np.array(-18.080000000000002)"
   ]
  },
  {
   "cell_type": "code",
   "execution_count": 16,
   "id": "9d888ac5-0fa2-407d-baa6-c6ad562edbd5",
   "metadata": {},
   "outputs": [
    {
     "data": {
      "text/plain": [
       "-18.080000000000002"
      ]
     },
     "execution_count": 16,
     "metadata": {},
     "output_type": "execute_result"
    }
   ],
   "source": [
    "actual_status"
   ]
  },
  {
   "cell_type": "code",
   "execution_count": 17,
   "id": "99d450bb-2bd1-4b9e-8de5-4a1e689b6e87",
   "metadata": {},
   "outputs": [
    {
     "data": {
      "text/plain": [
       "True"
      ]
     },
     "execution_count": 17,
     "metadata": {},
     "output_type": "execute_result"
    }
   ],
   "source": [
    "np.all(actual_status == expected_status)"
   ]
  },
  {
   "cell_type": "code",
   "execution_count": 39,
   "id": "a8b4966b-c00a-42f1-baaa-5cefb5dcd2ce",
   "metadata": {},
   "outputs": [
    {
     "data": {
      "text/plain": [
       "0.0"
      ]
     },
     "execution_count": 39,
     "metadata": {},
     "output_type": "execute_result"
    }
   ],
   "source": [
    "actual_status"
   ]
  },
  {
   "cell_type": "code",
   "execution_count": 11,
   "id": "4e997905-6240-4285-9d2c-4ddf5708d65c",
   "metadata": {},
   "outputs": [],
   "source": [
    "fpath_params_actions = os.path.join(\n",
    "    dir_params, 'effects_on_mh_%s.csv' % policy\n",
    ")\n",
    "\n",
    "df = pd.read_csv(fpath_params_actions,\n",
    "                 delimiter=';', decimal=\",\")\n",
    "\n",
    "# sort rows\n",
    "df['actions'] = df['actions'].astype('category')\n",
    "df['actions'] = df['actions'].cat. \\\n",
    "    set_categories(Hypothesis.all_possible_actions)\n",
    "df = df.sort_values(by='actions', ignore_index=True)\n",
    "\n",
    "# Convert dataframe column names to lowercase\n",
    "df.columns = df.columns.str.lower()\n",
    "\n",
    "# Convert cols to lowercase\n",
    "cols = [col.lower() for col in Hypothesis.all_possible_features]\n",
    "cols.insert(0, \"baseline\")\n",
    "\n"
   ]
  },
  {
   "cell_type": "code",
   "execution_count": 14,
   "id": "6de5d12e-e4ca-4457-be5c-89758d2f4870",
   "metadata": {},
   "outputs": [
    {
     "data": {
      "text/plain": [
       "Index(['actions', 'baseline', 'age_group__1', 'age_group__2', 'age_group__3',\n",
       "       'age_group__4', 'gender_m', 'gender_f', 'education_low',\n",
       "       'education_medium', 'education_high', 'unemployed_yes', 'unemployed_no',\n",
       "       'have_partner_yes', 'have_partner_no', 'depressed_yes', 'depressed_no',\n",
       "       'children_presence_yes', 'children_presence_no',\n",
       "       'housing_finanicial_difficulties_yes',\n",
       "       'housing_finanicial_difficulties_no', 'selfrated_health_good',\n",
       "       'selfrated_health_average', 'selfrated_health_poor', 'critical_job_yes',\n",
       "       'critical_job_no'],\n",
       "      dtype='object')"
      ]
     },
     "execution_count": 14,
     "metadata": {},
     "output_type": "execute_result"
    }
   ],
   "source": [
    "df.columns"
   ]
  },
  {
   "cell_type": "code",
   "execution_count": 15,
   "id": "da6ac345-f020-4bcd-a8e7-39e51b3031da",
   "metadata": {},
   "outputs": [
    {
     "data": {
      "text/plain": [
       "['baseline',\n",
       " 'age_group__1',\n",
       " 'age_group__2',\n",
       " 'age_group__3',\n",
       " 'age_group__4',\n",
       " 'gender_f',\n",
       " 'gender_m',\n",
       " 'education_high',\n",
       " 'education_low',\n",
       " 'education_medium',\n",
       " 'unemployed_no',\n",
       " 'unemployed_yes',\n",
       " 'have_partner_no',\n",
       " 'have_partner_yes',\n",
       " 'depressed_no',\n",
       " 'depressed_yes',\n",
       " 'children_presence_no',\n",
       " 'children_presence_yes',\n",
       " 'housing_financial_difficulties_no',\n",
       " 'housing_financial_difficulties_yes',\n",
       " 'selfrated_health_average',\n",
       " 'selfrated_health_good',\n",
       " 'selfrated_health_poor',\n",
       " 'critical_job_no',\n",
       " 'critical_job_yes']"
      ]
     },
     "execution_count": 15,
     "metadata": {},
     "output_type": "execute_result"
    }
   ],
   "source": [
    "cols"
   ]
  },
  {
   "cell_type": "code",
   "execution_count": 12,
   "id": "3d22a74a-285b-46af-bcc9-64dc536aa1be",
   "metadata": {},
   "outputs": [
    {
     "ename": "KeyError",
     "evalue": "\"['housing_financial_difficulties_no', 'housing_financial_difficulties_yes'] not in index\"",
     "output_type": "error",
     "traceback": [
      "\u001b[0;31m---------------------------------------------------------------------------\u001b[0m",
      "\u001b[0;31mKeyError\u001b[0m                                  Traceback (most recent call last)",
      "Cell \u001b[0;32mIn[12], line 2\u001b[0m\n\u001b[1;32m      1\u001b[0m \u001b[38;5;66;03m# get and sort desired columns\u001b[39;00m\n\u001b[0;32m----> 2\u001b[0m df \u001b[38;5;241m=\u001b[39m \u001b[43mdf\u001b[49m\u001b[43m[\u001b[49m\u001b[43mcols\u001b[49m\u001b[43m]\u001b[49m\n\u001b[1;32m      3\u001b[0m df\n",
      "File \u001b[0;32m~/opt/anaconda3/envs/py39/lib/python3.9/site-packages/pandas/core/frame.py:3813\u001b[0m, in \u001b[0;36mDataFrame.__getitem__\u001b[0;34m(self, key)\u001b[0m\n\u001b[1;32m   3811\u001b[0m     \u001b[38;5;28;01mif\u001b[39;00m is_iterator(key):\n\u001b[1;32m   3812\u001b[0m         key \u001b[38;5;241m=\u001b[39m \u001b[38;5;28mlist\u001b[39m(key)\n\u001b[0;32m-> 3813\u001b[0m     indexer \u001b[38;5;241m=\u001b[39m \u001b[38;5;28;43mself\u001b[39;49m\u001b[38;5;241;43m.\u001b[39;49m\u001b[43mcolumns\u001b[49m\u001b[38;5;241;43m.\u001b[39;49m\u001b[43m_get_indexer_strict\u001b[49m\u001b[43m(\u001b[49m\u001b[43mkey\u001b[49m\u001b[43m,\u001b[49m\u001b[43m \u001b[49m\u001b[38;5;124;43m\"\u001b[39;49m\u001b[38;5;124;43mcolumns\u001b[39;49m\u001b[38;5;124;43m\"\u001b[39;49m\u001b[43m)\u001b[49m[\u001b[38;5;241m1\u001b[39m]\n\u001b[1;32m   3815\u001b[0m \u001b[38;5;66;03m# take() does not accept boolean indexers\u001b[39;00m\n\u001b[1;32m   3816\u001b[0m \u001b[38;5;28;01mif\u001b[39;00m \u001b[38;5;28mgetattr\u001b[39m(indexer, \u001b[38;5;124m\"\u001b[39m\u001b[38;5;124mdtype\u001b[39m\u001b[38;5;124m\"\u001b[39m, \u001b[38;5;28;01mNone\u001b[39;00m) \u001b[38;5;241m==\u001b[39m \u001b[38;5;28mbool\u001b[39m:\n",
      "File \u001b[0;32m~/opt/anaconda3/envs/py39/lib/python3.9/site-packages/pandas/core/indexes/base.py:6070\u001b[0m, in \u001b[0;36mIndex._get_indexer_strict\u001b[0;34m(self, key, axis_name)\u001b[0m\n\u001b[1;32m   6067\u001b[0m \u001b[38;5;28;01melse\u001b[39;00m:\n\u001b[1;32m   6068\u001b[0m     keyarr, indexer, new_indexer \u001b[38;5;241m=\u001b[39m \u001b[38;5;28mself\u001b[39m\u001b[38;5;241m.\u001b[39m_reindex_non_unique(keyarr)\n\u001b[0;32m-> 6070\u001b[0m \u001b[38;5;28;43mself\u001b[39;49m\u001b[38;5;241;43m.\u001b[39;49m\u001b[43m_raise_if_missing\u001b[49m\u001b[43m(\u001b[49m\u001b[43mkeyarr\u001b[49m\u001b[43m,\u001b[49m\u001b[43m \u001b[49m\u001b[43mindexer\u001b[49m\u001b[43m,\u001b[49m\u001b[43m \u001b[49m\u001b[43maxis_name\u001b[49m\u001b[43m)\u001b[49m\n\u001b[1;32m   6072\u001b[0m keyarr \u001b[38;5;241m=\u001b[39m \u001b[38;5;28mself\u001b[39m\u001b[38;5;241m.\u001b[39mtake(indexer)\n\u001b[1;32m   6073\u001b[0m \u001b[38;5;28;01mif\u001b[39;00m \u001b[38;5;28misinstance\u001b[39m(key, Index):\n\u001b[1;32m   6074\u001b[0m     \u001b[38;5;66;03m# GH 42790 - Preserve name from an Index\u001b[39;00m\n",
      "File \u001b[0;32m~/opt/anaconda3/envs/py39/lib/python3.9/site-packages/pandas/core/indexes/base.py:6133\u001b[0m, in \u001b[0;36mIndex._raise_if_missing\u001b[0;34m(self, key, indexer, axis_name)\u001b[0m\n\u001b[1;32m   6130\u001b[0m     \u001b[38;5;28;01mraise\u001b[39;00m \u001b[38;5;167;01mKeyError\u001b[39;00m(\u001b[38;5;124mf\u001b[39m\u001b[38;5;124m\"\u001b[39m\u001b[38;5;124mNone of [\u001b[39m\u001b[38;5;132;01m{\u001b[39;00mkey\u001b[38;5;132;01m}\u001b[39;00m\u001b[38;5;124m] are in the [\u001b[39m\u001b[38;5;132;01m{\u001b[39;00maxis_name\u001b[38;5;132;01m}\u001b[39;00m\u001b[38;5;124m]\u001b[39m\u001b[38;5;124m\"\u001b[39m)\n\u001b[1;32m   6132\u001b[0m not_found \u001b[38;5;241m=\u001b[39m \u001b[38;5;28mlist\u001b[39m(ensure_index(key)[missing_mask\u001b[38;5;241m.\u001b[39mnonzero()[\u001b[38;5;241m0\u001b[39m]]\u001b[38;5;241m.\u001b[39munique())\n\u001b[0;32m-> 6133\u001b[0m \u001b[38;5;28;01mraise\u001b[39;00m \u001b[38;5;167;01mKeyError\u001b[39;00m(\u001b[38;5;124mf\u001b[39m\u001b[38;5;124m\"\u001b[39m\u001b[38;5;132;01m{\u001b[39;00mnot_found\u001b[38;5;132;01m}\u001b[39;00m\u001b[38;5;124m not in index\u001b[39m\u001b[38;5;124m\"\u001b[39m)\n",
      "\u001b[0;31mKeyError\u001b[0m: \"['housing_financial_difficulties_no', 'housing_financial_difficulties_yes'] not in index\""
     ]
    }
   ],
   "source": [
    "# get and sort desired columns\n",
    "df = df[cols]\n",
    "df\n"
   ]
  },
  {
   "cell_type": "code",
   "execution_count": null,
   "id": "0163e337-b94c-4e5b-bb89-573aae0223cb",
   "metadata": {},
   "outputs": [],
   "source": [
    "actions_dfs[policy] = df"
   ]
  },
  {
   "cell_type": "code",
   "execution_count": 9,
   "id": "f7a8a609-ffe5-4ea6-b131-fb92620b3982",
   "metadata": {},
   "outputs": [
    {
     "ename": "KeyError",
     "evalue": "\"['housing_financial_difficulties_no', 'housing_financial_difficulties_yes'] not in index\"",
     "output_type": "error",
     "traceback": [
      "\u001b[0;31m---------------------------------------------------------------------------\u001b[0m",
      "\u001b[0;31mKeyError\u001b[0m                                  Traceback (most recent call last)",
      "Cell \u001b[0;32mIn[9], line 25\u001b[0m\n\u001b[1;32m     22\u001b[0m     cols\u001b[38;5;241m.\u001b[39minsert(\u001b[38;5;241m0\u001b[39m, \u001b[38;5;124m\"\u001b[39m\u001b[38;5;124mbaseline\u001b[39m\u001b[38;5;124m\"\u001b[39m)\n\u001b[1;32m     24\u001b[0m     \u001b[38;5;66;03m# get and sort desired columns\u001b[39;00m\n\u001b[0;32m---> 25\u001b[0m     df \u001b[38;5;241m=\u001b[39m \u001b[43mdf\u001b[49m\u001b[43m[\u001b[49m\u001b[43mcols\u001b[49m\u001b[43m]\u001b[49m\n\u001b[1;32m     27\u001b[0m     actions_dfs[policy] \u001b[38;5;241m=\u001b[39m df\n\u001b[1;32m     29\u001b[0m \u001b[38;5;28;01mreturn\u001b[39;00m actions_dfs\n",
      "File \u001b[0;32m~/opt/anaconda3/envs/py39/lib/python3.9/site-packages/pandas/core/frame.py:3813\u001b[0m, in \u001b[0;36mDataFrame.__getitem__\u001b[0;34m(self, key)\u001b[0m\n\u001b[1;32m   3811\u001b[0m     \u001b[38;5;28;01mif\u001b[39;00m is_iterator(key):\n\u001b[1;32m   3812\u001b[0m         key \u001b[38;5;241m=\u001b[39m \u001b[38;5;28mlist\u001b[39m(key)\n\u001b[0;32m-> 3813\u001b[0m     indexer \u001b[38;5;241m=\u001b[39m \u001b[38;5;28;43mself\u001b[39;49m\u001b[38;5;241;43m.\u001b[39;49m\u001b[43mcolumns\u001b[49m\u001b[38;5;241;43m.\u001b[39;49m\u001b[43m_get_indexer_strict\u001b[49m\u001b[43m(\u001b[49m\u001b[43mkey\u001b[49m\u001b[43m,\u001b[49m\u001b[43m \u001b[49m\u001b[38;5;124;43m\"\u001b[39;49m\u001b[38;5;124;43mcolumns\u001b[39;49m\u001b[38;5;124;43m\"\u001b[39;49m\u001b[43m)\u001b[49m[\u001b[38;5;241m1\u001b[39m]\n\u001b[1;32m   3815\u001b[0m \u001b[38;5;66;03m# take() does not accept boolean indexers\u001b[39;00m\n\u001b[1;32m   3816\u001b[0m \u001b[38;5;28;01mif\u001b[39;00m \u001b[38;5;28mgetattr\u001b[39m(indexer, \u001b[38;5;124m\"\u001b[39m\u001b[38;5;124mdtype\u001b[39m\u001b[38;5;124m\"\u001b[39m, \u001b[38;5;28;01mNone\u001b[39;00m) \u001b[38;5;241m==\u001b[39m \u001b[38;5;28mbool\u001b[39m:\n",
      "File \u001b[0;32m~/opt/anaconda3/envs/py39/lib/python3.9/site-packages/pandas/core/indexes/base.py:6070\u001b[0m, in \u001b[0;36mIndex._get_indexer_strict\u001b[0;34m(self, key, axis_name)\u001b[0m\n\u001b[1;32m   6067\u001b[0m \u001b[38;5;28;01melse\u001b[39;00m:\n\u001b[1;32m   6068\u001b[0m     keyarr, indexer, new_indexer \u001b[38;5;241m=\u001b[39m \u001b[38;5;28mself\u001b[39m\u001b[38;5;241m.\u001b[39m_reindex_non_unique(keyarr)\n\u001b[0;32m-> 6070\u001b[0m \u001b[38;5;28;43mself\u001b[39;49m\u001b[38;5;241;43m.\u001b[39;49m\u001b[43m_raise_if_missing\u001b[49m\u001b[43m(\u001b[49m\u001b[43mkeyarr\u001b[49m\u001b[43m,\u001b[49m\u001b[43m \u001b[49m\u001b[43mindexer\u001b[49m\u001b[43m,\u001b[49m\u001b[43m \u001b[49m\u001b[43maxis_name\u001b[49m\u001b[43m)\u001b[49m\n\u001b[1;32m   6072\u001b[0m keyarr \u001b[38;5;241m=\u001b[39m \u001b[38;5;28mself\u001b[39m\u001b[38;5;241m.\u001b[39mtake(indexer)\n\u001b[1;32m   6073\u001b[0m \u001b[38;5;28;01mif\u001b[39;00m \u001b[38;5;28misinstance\u001b[39m(key, Index):\n\u001b[1;32m   6074\u001b[0m     \u001b[38;5;66;03m# GH 42790 - Preserve name from an Index\u001b[39;00m\n",
      "File \u001b[0;32m~/opt/anaconda3/envs/py39/lib/python3.9/site-packages/pandas/core/indexes/base.py:6133\u001b[0m, in \u001b[0;36mIndex._raise_if_missing\u001b[0;34m(self, key, indexer, axis_name)\u001b[0m\n\u001b[1;32m   6130\u001b[0m     \u001b[38;5;28;01mraise\u001b[39;00m \u001b[38;5;167;01mKeyError\u001b[39;00m(\u001b[38;5;124mf\u001b[39m\u001b[38;5;124m\"\u001b[39m\u001b[38;5;124mNone of [\u001b[39m\u001b[38;5;132;01m{\u001b[39;00mkey\u001b[38;5;132;01m}\u001b[39;00m\u001b[38;5;124m] are in the [\u001b[39m\u001b[38;5;132;01m{\u001b[39;00maxis_name\u001b[38;5;132;01m}\u001b[39;00m\u001b[38;5;124m]\u001b[39m\u001b[38;5;124m\"\u001b[39m)\n\u001b[1;32m   6132\u001b[0m not_found \u001b[38;5;241m=\u001b[39m \u001b[38;5;28mlist\u001b[39m(ensure_index(key)[missing_mask\u001b[38;5;241m.\u001b[39mnonzero()[\u001b[38;5;241m0\u001b[39m]]\u001b[38;5;241m.\u001b[39munique())\n\u001b[0;32m-> 6133\u001b[0m \u001b[38;5;28;01mraise\u001b[39;00m \u001b[38;5;167;01mKeyError\u001b[39;00m(\u001b[38;5;124mf\u001b[39m\u001b[38;5;124m\"\u001b[39m\u001b[38;5;132;01m{\u001b[39;00mnot_found\u001b[38;5;132;01m}\u001b[39;00m\u001b[38;5;124m not in index\u001b[39m\u001b[38;5;124m\"\u001b[39m)\n",
      "\u001b[0;31mKeyError\u001b[0m: \"['housing_financial_difficulties_no', 'housing_financial_difficulties_yes'] not in index\""
     ]
    }
   ],
   "source": [
    "actions_dfs = {}\n",
    "\n",
    "for policy in actions_effects:\n",
    "    fpath_params_actions = os.path.join(\n",
    "        dir_params, 'effects_on_mh_%s.csv' % policy\n",
    "    )\n",
    "\n",
    "    df = pd.read_csv(fpath_params_actions,\n",
    "                     delimiter=';', decimal=\",\")\n",
    "\n",
    "    # sort rows\n",
    "    df['actions'] = df['actions'].astype('category')\n",
    "    df['actions'] = df['actions'].cat. \\\n",
    "        set_categories(Hypothesis.all_possible_actions)\n",
    "    df = df.sort_values(by='actions', ignore_index=True)\n",
    "\n",
    "    # Convert dataframe column names to lowercase\n",
    "    df.columns = df.columns.str.lower()\n",
    "\n",
    "    # Convert cols to lowercase\n",
    "    cols = [col.lower() for col in Hypothesis.all_possible_features]\n",
    "    cols.insert(0, \"baseline\")\n",
    "\n",
    "    # get and sort desired columns\n",
    "    df = df[cols]\n",
    "\n",
    "    actions_dfs[policy] = df\n",
    "\n",
    "return actions_dfs"
   ]
  },
  {
   "cell_type": "code",
   "execution_count": 21,
   "id": "4e793b05-bba5-4a77-9be8-2f15d58b875a",
   "metadata": {},
   "outputs": [],
   "source": [
    "PARAMS_INDIVIDUAL = 'params_individual.json'\n",
    "PARAMS_IPF_WEIGHTS = \"ipf_weights.csv\""
   ]
  },
  {
   "cell_type": "code",
   "execution_count": 22,
   "id": "d43ab124-95af-44bb-a84b-94a74597f270",
   "metadata": {},
   "outputs": [],
   "source": [
    "path_individual = os.path.join(dir_params, PARAMS_INDIVIDUAL)\n"
   ]
  },
  {
   "cell_type": "code",
   "execution_count": 29,
   "id": "d28d425c-c3d6-42f1-b536-d77e0e13ca28",
   "metadata": {},
   "outputs": [
    {
     "data": {
      "text/plain": [
       "['actions_effects_on_mh_absent.csv',\n",
       " 'actions_effects_on_mh_easy.csv',\n",
       " 'actions_effects_on_mh_medium.csv',\n",
       " 'actions_effects_on_mh_hard.csv',\n",
       " 'lockdown_absent.csv',\n",
       " 'lockdown_easy.csv',\n",
       " 'lockdown_medium.csv',\n",
       " 'lockdown_hard.csv']"
      ]
     },
     "execution_count": 29,
     "metadata": {},
     "output_type": "execute_result"
    }
   ],
   "source": [
    "fnames = [\"actions_effects_on_%s_%s.csv\" % (status, policy)\n",
    "          for status in Hypothesis.individual_status\n",
    "          for policy in Hypothesis.lockdown_policies]\n",
    "\n",
    "fnames += [\"lockdown_%s.csv\" %\n",
    "           lockdown for lockdown in Hypothesis.lockdown_policies]\n",
    "fnames"
   ]
  },
  {
   "cell_type": "code",
   "execution_count": 30,
   "id": "2eb4f7ea-5993-44ae-8278-fbaeeadf8fbb",
   "metadata": {},
   "outputs": [
    {
     "data": {
      "text/plain": [
       "[True, True, True, True, True, True, True, True]"
      ]
     },
     "execution_count": 30,
     "metadata": {},
     "output_type": "execute_result"
    }
   ],
   "source": [
    "fpaths = [os.path.join(dir_params, fn) for fn in fnames]\n",
    "fexist = [os.path.isfile(fp) for fp in fpaths]\n",
    "fexist"
   ]
  },
  {
   "cell_type": "code",
   "execution_count": 26,
   "id": "1d4358ed-b57d-4554-ada3-0eb2b202936d",
   "metadata": {},
   "outputs": [
    {
     "data": {
      "text/plain": [
       "['../parameters/actions_effects_on_mh.csv',\n",
       " '../parameters/lockdown_absent.csv',\n",
       " '../parameters/lockdown_easy.csv',\n",
       " '../parameters/lockdown_medium.csv',\n",
       " '../parameters/lockdown_hard.csv']"
      ]
     },
     "execution_count": 26,
     "metadata": {},
     "output_type": "execute_result"
    }
   ],
   "source": [
    "fpaths"
   ]
  },
  {
   "cell_type": "code",
   "execution_count": null,
   "id": "6eaa70f8-e3a9-4e1e-9a39-3a5ef09482da",
   "metadata": {},
   "outputs": [],
   "source": []
  },
  {
   "cell_type": "code",
   "execution_count": 31,
   "id": "148a31b5-3761-4a61-a916-7a1b1667f9a2",
   "metadata": {},
   "outputs": [
    {
     "ename": "NameError",
     "evalue": "name 'cls' is not defined",
     "output_type": "error",
     "traceback": [
      "\u001b[0;31m---------------------------------------------------------------------------\u001b[0m",
      "\u001b[0;31mNameError\u001b[0m                                 Traceback (most recent call last)",
      "Cell \u001b[0;32mIn[31], line 6\u001b[0m\n\u001b[1;32m      2\u001b[0m path_individual \u001b[38;5;241m=\u001b[39m os\u001b[38;5;241m.\u001b[39mpath\u001b[38;5;241m.\u001b[39mjoin(dir_params, PARAMS_INDIVIDUAL)\n\u001b[1;32m      4\u001b[0m \u001b[38;5;66;03m# check if all hypothesis files exist\u001b[39;00m\n\u001b[1;32m      5\u001b[0m fnames \u001b[38;5;241m=\u001b[39m [\u001b[38;5;124m\"\u001b[39m\u001b[38;5;124mactions_effects_on_\u001b[39m\u001b[38;5;132;01m%s\u001b[39;00m\u001b[38;5;124m.csv\u001b[39m\u001b[38;5;124m\"\u001b[39m \u001b[38;5;241m%\u001b[39m\n\u001b[0;32m----> 6\u001b[0m           status \u001b[38;5;28;01mfor\u001b[39;00m status \u001b[38;5;129;01min\u001b[39;00m \u001b[38;5;28;43mcls\u001b[39;49m\u001b[38;5;241m.\u001b[39mindividual_status]\n\u001b[1;32m      7\u001b[0m fnames \u001b[38;5;241m+\u001b[39m\u001b[38;5;241m=\u001b[39m [\u001b[38;5;124m\"\u001b[39m\u001b[38;5;124mlockdown_\u001b[39m\u001b[38;5;132;01m%s\u001b[39;00m\u001b[38;5;124m.csv\u001b[39m\u001b[38;5;124m\"\u001b[39m \u001b[38;5;241m%\u001b[39m\n\u001b[1;32m      8\u001b[0m            lockdown \u001b[38;5;28;01mfor\u001b[39;00m lockdown \u001b[38;5;129;01min\u001b[39;00m \u001b[38;5;28mcls\u001b[39m\u001b[38;5;241m.\u001b[39mlockdown_policies]\n\u001b[1;32m      9\u001b[0m fpaths \u001b[38;5;241m=\u001b[39m [os\u001b[38;5;241m.\u001b[39mpath\u001b[38;5;241m.\u001b[39mjoin(dir_params, fn) \u001b[38;5;28;01mfor\u001b[39;00m fn \u001b[38;5;129;01min\u001b[39;00m fnames]\n",
      "\u001b[0;31mNameError\u001b[0m: name 'cls' is not defined"
     ]
    }
   ],
   "source": [
    "# check if parameter files exist\n",
    "path_individual = os.path.join(dir_params, PARAMS_INDIVIDUAL)\n",
    "\n",
    "# check if all hypothesis files exist\n",
    "fnames = [\"actions_effects_on_%s.csv\" %\n",
    "          status for status in .individual_status]\n",
    "fnames += [\"lockdown_%s.csv\" %\n",
    "           lockdown for lockdown in cls.lockdown_policies]\n",
    "fpaths = [os.path.join(dir_params, fn) for fn in fnames]\n",
    "fexist = [os.path.isfile(fp) for fp in fpaths]\n",
    "if not all(fexist):\n",
    "    raise ValueError(\"Hypothesis file(s) not found: %s.\" % \", \".join(\n",
    "        [fnames[i] for i in range(len(fnames)) if not fexist[i]]\n",
    "    ))\n",
    "\n",
    "# check if all hypothesis files contain all the required agent features\n",
    "required_features = [\"actions\", \"baseline\"]\n",
    "required_features += cls._get_one_hot_encoded_features(path_individual)\n",
    "hypothesis_data = [pd.read_csv(fp, sep=\";\", decimal=\",\")\n",
    "                   for fp in fpaths]\n",
    "missing_features = []\n",
    "for hd in hypothesis_data:\n",
    "    # lower case labels\n",
    "    missing_features.append(set([f.lower() for f in required_features])\n",
    "                            - set([c.lower() for c in hd.columns]))\n",
    "\n",
    "if any(missing_features):\n",
    "    raise ValueError(\"Missing features:\\n%s\" % \"\\n\".join(\n",
    "        [\"%s - %s\" % (fnames[i], \", \".join(missing_features[i]))\n",
    "         for i in range(len(fnames)) if missing_features[i]]\n",
    "    ))\n",
    "\n",
    "# check if all hypothesis files contain hypotheses of all actions\n",
    "required_actions = cls.all_possible_actions\n",
    "missing_actions = [set(required_actions) - set(hd[\"actions\"])\n",
    "                   for hd in hypothesis_data]\n",
    "if any(missing_actions):\n",
    "    raise ValueError(\"Missing actions:\\n%s\" % \"\\n\".join(\n",
    "        [\"%s - %s\" % (fnames[i], \", \".join(missing_actions[i]))\n",
    "         for i in range(len(fnames)) if missing_actions[i]]\n",
    "    ))\n"
   ]
  },
  {
   "cell_type": "code",
   "execution_count": null,
   "id": "57b6bde6-f20c-4872-8882-e42a11e4a0aa",
   "metadata": {},
   "outputs": [],
   "source": []
  }
 ],
 "metadata": {
  "kernelspec": {
   "display_name": "Python 3 (ipykernel)",
   "language": "python",
   "name": "python3"
  },
  "language_info": {
   "codemirror_mode": {
    "name": "ipython",
    "version": 3
   },
   "file_extension": ".py",
   "mimetype": "text/x-python",
   "name": "python",
   "nbconvert_exporter": "python",
   "pygments_lexer": "ipython3",
   "version": "3.9.16"
  }
 },
 "nbformat": 4,
 "nbformat_minor": 5
}
