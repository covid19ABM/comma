{
 "cells": [
  {
   "cell_type": "markdown",
   "id": "8e477239-2fec-41a4-96d2-b8fb1b1ef621",
   "metadata": {},
   "source": [
    "# Demo Hypothesis class\n",
    "\n",
    "This notebook is for demonstrating usage of the Hypothesis class."
   ]
  },
  {
   "cell_type": "code",
   "execution_count": 1,
   "id": "e1b239f6-7e08-4cf2-9ed3-af89243b0d25",
   "metadata": {},
   "outputs": [],
   "source": [
    "from comma.hypothesis import Hypothesis\n",
    "from pathlib import Path"
   ]
  },
  {
   "cell_type": "markdown",
   "id": "53666252-5d89-44be-8696-dda8d79a1293",
   "metadata": {},
   "source": [
    "### Create empty hypothesis files\n",
    "This function reads what's specified in `params_individual.json` and `params_model.json` and it creates five csv files in the `dir_params`:\n",
    "\n",
    "- lockdown_absent\n",
    "- lockdown_easy\n",
    "- lockdown_medium\n",
    "- lockdown_hard\n",
    "- actions_effects_on_mh"
   ]
  },
  {
   "cell_type": "code",
   "execution_count": 3,
   "id": "9de56e50-7f13-4771-a0ea-9bd46c035b44",
   "metadata": {},
   "outputs": [],
   "source": [
    "dir_ = Path(\"../try/\")\n",
    "Hypothesis.create_empty_hypotheses(dir_params=dir_)"
   ]
  },
  {
   "cell_type": "markdown",
   "id": "0be3d19a-8fb3-41f7-b746-79b4b7803a47",
   "metadata": {},
   "source": [
    "# Validate the hypotheses files\n",
    "\n",
    "Once created the files, users can edit it. To ensure that all changes have been made consistently to all files, and that no change has resulted in having one file dissimilar from the others, we check that these files are all consistent with each other "
   ]
  },
  {
   "cell_type": "code",
   "execution_count": 4,
   "id": "12d76478-f4c4-4f91-897e-fd427a4aa9c5",
   "metadata": {},
   "outputs": [],
   "source": [
    "Hypothesis.validate_param_file(dir_params=dir_)"
   ]
  },
  {
   "cell_type": "code",
   "execution_count": 6,
   "id": "aa0a488d-132d-4d7a-a098-c97a2dd21ae9",
   "metadata": {},
   "outputs": [
    {
     "data": {
      "text/plain": [
       "['age_group__1',\n",
       " 'age_group__2',\n",
       " 'age_group__3',\n",
       " 'age_group__4',\n",
       " 'gender_f',\n",
       " 'gender_m',\n",
       " 'education_high',\n",
       " 'education_low',\n",
       " 'education_medium',\n",
       " 'unemployed_no',\n",
       " 'unemployed_yes',\n",
       " 'have_partner_no',\n",
       " 'have_partner_yes',\n",
       " 'depressed_no',\n",
       " 'depressed_yes',\n",
       " 'children_presence_no',\n",
       " 'children_presence_yes',\n",
       " 'housing_financial_difficulties_no',\n",
       " 'housing_financial_difficulties_yes',\n",
       " 'selfrated_health_average',\n",
       " 'selfrated_health_good',\n",
       " 'selfrated_health_poor',\n",
       " 'critical_job_no',\n",
       " 'critical_job_yes']"
      ]
     },
     "execution_count": 6,
     "metadata": {},
     "output_type": "execute_result"
    }
   ],
   "source": [
    "Hypothesis.all_possible_features"
   ]
  },
  {
   "cell_type": "code",
   "execution_count": null,
   "id": "19d5d585-2a72-4414-bea9-93ccd5ede1e6",
   "metadata": {},
   "outputs": [],
   "source": []
  }
 ],
 "metadata": {
  "kernelspec": {
   "display_name": "Python 3 (ipykernel)",
   "language": "python",
   "name": "python3"
  },
  "language_info": {
   "codemirror_mode": {
    "name": "ipython",
    "version": 3
   },
   "file_extension": ".py",
   "mimetype": "text/x-python",
   "name": "python",
   "nbconvert_exporter": "python",
   "pygments_lexer": "ipython3",
   "version": "3.9.16"
  }
 },
 "nbformat": 4,
 "nbformat_minor": 5
}
