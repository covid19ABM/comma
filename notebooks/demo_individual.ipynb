{
 "cells": [
  {
   "cell_type": "markdown",
   "metadata": {},
   "source": [
    "# Demo Individual\n",
    "\n",
    "This notebook is for demonstrating usage of the Individual class."
   ]
  },
  {
   "cell_type": "code",
   "execution_count": 1,
   "metadata": {},
   "outputs": [],
   "source": [
    "from comma.individual import Individual\n",
    "import pandas as pd\n",
    "import os\n",
    "\n",
    "dir = '../parameters/'"
   ]
  },
  {
   "cell_type": "code",
   "execution_count": 2,
   "metadata": {},
   "outputs": [
    {
     "name": "stderr",
     "output_type": "stream",
     "text": [
      "Populating individuals: 100%|████████████████████| 1/1 [00:00<00:00, 3521.67i/s]\n"
     ]
    },
    {
     "data": {
      "text/plain": [
       "baseline                              1\n",
       "age_group__1                          0\n",
       "age_group__2                          0\n",
       "age_group__3                          0\n",
       "age_group__4                          1\n",
       "gender_f                              0\n",
       "gender_m                              1\n",
       "education_high                        0\n",
       "education_low                         0\n",
       "education_medium                      1\n",
       "unemployed_no                         1\n",
       "unemployed_yes                        0\n",
       "have_partner_no                       0\n",
       "have_partner_yes                      1\n",
       "depressed_no                          1\n",
       "depressed_yes                         0\n",
       "children_presence_no                  1\n",
       "children_presence_yes                 0\n",
       "housing_financial_difficulties_no     1\n",
       "housing_financial_difficulties_yes    0\n",
       "selfrated_health_average              1\n",
       "selfrated_health_good                 0\n",
       "selfrated_health_poor                 0\n",
       "critical_job_no                       0\n",
       "critical_job_yes                      1\n",
       "Name: 0, dtype: int64"
      ]
     },
     "execution_count": 2,
     "metadata": {},
     "output_type": "execute_result"
    }
   ],
   "source": [
    "# generate one agent based on parameters in the parameter files\n",
    "# and get features of the agent\n",
    "a = Individual.populate(1, dir)\n",
    "a[0].get_features()"
   ]
  },
  {
   "cell_type": "code",
   "execution_count": 3,
   "metadata": {},
   "outputs": [
    {
     "data": {
      "text/plain": [
       "['work_from_home',\n",
       " 'maintain_physical_distance',\n",
       " 'stay_at_home',\n",
       " 'exercise',\n",
       " 'socialise',\n",
       " 'travel',\n",
       " 'seek_help',\n",
       " 'negative_coping',\n",
       " 'positive_coping',\n",
       " 'socialise_online']"
      ]
     },
     "execution_count": 3,
     "metadata": {},
     "output_type": "execute_result"
    }
   ],
   "source": [
    "# get possible action list\n",
    "a[0].actions"
   ]
  },
  {
   "cell_type": "code",
   "execution_count": 4,
   "metadata": {},
   "outputs": [
    {
     "data": {
      "text/html": [
       "<div>\n",
       "<style scoped>\n",
       "    .dataframe tbody tr th:only-of-type {\n",
       "        vertical-align: middle;\n",
       "    }\n",
       "\n",
       "    .dataframe tbody tr th {\n",
       "        vertical-align: top;\n",
       "    }\n",
       "\n",
       "    .dataframe thead th {\n",
       "        text-align: right;\n",
       "    }\n",
       "</style>\n",
       "<table border=\"1\" class=\"dataframe\">\n",
       "  <thead>\n",
       "    <tr style=\"text-align: right;\">\n",
       "      <th></th>\n",
       "      <th>actions</th>\n",
       "      <th>probs</th>\n",
       "    </tr>\n",
       "  </thead>\n",
       "  <tbody>\n",
       "    <tr>\n",
       "      <th>0</th>\n",
       "      <td>False</td>\n",
       "      <td>0.148047</td>\n",
       "    </tr>\n",
       "    <tr>\n",
       "      <th>1</th>\n",
       "      <td>True</td>\n",
       "      <td>1.000000</td>\n",
       "    </tr>\n",
       "    <tr>\n",
       "      <th>2</th>\n",
       "      <td>False</td>\n",
       "      <td>0.500000</td>\n",
       "    </tr>\n",
       "    <tr>\n",
       "      <th>3</th>\n",
       "      <td>False</td>\n",
       "      <td>0.934011</td>\n",
       "    </tr>\n",
       "    <tr>\n",
       "      <th>4</th>\n",
       "      <td>True</td>\n",
       "      <td>0.999998</td>\n",
       "    </tr>\n",
       "    <tr>\n",
       "      <th>5</th>\n",
       "      <td>False</td>\n",
       "      <td>0.000259</td>\n",
       "    </tr>\n",
       "    <tr>\n",
       "      <th>6</th>\n",
       "      <td>True</td>\n",
       "      <td>0.983536</td>\n",
       "    </tr>\n",
       "    <tr>\n",
       "      <th>7</th>\n",
       "      <td>True</td>\n",
       "      <td>0.999991</td>\n",
       "    </tr>\n",
       "    <tr>\n",
       "      <th>8</th>\n",
       "      <td>True</td>\n",
       "      <td>0.601088</td>\n",
       "    </tr>\n",
       "    <tr>\n",
       "      <th>9</th>\n",
       "      <td>True</td>\n",
       "      <td>0.500000</td>\n",
       "    </tr>\n",
       "  </tbody>\n",
       "</table>\n",
       "</div>"
      ],
      "text/plain": [
       "   actions     probs\n",
       "0    False  0.148047\n",
       "1     True  1.000000\n",
       "2    False  0.500000\n",
       "3    False  0.934011\n",
       "4     True  0.999998\n",
       "5    False  0.000259\n",
       "6     True  0.983536\n",
       "7     True  0.999991\n",
       "8     True  0.601088\n",
       "9     True  0.500000"
      ]
     },
     "execution_count": 4,
     "metadata": {},
     "output_type": "execute_result"
    }
   ],
   "source": [
    "# choose action based on an imput lockdown policy\n",
    "# return a boolean list of taking a specific action or not\n",
    "# and a list of probability of taking a specific action\n",
    "actions, probs = a[0].choose_actions_on_lockdown('easy')\n",
    "pd.DataFrame({\n",
    "    \"actions\": actions, \n",
    "    \"probs\": probs\n",
    "})"
   ]
  },
  {
   "cell_type": "code",
   "execution_count": 5,
   "metadata": {},
   "outputs": [],
   "source": [
    "# take a series of actions\n",
    "# and get agent's status afterwords\n",
    "a[0].take_actions(actions)"
   ]
  },
  {
   "cell_type": "code",
   "execution_count": 7,
   "metadata": {},
   "outputs": [
    {
     "data": {
      "text/plain": [
       "mh    0.002\n",
       "Name: 0, dtype: float64"
      ]
     },
     "execution_count": 7,
     "metadata": {},
     "output_type": "execute_result"
    }
   ],
   "source": [
    "a[0].get_status()"
   ]
  },
  {
   "cell_type": "code",
   "execution_count": 9,
   "metadata": {},
   "outputs": [
    {
     "data": {
      "text/plain": [
       "['maintain_physical_distance',\n",
       " 'socialise',\n",
       " 'seek_help',\n",
       " 'negative_coping',\n",
       " 'positive_coping',\n",
       " 'socialise_online']"
      ]
     },
     "execution_count": 9,
     "metadata": {},
     "output_type": "execute_result"
    }
   ],
   "source": [
    "# show which actions the agent has chosen\n",
    "a[0].get_actions()"
   ]
  },
  {
   "cell_type": "code",
   "execution_count": null,
   "metadata": {},
   "outputs": [],
   "source": []
  }
 ],
 "metadata": {
  "kernelspec": {
   "display_name": "Python 3 (ipykernel)",
   "language": "python",
   "name": "python3"
  },
  "language_info": {
   "codemirror_mode": {
    "name": "ipython",
    "version": 3
   },
   "file_extension": ".py",
   "mimetype": "text/x-python",
   "name": "python",
   "nbconvert_exporter": "python",
   "pygments_lexer": "ipython3",
   "version": "3.9.16"
  }
 },
 "nbformat": 4,
 "nbformat_minor": 4
}
