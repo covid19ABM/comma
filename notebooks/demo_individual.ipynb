{
 "cells": [
  {
   "attachments": {},
   "cell_type": "markdown",
   "metadata": {},
   "source": [
    "# Demo Individual\n",
    "\n",
    "This notebook is for demonstrating usage of the Individual class."
   ]
  },
  {
   "cell_type": "code",
   "execution_count": 21,
   "metadata": {},
   "outputs": [],
   "source": [
    "from comma.individual import Individual\n",
    "import pandas as pd\n",
    "import os\n",
    "\n",
    "dir = '../parameters_example/'"
   ]
  },
  {
   "cell_type": "code",
   "execution_count": 9,
   "metadata": {},
   "outputs": [
    {
     "data": {
      "text/plain": [
       "gender                             0\n",
       "pre_existing_depression            0\n",
       "pre_existing_burnout               1\n",
       "pre_existing_addiction             0\n",
       "pre_existing_chronic_fatigue       0\n",
       "parenthood                         0\n",
       "living_with_child                  1\n",
       "single_parent                      0\n",
       "age_group__3                       1\n",
       "education_Medium                   1\n",
       "employed_No, seeking employment    1\n",
       "partnership_status_Married         1\n",
       "housing_difficulties_Some          1\n",
       "finance_difficulties_No            1\n",
       "pre_existing_health_issues_No      1\n",
       "partner_difficulties_No            1\n",
       "job_type_white_collar              1\n",
       "area_urban                         1\n",
       "ses_high                           1\n",
       "Name: 0, dtype: int64"
      ]
     },
     "execution_count": 9,
     "metadata": {},
     "output_type": "execute_result"
    }
   ],
   "source": [
    "# generate one agent based on parameters in the parameter files\n",
    "# and get features of the agent\n",
    "a = Individual.populate(1, dir)\n",
    "a[0].get_features()"
   ]
  },
  {
   "cell_type": "code",
   "execution_count": 11,
   "metadata": {},
   "outputs": [
    {
     "data": {
      "text/plain": [
       "['go_to_work',\n",
       " 'maintain_physical_distance',\n",
       " 'stay_at_home',\n",
       " 'exercise',\n",
       " 'socialise',\n",
       " 'travel',\n",
       " 'seek_help',\n",
       " 'negative_coping',\n",
       " 'positive_coping',\n",
       " 'socialise_online']"
      ]
     },
     "execution_count": 11,
     "metadata": {},
     "output_type": "execute_result"
    }
   ],
   "source": [
    "# get possible action list\n",
    "a[0].actions"
   ]
  },
  {
   "cell_type": "code",
   "execution_count": 19,
   "metadata": {},
   "outputs": [
    {
     "data": {
      "text/html": [
       "<div>\n",
       "<style scoped>\n",
       "    .dataframe tbody tr th:only-of-type {\n",
       "        vertical-align: middle;\n",
       "    }\n",
       "\n",
       "    .dataframe tbody tr th {\n",
       "        vertical-align: top;\n",
       "    }\n",
       "\n",
       "    .dataframe thead th {\n",
       "        text-align: right;\n",
       "    }\n",
       "</style>\n",
       "<table border=\"1\" class=\"dataframe\">\n",
       "  <thead>\n",
       "    <tr style=\"text-align: right;\">\n",
       "      <th></th>\n",
       "      <th>actions</th>\n",
       "      <th>probs</th>\n",
       "    </tr>\n",
       "  </thead>\n",
       "  <tbody>\n",
       "    <tr>\n",
       "      <th>0</th>\n",
       "      <td>True</td>\n",
       "      <td>0.956893</td>\n",
       "    </tr>\n",
       "    <tr>\n",
       "      <th>1</th>\n",
       "      <td>False</td>\n",
       "      <td>0.731059</td>\n",
       "    </tr>\n",
       "    <tr>\n",
       "      <th>2</th>\n",
       "      <td>True</td>\n",
       "      <td>0.710950</td>\n",
       "    </tr>\n",
       "    <tr>\n",
       "      <th>3</th>\n",
       "      <td>True</td>\n",
       "      <td>0.731059</td>\n",
       "    </tr>\n",
       "    <tr>\n",
       "      <th>4</th>\n",
       "      <td>True</td>\n",
       "      <td>0.930862</td>\n",
       "    </tr>\n",
       "    <tr>\n",
       "      <th>5</th>\n",
       "      <td>True</td>\n",
       "      <td>0.817574</td>\n",
       "    </tr>\n",
       "    <tr>\n",
       "      <th>6</th>\n",
       "      <td>False</td>\n",
       "      <td>0.500000</td>\n",
       "    </tr>\n",
       "    <tr>\n",
       "      <th>7</th>\n",
       "      <td>False</td>\n",
       "      <td>0.500000</td>\n",
       "    </tr>\n",
       "    <tr>\n",
       "      <th>8</th>\n",
       "      <td>True</td>\n",
       "      <td>0.500000</td>\n",
       "    </tr>\n",
       "    <tr>\n",
       "      <th>9</th>\n",
       "      <td>True</td>\n",
       "      <td>0.956893</td>\n",
       "    </tr>\n",
       "  </tbody>\n",
       "</table>\n",
       "</div>"
      ],
      "text/plain": [
       "   actions     probs\n",
       "0     True  0.956893\n",
       "1    False  0.731059\n",
       "2     True  0.710950\n",
       "3     True  0.731059\n",
       "4     True  0.930862\n",
       "5     True  0.817574\n",
       "6    False  0.500000\n",
       "7    False  0.500000\n",
       "8     True  0.500000\n",
       "9     True  0.956893"
      ]
     },
     "execution_count": 19,
     "metadata": {},
     "output_type": "execute_result"
    }
   ],
   "source": [
    "# choose action based on an imput lockdown policy\n",
    "# return a boolean list of taking a specific action or not\n",
    "# and a list of probability of taking a specific action\n",
    "actions, probs = a[0].choose_actions_on_lockdown('easy')\n",
    "pd.DataFrame({\n",
    "    \"actions\": actions, \n",
    "    \"probs\": probs\n",
    "})"
   ]
  },
  {
   "cell_type": "code",
   "execution_count": 20,
   "metadata": {},
   "outputs": [
    {
     "data": {
      "text/plain": [
       "contacts     9.0\n",
       "mh          11.5\n",
       "Name: 0, dtype: float64"
      ]
     },
     "execution_count": 20,
     "metadata": {},
     "output_type": "execute_result"
    }
   ],
   "source": [
    "# take a series of actions\n",
    "# and get agent's status afterwords\n",
    "a[0].take_actions(actions)\n",
    "a[0].get_status()"
   ]
  }
 ],
 "metadata": {
  "kernelspec": {
   "display_name": "venv",
   "language": "python",
   "name": "python3"
  },
  "language_info": {
   "codemirror_mode": {
    "name": "ipython",
    "version": 3
   },
   "file_extension": ".py",
   "mimetype": "text/x-python",
   "name": "python",
   "nbconvert_exporter": "python",
   "pygments_lexer": "ipython3",
   "version": "3.9.12"
  },
  "orig_nbformat": 4
 },
 "nbformat": 4,
 "nbformat_minor": 2
}
