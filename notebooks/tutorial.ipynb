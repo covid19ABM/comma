{
 "cells": [
  {
   "cell_type": "markdown",
   "metadata": {},
   "source": [
    "# comma package tutorial"
   ]
  },
  {
   "cell_type": "code",
   "execution_count": 1,
   "metadata": {
    "tags": []
   },
   "outputs": [],
   "source": [
    "from comma.model import Model\n",
    "import random\n",
    "import pandas as pd\n",
    "import matplotlib.pyplot as plt\n",
    "import seaborn as sns\n",
    "import numpy as np\n",
    "\n",
    "from datetime import date\n",
    "from functools import reduce\n",
    "\n",
    "pd.set_option('display.max_columns', None)"
   ]
  },
  {
   "cell_type": "markdown",
   "metadata": {},
   "source": [
    "### Step 1. Initialise the model\n"
   ]
  },
  {
   "cell_type": "markdown",
   "metadata": {},
   "source": [
    "We initialise a model with: \n",
    "\n",
    "- A population size of 500 individuals. \n",
    "\n",
    "- Population parameters estimated via IPF(`use_ipf = True`). Note that if the joint probabilities are not necessary, then `use_ipf = False` will load parameters specified in `params_individual.json`. This will initiate a sampling from the distribution outlined in the json file, which does *not* take into account the joint probabilities within variables.\n",
    "\n",
    "- Seed = 0. This will ensure reproducibility in the output.\n",
    "\n",
    "- dir_params = '../parameters'. This is the folder containing all our configuration files: matrices of action probabilities, parameters of population composition and matrices of the effects of actions on mental health"
   ]
  },
  {
   "cell_type": "code",
   "execution_count": 2,
   "metadata": {
    "collapsed": false,
    "jupyter": {
     "outputs_hidden": false
    }
   },
   "outputs": [
    {
     "name": "stderr",
     "output_type": "stream",
     "text": [
      "Populating individuals: 100%|█████████████████████████████████████████████████████| 5914/5914 [00:00<00:00, 27497.38i/s]\n"
     ]
    }
   ],
   "source": [
    "size = 5914\n",
    "dir_params = '../parameters/'\n",
    "use_ipf = True\n",
    "seed = 0\n",
    "\n",
    "model = Model(size, dir_params, use_ipf, seed)"
   ]
  },
  {
   "cell_type": "markdown",
   "metadata": {},
   "source": [
    "To see who are the agents, you can print their features:"
   ]
  },
  {
   "cell_type": "code",
   "execution_count": 3,
   "metadata": {},
   "outputs": [
    {
     "name": "stdout",
     "output_type": "stream",
     "text": [
      "there are 5914 individuals\n"
     ]
    }
   ],
   "source": [
    "print(f'there are {len(model.agents)} individuals')"
   ]
  },
  {
   "cell_type": "code",
   "execution_count": 13,
   "metadata": {},
   "outputs": [
    {
     "name": "stdout",
     "output_type": "stream",
     "text": [
      "these are the feature of one individual: \n",
      "\n",
      "baseline                                  1\n",
      "age_group__1                              0\n",
      "age_group__2                              0\n",
      "age_group__3                              0\n",
      "age_group__4                              1\n",
      "gender_f                                  1\n",
      "gender_m                                  0\n",
      "education_high                            0\n",
      "education_low                             0\n",
      "education_medium                          1\n",
      "education_unknown                         0\n",
      "unemployed_no                             1\n",
      "unemployed_yes                            0\n",
      "have_partner_no                           0\n",
      "have_partner_yes                          0\n",
      "have_partner_unknown                      1\n",
      "depressed_no                              1\n",
      "depressed_yes                             0\n",
      "depressed_unknown                         0\n",
      "children_presence_no                      0\n",
      "children_presence_yes                     0\n",
      "children_presence_unknown                 1\n",
      "housing_financial_difficulties_no         1\n",
      "housing_financial_difficulties_yes        0\n",
      "housing_financial_difficulties_unknown    0\n",
      "selfrated_health_average                  0\n",
      "selfrated_health_good                     0\n",
      "selfrated_health_poor                     0\n",
      "selfrated_health_unknown                  1\n",
      "critical_job_no                           1\n",
      "critical_job_yes                          0\n",
      "critical_job_unknown                      0\n",
      "bmi_underweight                           0\n",
      "bmi_normalweight                          1\n",
      "bmi_overweight                            0\n",
      "bmi_obese                                 0\n",
      "bmi_unknown                               0\n",
      "livesalone_no                             0\n",
      "livesalone_yes                            0\n",
      "livesalone_unknown                        1\n",
      "income_median_above                       0\n",
      "income_median_below                       0\n",
      "income_median_unknown                     1\n",
      "Name: 9, dtype: int64\n"
     ]
    }
   ],
   "source": [
    "print(f'these are the feature of one individual: \\n\\n{model.agents[9].get_features()}')"
   ]
  },
  {
   "cell_type": "markdown",
   "metadata": {},
   "source": [
    "### Step 2. Run the model"
   ]
  },
  {
   "cell_type": "markdown",
   "metadata": {},
   "source": [
    "We simulate the mental health trajectory of the individuals generated above for ~30/32 days (1 step = 1 day). Within these days, we hypothesise 2 types of lockdowns: easy and hard."
   ]
  },
  {
   "cell_type": "markdown",
   "metadata": {},
   "source": [
    "For instance, we are interested in the period of time from the 19th of April 2020 to the 20th of May 2020. This was an 'easy' lockdown"
   ]
  },
  {
   "cell_type": "code",
   "execution_count": 3,
   "metadata": {},
   "outputs": [
    {
     "name": "stdout",
     "output_type": "stream",
     "text": [
      "31 days\n"
     ]
    }
   ],
   "source": [
    "# This code is contributed by Jyothi pinjala\n",
    "\n",
    "def numOfDays(date1, date2):\n",
    "\treturn reduce(lambda x, y: (y-x).days, [date1, date2])\n",
    "\n",
    "date1 = date(2020, 4, 19)\n",
    "date2 = date(2020, 5, 20)\n",
    "print(numOfDays(date1, date2), \"days\")"
   ]
  },
  {
   "cell_type": "code",
   "execution_count": 4,
   "metadata": {},
   "outputs": [],
   "source": [
    "n_days = numOfDays(date1, date2)"
   ]
  },
  {
   "cell_type": "markdown",
   "metadata": {},
   "source": [
    "#### Easy lockdown period"
   ]
  },
  {
   "cell_type": "code",
   "execution_count": 5,
   "metadata": {
    "tags": []
   },
   "outputs": [],
   "source": [
    "steps = n_days + 1 # so that we include also the last day"
   ]
  },
  {
   "cell_type": "code",
   "execution_count": 6,
   "metadata": {},
   "outputs": [],
   "source": [
    "lockdown_pattern = [\"easy\"]*steps"
   ]
  },
  {
   "cell_type": "code",
   "execution_count": 7,
   "metadata": {},
   "outputs": [
    {
     "name": "stdout",
     "output_type": "stream",
     "text": [
      "Downloading COVID-19 data from RIVM\n",
      "Data fetched\n"
     ]
    },
    {
     "name": "stderr",
     "output_type": "stream",
     "text": [
      "Running simulation: 100%|███████████████████████████████████████████████████████████████| 32/32 [01:16<00:00,  2.39s/it]\n"
     ]
    }
   ],
   "source": [
    "model.run(steps=steps,\n",
    "          lockdown_policy=lockdown_pattern,\n",
    "          out_path=\"simulation_results_easy.csv\",\n",
    "          starting_date=\"2020-04-19\")"
   ]
  },
  {
   "cell_type": "code",
   "execution_count": 19,
   "metadata": {},
   "outputs": [
    {
     "name": "stdout",
     "output_type": "stream",
     "text": [
      "We simulated 32 days\n"
     ]
    }
   ],
   "source": [
    "print(f'We simulated {len(lockdown_pattern)} days')"
   ]
  },
  {
   "cell_type": "markdown",
   "metadata": {},
   "source": [
    "The model at the end of the run will output \"simulation_results.csv\". "
   ]
  },
  {
   "cell_type": "markdown",
   "metadata": {},
   "source": [
    "Agents' features are not part of the output file, however we can save them separately and merge them later in our analyses:"
   ]
  },
  {
   "cell_type": "code",
   "execution_count": 20,
   "metadata": {},
   "outputs": [],
   "source": [
    "agents_features = []\n",
    "for agent in model.agents:\n",
    "    agents_features.append(agent.get_features())"
   ]
  },
  {
   "cell_type": "code",
   "execution_count": 21,
   "metadata": {},
   "outputs": [],
   "source": [
    "agents_features = pd.DataFrame(agents_features)"
   ]
  },
  {
   "cell_type": "code",
   "execution_count": 22,
   "metadata": {},
   "outputs": [],
   "source": [
    "agents_features.to_csv('agents_feats_easy.csv', index=False)"
   ]
  },
  {
   "cell_type": "markdown",
   "metadata": {},
   "source": [
    "#### Hard lockdown period"
   ]
  },
  {
   "cell_type": "markdown",
   "metadata": {},
   "source": [
    "This period goes from the 5th of january 2021, to the 8th of february 2021. 34 days."
   ]
  },
  {
   "cell_type": "code",
   "execution_count": 8,
   "metadata": {},
   "outputs": [
    {
     "name": "stderr",
     "output_type": "stream",
     "text": [
      "Populating individuals: 100%|█████████████████████████████████████████████████████| 5914/5914 [00:00<00:00, 28527.76i/s]\n"
     ]
    }
   ],
   "source": [
    "size = 5914\n",
    "dir_params = '../parameters/'\n",
    "use_ipf = True\n",
    "seed = 0\n",
    "\n",
    "model = Model(size, dir_params, use_ipf, seed)"
   ]
  },
  {
   "cell_type": "code",
   "execution_count": 9,
   "metadata": {},
   "outputs": [
    {
     "name": "stdout",
     "output_type": "stream",
     "text": [
      "34 days\n"
     ]
    }
   ],
   "source": [
    "date1 = date(2021, 1, 5)\n",
    "date2 = date(2021, 2, 8)\n",
    "print(numOfDays(date1, date2), \"days\")"
   ]
  },
  {
   "cell_type": "code",
   "execution_count": 10,
   "metadata": {},
   "outputs": [],
   "source": [
    "n_days = numOfDays(date1, date2)"
   ]
  },
  {
   "cell_type": "code",
   "execution_count": 11,
   "metadata": {},
   "outputs": [],
   "source": [
    "steps = n_days + 1 # so that we include also the last day"
   ]
  },
  {
   "cell_type": "code",
   "execution_count": 27,
   "metadata": {},
   "outputs": [],
   "source": [
    "lockdown_pattern = [\"hard\"]*steps"
   ]
  },
  {
   "cell_type": "code",
   "execution_count": 28,
   "metadata": {},
   "outputs": [
    {
     "name": "stdout",
     "output_type": "stream",
     "text": [
      "Downloading COVID-19 data from RIVM\n",
      "Data fetched\n"
     ]
    },
    {
     "name": "stderr",
     "output_type": "stream",
     "text": [
      "Running simulation: 100%|█████████████████████████| 35/35 [01:27<00:00,  2.50s/it]\n"
     ]
    }
   ],
   "source": [
    "model.run(steps=steps,\n",
    "          lockdown_policy=lockdown_pattern,\n",
    "          out_path=\"simulation_results_hard.csv\",\n",
    "          starting_date=\"2021-01-05\")"
   ]
  },
  {
   "cell_type": "markdown",
   "metadata": {},
   "source": [
    "Save the features for subsequent analyses:"
   ]
  },
  {
   "cell_type": "code",
   "execution_count": 29,
   "metadata": {},
   "outputs": [],
   "source": [
    "agents_features = []\n",
    "for agent in model.agents:\n",
    "    agents_features.append(agent.get_features())"
   ]
  },
  {
   "cell_type": "code",
   "execution_count": 30,
   "metadata": {},
   "outputs": [],
   "source": [
    "agents_features = pd.DataFrame(agents_features)"
   ]
  },
  {
   "cell_type": "code",
   "execution_count": 31,
   "metadata": {},
   "outputs": [],
   "source": [
    "agents_features.to_csv('agents_feats_hard.csv', index=False)"
   ]
  },
  {
   "cell_type": "markdown",
   "metadata": {},
   "source": [
    "### Step 3. Load and Plot the results"
   ]
  },
  {
   "cell_type": "code",
   "execution_count": 2,
   "metadata": {
    "collapsed": false,
    "jupyter": {
     "outputs_hidden": false
    }
   },
   "outputs": [],
   "source": [
    "data = pd.read_csv('simulation_results_easy.csv', delimiter=\";\", decimal=\",\")"
   ]
  },
  {
   "cell_type": "code",
   "execution_count": 4,
   "metadata": {},
   "outputs": [
    {
     "data": {
      "text/html": [
       "<div>\n",
       "<style scoped>\n",
       "    .dataframe tbody tr th:only-of-type {\n",
       "        vertical-align: middle;\n",
       "    }\n",
       "\n",
       "    .dataframe tbody tr th {\n",
       "        vertical-align: top;\n",
       "    }\n",
       "\n",
       "    .dataframe thead th {\n",
       "        text-align: right;\n",
       "    }\n",
       "</style>\n",
       "<table border=\"1\" class=\"dataframe\">\n",
       "  <thead>\n",
       "    <tr style=\"text-align: right;\">\n",
       "      <th></th>\n",
       "      <th>step_id</th>\n",
       "      <th>lockdown</th>\n",
       "      <th>agent_id</th>\n",
       "      <th>delta_mental_health</th>\n",
       "      <th>cumulative_mental_health</th>\n",
       "      <th>covid_status</th>\n",
       "      <th>days_since_first_infection</th>\n",
       "    </tr>\n",
       "  </thead>\n",
       "  <tbody>\n",
       "    <tr>\n",
       "      <th>0</th>\n",
       "      <td>0</td>\n",
       "      <td>easy</td>\n",
       "      <td>0</td>\n",
       "      <td>0.0</td>\n",
       "      <td>6.070</td>\n",
       "      <td>0</td>\n",
       "      <td>NaN</td>\n",
       "    </tr>\n",
       "    <tr>\n",
       "      <th>1</th>\n",
       "      <td>0</td>\n",
       "      <td>easy</td>\n",
       "      <td>1</td>\n",
       "      <td>0.0</td>\n",
       "      <td>-15.500</td>\n",
       "      <td>0</td>\n",
       "      <td>NaN</td>\n",
       "    </tr>\n",
       "    <tr>\n",
       "      <th>2</th>\n",
       "      <td>0</td>\n",
       "      <td>easy</td>\n",
       "      <td>2</td>\n",
       "      <td>0.0</td>\n",
       "      <td>-0.630</td>\n",
       "      <td>0</td>\n",
       "      <td>NaN</td>\n",
       "    </tr>\n",
       "    <tr>\n",
       "      <th>3</th>\n",
       "      <td>0</td>\n",
       "      <td>easy</td>\n",
       "      <td>3</td>\n",
       "      <td>0.0</td>\n",
       "      <td>5.870</td>\n",
       "      <td>0</td>\n",
       "      <td>NaN</td>\n",
       "    </tr>\n",
       "    <tr>\n",
       "      <th>4</th>\n",
       "      <td>0</td>\n",
       "      <td>easy</td>\n",
       "      <td>4</td>\n",
       "      <td>0.0</td>\n",
       "      <td>-6.799</td>\n",
       "      <td>0</td>\n",
       "      <td>NaN</td>\n",
       "    </tr>\n",
       "  </tbody>\n",
       "</table>\n",
       "</div>"
      ],
      "text/plain": [
       "   step_id lockdown  agent_id  delta_mental_health  cumulative_mental_health  \\\n",
       "0        0     easy         0                  0.0                     6.070   \n",
       "1        0     easy         1                  0.0                   -15.500   \n",
       "2        0     easy         2                  0.0                    -0.630   \n",
       "3        0     easy         3                  0.0                     5.870   \n",
       "4        0     easy         4                  0.0                    -6.799   \n",
       "\n",
       "   covid_status  days_since_first_infection  \n",
       "0             0                         NaN  \n",
       "1             0                         NaN  \n",
       "2             0                         NaN  \n",
       "3             0                         NaN  \n",
       "4             0                         NaN  "
      ]
     },
     "metadata": {},
     "output_type": "display_data"
    }
   ],
   "source": [
    "display(data.head())"
   ]
  },
  {
   "cell_type": "code",
   "execution_count": 5,
   "metadata": {},
   "outputs": [
    {
     "data": {
      "text/plain": [
       "array(['easy'], dtype=object)"
      ]
     },
     "execution_count": 5,
     "metadata": {},
     "output_type": "execute_result"
    }
   ],
   "source": [
    "data['lockdown'].unique()"
   ]
  },
  {
   "cell_type": "markdown",
   "metadata": {},
   "source": [
    "#### Group by step_id and compute the average mental health score"
   ]
  },
  {
   "cell_type": "code",
   "execution_count": 6,
   "metadata": {
    "collapsed": false,
    "jupyter": {
     "outputs_hidden": false
    }
   },
   "outputs": [
    {
     "data": {
      "text/html": [
       "<div>\n",
       "<style scoped>\n",
       "    .dataframe tbody tr th:only-of-type {\n",
       "        vertical-align: middle;\n",
       "    }\n",
       "\n",
       "    .dataframe tbody tr th {\n",
       "        vertical-align: top;\n",
       "    }\n",
       "\n",
       "    .dataframe thead th {\n",
       "        text-align: right;\n",
       "    }\n",
       "</style>\n",
       "<table border=\"1\" class=\"dataframe\">\n",
       "  <thead>\n",
       "    <tr style=\"text-align: right;\">\n",
       "      <th></th>\n",
       "      <th>step_id</th>\n",
       "      <th>lockdown</th>\n",
       "      <th>agent_id</th>\n",
       "      <th>delta_mental_health</th>\n",
       "      <th>cumulative_mental_health</th>\n",
       "      <th>covid_status</th>\n",
       "      <th>days_since_first_infection</th>\n",
       "    </tr>\n",
       "  </thead>\n",
       "  <tbody>\n",
       "    <tr>\n",
       "      <th>0</th>\n",
       "      <td>0</td>\n",
       "      <td>easy</td>\n",
       "      <td>2956.5</td>\n",
       "      <td>0.000000</td>\n",
       "      <td>-4.746423</td>\n",
       "      <td>0.000676</td>\n",
       "      <td>1.00</td>\n",
       "    </tr>\n",
       "    <tr>\n",
       "      <th>1</th>\n",
       "      <td>1</td>\n",
       "      <td>easy</td>\n",
       "      <td>2956.5</td>\n",
       "      <td>-4.863083</td>\n",
       "      <td>-9.611502</td>\n",
       "      <td>0.000676</td>\n",
       "      <td>2.00</td>\n",
       "    </tr>\n",
       "    <tr>\n",
       "      <th>2</th>\n",
       "      <td>2</td>\n",
       "      <td>easy</td>\n",
       "      <td>2956.5</td>\n",
       "      <td>-4.820787</td>\n",
       "      <td>-14.434275</td>\n",
       "      <td>0.000676</td>\n",
       "      <td>3.00</td>\n",
       "    </tr>\n",
       "    <tr>\n",
       "      <th>3</th>\n",
       "      <td>3</td>\n",
       "      <td>easy</td>\n",
       "      <td>2956.5</td>\n",
       "      <td>-4.807597</td>\n",
       "      <td>-19.243865</td>\n",
       "      <td>0.000676</td>\n",
       "      <td>4.00</td>\n",
       "    </tr>\n",
       "    <tr>\n",
       "      <th>4</th>\n",
       "      <td>4</td>\n",
       "      <td>easy</td>\n",
       "      <td>2956.5</td>\n",
       "      <td>-4.786782</td>\n",
       "      <td>-24.032648</td>\n",
       "      <td>0.000676</td>\n",
       "      <td>5.00</td>\n",
       "    </tr>\n",
       "    <tr>\n",
       "      <th>5</th>\n",
       "      <td>5</td>\n",
       "      <td>easy</td>\n",
       "      <td>2956.5</td>\n",
       "      <td>-4.793848</td>\n",
       "      <td>-28.828488</td>\n",
       "      <td>0.000676</td>\n",
       "      <td>6.00</td>\n",
       "    </tr>\n",
       "    <tr>\n",
       "      <th>6</th>\n",
       "      <td>6</td>\n",
       "      <td>easy</td>\n",
       "      <td>2956.5</td>\n",
       "      <td>-4.770826</td>\n",
       "      <td>-33.601319</td>\n",
       "      <td>0.000676</td>\n",
       "      <td>7.00</td>\n",
       "    </tr>\n",
       "    <tr>\n",
       "      <th>7</th>\n",
       "      <td>7</td>\n",
       "      <td>easy</td>\n",
       "      <td>2956.5</td>\n",
       "      <td>-4.744015</td>\n",
       "      <td>-38.347335</td>\n",
       "      <td>0.000676</td>\n",
       "      <td>8.00</td>\n",
       "    </tr>\n",
       "    <tr>\n",
       "      <th>8</th>\n",
       "      <td>8</td>\n",
       "      <td>easy</td>\n",
       "      <td>2956.5</td>\n",
       "      <td>-4.747015</td>\n",
       "      <td>-43.096353</td>\n",
       "      <td>0.000676</td>\n",
       "      <td>9.00</td>\n",
       "    </tr>\n",
       "    <tr>\n",
       "      <th>9</th>\n",
       "      <td>9</td>\n",
       "      <td>easy</td>\n",
       "      <td>2956.5</td>\n",
       "      <td>-4.758230</td>\n",
       "      <td>-47.856590</td>\n",
       "      <td>0.000676</td>\n",
       "      <td>10.00</td>\n",
       "    </tr>\n",
       "    <tr>\n",
       "      <th>10</th>\n",
       "      <td>10</td>\n",
       "      <td>easy</td>\n",
       "      <td>2956.5</td>\n",
       "      <td>-4.816063</td>\n",
       "      <td>-52.674653</td>\n",
       "      <td>0.000338</td>\n",
       "      <td>5.50</td>\n",
       "    </tr>\n",
       "    <tr>\n",
       "      <th>11</th>\n",
       "      <td>11</td>\n",
       "      <td>easy</td>\n",
       "      <td>2956.5</td>\n",
       "      <td>-4.689646</td>\n",
       "      <td>-57.366302</td>\n",
       "      <td>0.000338</td>\n",
       "      <td>6.00</td>\n",
       "    </tr>\n",
       "    <tr>\n",
       "      <th>12</th>\n",
       "      <td>12</td>\n",
       "      <td>easy</td>\n",
       "      <td>2956.5</td>\n",
       "      <td>-4.749361</td>\n",
       "      <td>-62.117659</td>\n",
       "      <td>0.000169</td>\n",
       "      <td>3.25</td>\n",
       "    </tr>\n",
       "    <tr>\n",
       "      <th>13</th>\n",
       "      <td>13</td>\n",
       "      <td>easy</td>\n",
       "      <td>2956.5</td>\n",
       "      <td>-4.835398</td>\n",
       "      <td>-66.955071</td>\n",
       "      <td>0.000169</td>\n",
       "      <td>3.50</td>\n",
       "    </tr>\n",
       "    <tr>\n",
       "      <th>14</th>\n",
       "      <td>14</td>\n",
       "      <td>easy</td>\n",
       "      <td>2956.5</td>\n",
       "      <td>-4.897855</td>\n",
       "      <td>-71.854922</td>\n",
       "      <td>0.000169</td>\n",
       "      <td>3.75</td>\n",
       "    </tr>\n",
       "    <tr>\n",
       "      <th>15</th>\n",
       "      <td>15</td>\n",
       "      <td>easy</td>\n",
       "      <td>2956.5</td>\n",
       "      <td>-4.749882</td>\n",
       "      <td>-76.606802</td>\n",
       "      <td>0.000169</td>\n",
       "      <td>4.00</td>\n",
       "    </tr>\n",
       "    <tr>\n",
       "      <th>16</th>\n",
       "      <td>16</td>\n",
       "      <td>easy</td>\n",
       "      <td>2956.5</td>\n",
       "      <td>-4.786603</td>\n",
       "      <td>-81.395401</td>\n",
       "      <td>0.000169</td>\n",
       "      <td>4.25</td>\n",
       "    </tr>\n",
       "    <tr>\n",
       "      <th>17</th>\n",
       "      <td>17</td>\n",
       "      <td>easy</td>\n",
       "      <td>2956.5</td>\n",
       "      <td>-4.822018</td>\n",
       "      <td>-86.219425</td>\n",
       "      <td>0.000169</td>\n",
       "      <td>4.50</td>\n",
       "    </tr>\n",
       "    <tr>\n",
       "      <th>18</th>\n",
       "      <td>18</td>\n",
       "      <td>easy</td>\n",
       "      <td>2956.5</td>\n",
       "      <td>-4.759024</td>\n",
       "      <td>-90.980454</td>\n",
       "      <td>0.000169</td>\n",
       "      <td>4.75</td>\n",
       "    </tr>\n",
       "    <tr>\n",
       "      <th>19</th>\n",
       "      <td>19</td>\n",
       "      <td>easy</td>\n",
       "      <td>2956.5</td>\n",
       "      <td>-4.800897</td>\n",
       "      <td>-95.783337</td>\n",
       "      <td>0.000169</td>\n",
       "      <td>5.00</td>\n",
       "    </tr>\n",
       "    <tr>\n",
       "      <th>20</th>\n",
       "      <td>20</td>\n",
       "      <td>easy</td>\n",
       "      <td>2956.5</td>\n",
       "      <td>-4.833540</td>\n",
       "      <td>-100.618872</td>\n",
       "      <td>0.000169</td>\n",
       "      <td>5.25</td>\n",
       "    </tr>\n",
       "    <tr>\n",
       "      <th>21</th>\n",
       "      <td>21</td>\n",
       "      <td>easy</td>\n",
       "      <td>2956.5</td>\n",
       "      <td>-4.792312</td>\n",
       "      <td>-105.413182</td>\n",
       "      <td>0.000169</td>\n",
       "      <td>5.50</td>\n",
       "    </tr>\n",
       "    <tr>\n",
       "      <th>22</th>\n",
       "      <td>22</td>\n",
       "      <td>easy</td>\n",
       "      <td>2956.5</td>\n",
       "      <td>-4.742151</td>\n",
       "      <td>-110.157322</td>\n",
       "      <td>0.000169</td>\n",
       "      <td>5.75</td>\n",
       "    </tr>\n",
       "    <tr>\n",
       "      <th>23</th>\n",
       "      <td>23</td>\n",
       "      <td>easy</td>\n",
       "      <td>2956.5</td>\n",
       "      <td>-4.761522</td>\n",
       "      <td>-114.920849</td>\n",
       "      <td>0.000169</td>\n",
       "      <td>6.00</td>\n",
       "    </tr>\n",
       "    <tr>\n",
       "      <th>24</th>\n",
       "      <td>24</td>\n",
       "      <td>easy</td>\n",
       "      <td>2956.5</td>\n",
       "      <td>-4.757634</td>\n",
       "      <td>-119.680479</td>\n",
       "      <td>0.000169</td>\n",
       "      <td>6.25</td>\n",
       "    </tr>\n",
       "    <tr>\n",
       "      <th>25</th>\n",
       "      <td>25</td>\n",
       "      <td>easy</td>\n",
       "      <td>2956.5</td>\n",
       "      <td>-4.821960</td>\n",
       "      <td>-124.504444</td>\n",
       "      <td>0.000169</td>\n",
       "      <td>6.50</td>\n",
       "    </tr>\n",
       "    <tr>\n",
       "      <th>26</th>\n",
       "      <td>26</td>\n",
       "      <td>easy</td>\n",
       "      <td>2956.5</td>\n",
       "      <td>-4.872081</td>\n",
       "      <td>-129.378529</td>\n",
       "      <td>0.000169</td>\n",
       "      <td>6.75</td>\n",
       "    </tr>\n",
       "    <tr>\n",
       "      <th>27</th>\n",
       "      <td>27</td>\n",
       "      <td>easy</td>\n",
       "      <td>2956.5</td>\n",
       "      <td>-4.794268</td>\n",
       "      <td>-134.174789</td>\n",
       "      <td>0.000169</td>\n",
       "      <td>7.00</td>\n",
       "    </tr>\n",
       "    <tr>\n",
       "      <th>28</th>\n",
       "      <td>28</td>\n",
       "      <td>easy</td>\n",
       "      <td>2956.5</td>\n",
       "      <td>-4.788973</td>\n",
       "      <td>-138.965774</td>\n",
       "      <td>0.000169</td>\n",
       "      <td>7.25</td>\n",
       "    </tr>\n",
       "    <tr>\n",
       "      <th>29</th>\n",
       "      <td>29</td>\n",
       "      <td>easy</td>\n",
       "      <td>2956.5</td>\n",
       "      <td>-4.742006</td>\n",
       "      <td>-143.709777</td>\n",
       "      <td>0.000169</td>\n",
       "      <td>7.50</td>\n",
       "    </tr>\n",
       "    <tr>\n",
       "      <th>30</th>\n",
       "      <td>30</td>\n",
       "      <td>easy</td>\n",
       "      <td>2956.5</td>\n",
       "      <td>-4.816155</td>\n",
       "      <td>-148.527936</td>\n",
       "      <td>0.000169</td>\n",
       "      <td>7.75</td>\n",
       "    </tr>\n",
       "    <tr>\n",
       "      <th>31</th>\n",
       "      <td>31</td>\n",
       "      <td>easy</td>\n",
       "      <td>2956.5</td>\n",
       "      <td>-4.767128</td>\n",
       "      <td>-153.297070</td>\n",
       "      <td>0.000169</td>\n",
       "      <td>8.00</td>\n",
       "    </tr>\n",
       "  </tbody>\n",
       "</table>\n",
       "</div>"
      ],
      "text/plain": [
       "    step_id lockdown  agent_id  delta_mental_health  cumulative_mental_health  \\\n",
       "0         0     easy    2956.5             0.000000                 -4.746423   \n",
       "1         1     easy    2956.5            -4.863083                 -9.611502   \n",
       "2         2     easy    2956.5            -4.820787                -14.434275   \n",
       "3         3     easy    2956.5            -4.807597                -19.243865   \n",
       "4         4     easy    2956.5            -4.786782                -24.032648   \n",
       "5         5     easy    2956.5            -4.793848                -28.828488   \n",
       "6         6     easy    2956.5            -4.770826                -33.601319   \n",
       "7         7     easy    2956.5            -4.744015                -38.347335   \n",
       "8         8     easy    2956.5            -4.747015                -43.096353   \n",
       "9         9     easy    2956.5            -4.758230                -47.856590   \n",
       "10       10     easy    2956.5            -4.816063                -52.674653   \n",
       "11       11     easy    2956.5            -4.689646                -57.366302   \n",
       "12       12     easy    2956.5            -4.749361                -62.117659   \n",
       "13       13     easy    2956.5            -4.835398                -66.955071   \n",
       "14       14     easy    2956.5            -4.897855                -71.854922   \n",
       "15       15     easy    2956.5            -4.749882                -76.606802   \n",
       "16       16     easy    2956.5            -4.786603                -81.395401   \n",
       "17       17     easy    2956.5            -4.822018                -86.219425   \n",
       "18       18     easy    2956.5            -4.759024                -90.980454   \n",
       "19       19     easy    2956.5            -4.800897                -95.783337   \n",
       "20       20     easy    2956.5            -4.833540               -100.618872   \n",
       "21       21     easy    2956.5            -4.792312               -105.413182   \n",
       "22       22     easy    2956.5            -4.742151               -110.157322   \n",
       "23       23     easy    2956.5            -4.761522               -114.920849   \n",
       "24       24     easy    2956.5            -4.757634               -119.680479   \n",
       "25       25     easy    2956.5            -4.821960               -124.504444   \n",
       "26       26     easy    2956.5            -4.872081               -129.378529   \n",
       "27       27     easy    2956.5            -4.794268               -134.174789   \n",
       "28       28     easy    2956.5            -4.788973               -138.965774   \n",
       "29       29     easy    2956.5            -4.742006               -143.709777   \n",
       "30       30     easy    2956.5            -4.816155               -148.527936   \n",
       "31       31     easy    2956.5            -4.767128               -153.297070   \n",
       "\n",
       "    covid_status  days_since_first_infection  \n",
       "0       0.000676                        1.00  \n",
       "1       0.000676                        2.00  \n",
       "2       0.000676                        3.00  \n",
       "3       0.000676                        4.00  \n",
       "4       0.000676                        5.00  \n",
       "5       0.000676                        6.00  \n",
       "6       0.000676                        7.00  \n",
       "7       0.000676                        8.00  \n",
       "8       0.000676                        9.00  \n",
       "9       0.000676                       10.00  \n",
       "10      0.000338                        5.50  \n",
       "11      0.000338                        6.00  \n",
       "12      0.000169                        3.25  \n",
       "13      0.000169                        3.50  \n",
       "14      0.000169                        3.75  \n",
       "15      0.000169                        4.00  \n",
       "16      0.000169                        4.25  \n",
       "17      0.000169                        4.50  \n",
       "18      0.000169                        4.75  \n",
       "19      0.000169                        5.00  \n",
       "20      0.000169                        5.25  \n",
       "21      0.000169                        5.50  \n",
       "22      0.000169                        5.75  \n",
       "23      0.000169                        6.00  \n",
       "24      0.000169                        6.25  \n",
       "25      0.000169                        6.50  \n",
       "26      0.000169                        6.75  \n",
       "27      0.000169                        7.00  \n",
       "28      0.000169                        7.25  \n",
       "29      0.000169                        7.50  \n",
       "30      0.000169                        7.75  \n",
       "31      0.000169                        8.00  "
      ]
     },
     "execution_count": 6,
     "metadata": {},
     "output_type": "execute_result"
    }
   ],
   "source": [
    "grouped_data = data.groupby(['step_id', 'lockdown']).mean().reset_index()\n",
    "grouped_data"
   ]
  },
  {
   "cell_type": "code",
   "execution_count": 7,
   "metadata": {},
   "outputs": [],
   "source": [
    "infected = data[data['covid_status'] == 1]"
   ]
  },
  {
   "cell_type": "code",
   "execution_count": 8,
   "metadata": {},
   "outputs": [
    {
     "name": "stdout",
     "output_type": "stream",
     "text": [
      "There have been 4 infected individuals\n"
     ]
    }
   ],
   "source": [
    "print(f\"There have been {infected['agent_id'].nunique()} infected individuals\")"
   ]
  },
  {
   "cell_type": "code",
   "execution_count": 9,
   "metadata": {},
   "outputs": [
    {
     "name": "stdout",
     "output_type": "stream",
     "text": [
      "There have been positive for 64.0 days\n"
     ]
    }
   ],
   "source": [
    "print(f\"There have been positive for {infected.groupby('agent_id')['days_since_first_infection'].max().sum()} days\")"
   ]
  },
  {
   "cell_type": "code",
   "execution_count": 10,
   "metadata": {},
   "outputs": [
    {
     "name": "stdout",
     "output_type": "stream",
     "text": [
      "The maximum duration of the infection was 32.0 days\n"
     ]
    }
   ],
   "source": [
    "print(f\"The maximum duration of the infection was {infected['days_since_first_infection'].max()} days\")"
   ]
  },
  {
   "cell_type": "markdown",
   "metadata": {},
   "source": [
    "### Cumulative mental health across time per agent"
   ]
  },
  {
   "cell_type": "code",
   "execution_count": 14,
   "metadata": {},
   "outputs": [],
   "source": [
    "agg_df = data.groupby(['step_id', 'lockdown'])['cumulative_mental_health'].mean().reset_index()\n",
    "agg_df['label'] = 'average'\n",
    "\n",
    "few_points = data[data['agent_id'] <= 3]\n",
    "other_points = data[data['agent_id'] > 3]\n",
    "\n",
    "max_step_ids = data.groupby('lockdown')['step_id'].max().reset_index()\n"
   ]
  },
  {
   "cell_type": "code",
   "execution_count": 15,
   "metadata": {},
   "outputs": [],
   "source": [
    "# Create a dictionary with a unique color for each agent_id\n",
    "colors = {}\n",
    "unique_agents = data['agent_id'].unique()\n",
    "for agent in unique_agents:\n",
    "    if agent <= 3:\n",
    "        colors[agent] = {0: \"#386cb0\", 1: \"#fdb462\", 2: \"#7fc97f\", 3: \"darkred\"}[agent]\n",
    "    else:\n",
    "        colors[agent] = \"gainsboro\"\n"
   ]
  },
  {
   "cell_type": "code",
   "execution_count": 17,
   "metadata": {},
   "outputs": [],
   "source": [
    "n_days = 31"
   ]
  },
  {
   "cell_type": "code",
   "execution_count": 18,
   "metadata": {},
   "outputs": [
    {
     "data": {
      "image/png": "[encoded data removed]",
      "text/plain": [
       "<Figure size 1000x600 with 1 Axes>"
      ]
     },
     "metadata": {},
     "output_type": "display_data"
    }
   ],
   "source": [
    "fig, ax = plt.subplots(figsize=(10, 6))\n",
    "\n",
    "# other_points\n",
    "sns.lineplot(data=other_points, x='step_id', y='cumulative_mental_health', hue='agent_id', palette=colors, legend=False)\n",
    "sns.scatterplot(data=other_points, x='step_id', y='cumulative_mental_health', hue='agent_id', palette=colors, s=30, legend=False)\n",
    "\n",
    "# few_points\n",
    "sns.lineplot(data=few_points, x='step_id', y='cumulative_mental_health', hue='agent_id', palette=colors, ax=ax)\n",
    "sns.scatterplot(data=few_points, x='step_id', y='cumulative_mental_health', hue='agent_id', palette=colors, s=30, ax=ax)\n",
    "\n",
    "# agg_df\n",
    "sns.lineplot(data=agg_df, x='step_id', y='cumulative_mental_health', color='black', ax=ax, size=2)\n",
    "sns.scatterplot(data=agg_df, x='step_id', y='cumulative_mental_health', color='black', s=20, ax=ax)\n",
    "\n",
    "vector = [i * n_days for i in range(1)]\n",
    "\n",
    "# add lockdown labels and dotted lines\n",
    "for x_val, label in zip(vector, ['easy']):\n",
    "    ax.axvline(x=x_val, linestyle='--', color='gray')\n",
    "    ax.text(x=x_val, y=ax.get_ylim()[1], s=label, va='bottom', ha='center')\n",
    "\n",
    "avg_mh_text_y = agg_df[agg_df['step_id'] == agg_df['step_id'].max()]['cumulative_mental_health'].values[0]\n",
    "ax.text(n_days+5, avg_mh_text_y, 'average', va='center', ha='center', color='black')\n",
    "\n",
    "ax.set_xlabel('step (1 step = 1 day)')\n",
    "ax.set_ylabel('Cumulative betas of actions’ effect')\n",
    "ax.get_legend().remove()\n",
    "\n",
    "plt.show()\n"
   ]
  },
  {
   "cell_type": "markdown",
   "metadata": {},
   "source": [
    "### Average mental health for each step coloured by lockdown type"
   ]
  },
  {
   "cell_type": "code",
   "execution_count": 20,
   "metadata": {
    "collapsed": false,
    "jupyter": {
     "outputs_hidden": false
    }
   },
   "outputs": [
    {
     "data": {
      "image/png": "[encoded data removed]",
      "text/plain": [
       "<Figure size 1000x600 with 1 Axes>"
      ]
     },
     "metadata": {},
     "output_type": "display_data"
    }
   ],
   "source": [
    "plt.figure(figsize=(10, 6))\n",
    "sns.scatterplot(data=grouped_data, x='step_id', y='cumulative_mental_health', hue='lockdown')\n",
    "plt.xlabel('Steps')\n",
    "plt.ylabel('Average Cumulative betas of actions’ effect')\n",
    "plt.title('Mental health progression over time. 1 step = 1 day.')\n",
    "plt.show()"
   ]
  },
  {
   "cell_type": "markdown",
   "metadata": {},
   "source": [
    "# Step 4. compute probability of developing symptomps of depression"
   ]
  },
  {
   "cell_type": "markdown",
   "metadata": {},
   "source": [
    "This function is not part of the package, however I provide it here as a suggestion on how to convert he cumulative betas of actions' effect into an estimation of the risk of developing symptoms of depression."
   ]
  },
  {
   "cell_type": "code",
   "execution_count": 21,
   "metadata": {},
   "outputs": [],
   "source": [
    "import numpy as np\n",
    "\n",
    "def convert_beta_to_probability(beta: float, bmax: float) -> float:\n",
    "    \"\"\"\n",
    "    Convert a beta value to the probability of becoming depressed.\n",
    "    \n",
    "    This function calculates the probability of becoming depressed based on a given beta value\n",
    "    and a maximum beta value, using a sigmoid function. The baseline probability\n",
    "    of depression is set according to the prevalence of depressive disorders in the Netherlands (NL).\n",
    "    \n",
    "    Parameters:\n",
    "    - beta (float): The beta value for which to compute the probability of depression.\n",
    "    - bmax (float): The maximum beta value (beta_max) corresponding to a high probability of depression.\n",
    "    \n",
    "    Returns:\n",
    "    - float: The computed probability of becoming depressed.\n",
    "    \n",
    "    Reference:\n",
    "    - Prevalence of depressive disorders data is from Our World in Data for the Netherlands (NL). \n",
    "    See https://ourworldindata.org/grapher/depressive-disorders-prevalence-ihme?tab=chart&country=NLD\n",
    "    \"\"\"\n",
    "    # Baseline probability of depression in the NL\n",
    "    p0 = 0.035\n",
    "    \n",
    "    # Beta for which we want 0.9 probability of being depressed\n",
    "    beta_max = bmax\n",
    "    \n",
    "    # Compute A - risk scaling factor\n",
    "    p0_ = np.log((1 - p0) / p0)\n",
    "    diff_prob = np.log((1 - 0.9) / 0.9)\n",
    "    A = (p0_ - diff_prob) * beta_max\n",
    "    \n",
    "    # compute X0 - risk baseline\n",
    "    X0 = A * p0_\n",
    "    \n",
    "    # Convert beta to probability\n",
    "    p_beta = 1 / (1 + np.exp((X0 - beta) / A))\n",
    "    \n",
    "    return p_beta"
   ]
  },
  {
   "cell_type": "code",
   "execution_count": 26,
   "metadata": {},
   "outputs": [],
   "source": [
    "betas = data['cumulative_mental_health']\n",
    "coeff = 0.01 # < numbers equal less variability, > numbers more variability\n",
    "delta_beta = max(betas) - min(betas)"
   ]
  },
  {
   "cell_type": "code",
   "execution_count": 28,
   "metadata": {},
   "outputs": [],
   "source": [
    "p = convert_beta_to_probability(betas, bmax = (coeff * delta_beta))"
   ]
  },
  {
   "cell_type": "code",
   "execution_count": 35,
   "metadata": {},
   "outputs": [
    {
     "data": {
      "image/png": "[encoded data removed]",
      "text/plain": [
       "<Figure size 640x480 with 1 Axes>"
      ]
     },
     "metadata": {},
     "output_type": "display_data"
    }
   ],
   "source": [
    "sns.histplot(p, bins=10)\n",
    "plt.show()"
   ]
  },
  {
   "cell_type": "code",
   "execution_count": null,
   "metadata": {},
   "outputs": [],
   "source": []
  }
 ],
 "metadata": {
  "kernelspec": {
   "display_name": "Python 3 (ipykernel)",
   "language": "python",
   "name": "python3"
  },
  "language_info": {
   "codemirror_mode": {
    "name": "ipython",
    "version": 3
   },
   "file_extension": ".py",
   "mimetype": "text/x-python",
   "name": "python",
   "nbconvert_exporter": "python",
   "pygments_lexer": "ipython3",
   "version": "3.9.16"
  }
 },
 "nbformat": 4,
 "nbformat_minor": 4
}
