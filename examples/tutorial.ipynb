{
 "cells": [
  {
   "cell_type": "code",
   "execution_count": 7,
   "metadata": {
    "collapsed": true
   },
   "outputs": [],
   "source": [
    "from mhm.model import Model\n",
    "import random"
   ]
  },
  {
   "cell_type": "markdown",
   "source": [
    "Let's define some parameters for the agents:"
   ],
   "metadata": {
    "collapsed": false
   }
  },
  {
   "cell_type": "code",
   "execution_count": 8,
   "outputs": [],
   "source": [
    "# parameters for generating the population\n",
    "# NB: to separate categorical columns from the rest, values of categoricals should be strings\n",
    "\n",
    "## age\n",
    "# # No need to create the exact ages\n",
    "# def create_age_distribution(ages: np.array, p:np.array):\n",
    "#     \"\"\"Create age distribution based on age group distribution.\n",
    "\n",
    "#     Assumption here is that within a group, age distributions are uniformed.\n",
    "\n",
    "#     Args:\n",
    "#         ages (np.array): _description_\n",
    "#         n_groups (int): _description_\n",
    "#         p (np.array): _description_\n",
    "#     \"\"\"\n",
    "#     groups = np.array_split(np.array(ages), p.size)\n",
    "#     group_sizes = [g.size for g in groups]\n",
    "#     prop_per_group = p / group_sizes\n",
    "#     return np.repeat(prop_per_group, group_sizes)\n",
    "\n",
    "# min_age = 24\n",
    "# max_age = 65\n",
    "# props_age_groups = np.array([.25, .23, .31, .21])\n",
    "\n",
    "# ages = np.arange(min_age, max_age + 1)\n",
    "# age = (\n",
    "#     ages,\n",
    "#     create_age_distribution(ages, props_age_groups)\n",
    "# )\n",
    "\n",
    "age_group = (\n",
    "    ['_1', '_2', '_3', '_4'],\n",
    "    [.25, .23, .31, .21]\n",
    ")\n",
    "\n",
    "gender = (\n",
    "    [0, 1],\n",
    "    [.5, .5]\n",
    ")\n",
    "\n",
    "education = (\n",
    "    ['Low', 'Medium', 'High'],\n",
    "    [.11, .25, .64]\n",
    ")\n",
    "\n",
    "employed = (\n",
    "    ['No, other', 'No, seeking employment', 'Yes'],\n",
    "    [.76, .155, .085]\n",
    ")\n",
    "\n",
    "partnership_status = (\n",
    "    ['Single', 'Married', 'Live-in partner', 'In relationship, no cohabitation', 'Other'],\n",
    "    [.2, .41, .29, .09, .01]\n",
    ")\n",
    "\n",
    "pre_existing_depression = (\n",
    "    [0, 1], # false, true\n",
    "    [.8, .2]\n",
    ")\n",
    "\n",
    "pre_existing_burnout = (\n",
    "    [0, 1], # false, true\n",
    "    [.27, .73]\n",
    ")\n",
    "\n",
    "pre_existing_addiction = (\n",
    "    [0, 1], # false, true\n",
    "    [.95, .05]\n",
    ")\n",
    "\n",
    "pre_existing_chronic_fatigue = (\n",
    "    [0, 1], # false, true\n",
    "    [.95, .05]\n",
    ")\n",
    "\n",
    "parenthood = (\n",
    "    [0, 1], # no child, single parent, complete parents\n",
    "    [.93, .07]\n",
    ")\n",
    "\n",
    "living_with_child = (\n",
    "    [0, 1],\n",
    "    [.42, .58]\n",
    ")\n",
    "\n",
    "single_parent = (\n",
    "    [0, 1],\n",
    "    [.95, .05]\n",
    ")\n",
    "\n",
    "housing_difficulties = (\n",
    "    ['No', 'Some', 'Many'],\n",
    "    [0.79, 0.18, 0.03]\n",
    ")\n",
    "\n",
    "finance_difficulties = (\n",
    "    ['No', 'Some', 'Many'],\n",
    "    [.75, .13, .12]\n",
    ")\n",
    "\n",
    "pre_existing_health_issues = (\n",
    "    ['No', 'Some', 'Many'],\n",
    "    [.65, .20, .15]\n",
    ")\n",
    "\n",
    "partner_difficulties = (\n",
    "    ['No', 'Some', 'Many', 'Other'],\n",
    "    [.67, .18, .05, .1]\n",
    ")\n",
    "\n",
    "job_type = (\n",
    "    ['white_collar', 'medical_professional', 'key_worker', 'other'],\n",
    "    [.2, .2, .2, .4]\n",
    ")\n",
    "\n",
    "area = (\n",
    "    ['urban', 'rural'],\n",
    "    [.7, .3]\n",
    ")\n",
    "\n",
    "ses = (\n",
    "    ['low', 'medium', 'high'],\n",
    "    [.15, .55, .3]\n",
    ")"
   ],
   "metadata": {
    "collapsed": false
   }
  },
  {
   "cell_type": "markdown",
   "source": [
    "Initialise the model"
   ],
   "metadata": {
    "collapsed": false
   }
  },
  {
   "cell_type": "code",
   "execution_count": 9,
   "outputs": [],
   "source": [
    "model = Model()"
   ],
   "metadata": {
    "collapsed": false
   }
  },
  {
   "cell_type": "code",
   "execution_count": 10,
   "outputs": [],
   "source": [
    "size = 100\n",
    "model.setup(size,\n",
    "        gender=gender,\n",
    "        age_group=age_group,\n",
    "        education=education,\n",
    "        employed=employed,\n",
    "        partnership_status=partnership_status,\n",
    "        pre_existing_depression=pre_existing_depression,\n",
    "        pre_existing_burnout=pre_existing_burnout,\n",
    "        pre_existing_addiction=pre_existing_addiction,\n",
    "        pre_existing_chronic_fatigue=pre_existing_chronic_fatigue,\n",
    "        parenthood=parenthood,\n",
    "        living_with_child=living_with_child,\n",
    "        single_parent=single_parent,\n",
    "        housing_difficulties=housing_difficulties,\n",
    "        finance_difficulties=finance_difficulties,\n",
    "        pre_existing_health_issues=pre_existing_health_issues,\n",
    "        partner_difficulties=partner_difficulties,\n",
    "        job_type=job_type,\n",
    "        area=area,\n",
    "        ses=ses)"
   ],
   "metadata": {
    "collapsed": false
   }
  },
  {
   "cell_type": "markdown",
   "source": [
    "Run the model. This will output \"simulation_results.csv\""
   ],
   "metadata": {
    "collapsed": false
   }
  },
  {
   "cell_type": "markdown",
   "source": [
    "You can define the type of lockdown (among \"hard\", \"easy\", \"medium\", \"no_lockdown\") and the number of steps"
   ],
   "metadata": {
    "collapsed": false
   }
  },
  {
   "cell_type": "code",
   "execution_count": 11,
   "outputs": [],
   "source": [
    "lockdowns = ['absent', 'easy', 'medium', 'hard']\n",
    "steps = 10\n",
    "repeated_entries = lockdowns * (steps // len(lockdowns)) + lockdowns[:steps % len(lockdowns)]\n",
    "randomised_lockdowns = random.sample(repeated_entries, len(repeated_entries))"
   ],
   "metadata": {
    "collapsed": false
   }
  },
  {
   "cell_type": "code",
   "execution_count": 12,
   "outputs": [],
   "source": [
    "model.run(steps=steps, lockdown=randomised_lockdowns, out_path=\"simulation_results.csv\")"
   ],
   "metadata": {
    "collapsed": false
   }
  },
  {
   "cell_type": "code",
   "execution_count": null,
   "outputs": [],
   "source": [],
   "metadata": {
    "collapsed": false
   }
  }
 ],
 "metadata": {
  "kernelspec": {
   "display_name": "Python 3",
   "language": "python",
   "name": "python3"
  },
  "language_info": {
   "codemirror_mode": {
    "name": "ipython",
    "version": 2
   },
   "file_extension": ".py",
   "mimetype": "text/x-python",
   "name": "python",
   "nbconvert_exporter": "python",
   "pygments_lexer": "ipython2",
   "version": "2.7.6"
  }
 },
 "nbformat": 4,
 "nbformat_minor": 0
}
